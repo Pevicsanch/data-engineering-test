{
 "cells": [
  {
   "cell_type": "code",
   "execution_count": 1,
   "metadata": {},
   "outputs": [],
   "source": [
    "import requests\n",
    "import pandas as pd\n",
    "import numpy as np"
   ]
  },
  {
   "cell_type": "code",
   "execution_count": 2,
   "metadata": {},
   "outputs": [
    {
     "name": "stdout",
     "output_type": "stream",
     "text": [
      "Downloaded ../data/orders.csv\n",
      "Downloaded ../data/invoicing_data.json\n"
     ]
    }
   ],
   "source": [
    "# fuction to get the data \n",
    "\n",
    "\n",
    "# Function to download a file from a URL and save it in the `data` folder\n",
    "def download_file(url, local_filename):\n",
    "    response = requests.get(url)\n",
    "    if response.status_code == 200:\n",
    "        with open(local_filename, 'wb') as file:\n",
    "            file.write(response.content)\n",
    "        print(f\"Downloaded {local_filename}\")\n",
    "    else:\n",
    "        print(f\"Failed to download {local_filename}. Status code: {response.status_code}\")\n",
    "\n",
    "# URLs for the files\n",
    "url_orders = 'https://github.com/Digital-IFCO/data-engineering-test/blob/main/resources/orders.csv'  # Replace with the actual URL of orders.csv\n",
    "url_invoicing = 'https://github.com/Digital-IFCO/data-engineering-test/blob/main/resources/invoicing_data.json'  # Replace with the actual URL of invoicing_data.json\n",
    "\n",
    "# Download the files into the `data` folder\n",
    "download_file(url_orders, '../data/orders.csv')\n",
    "download_file(url_invoicing, '../data/invoicing_data.json')"
   ]
  }
 ],
 "metadata": {
  "kernelspec": {
   "display_name": ".data_eng",
   "language": "python",
   "name": "python3"
  },
  "language_info": {
   "codemirror_mode": {
    "name": "ipython",
    "version": 3
   },
   "file_extension": ".py",
   "mimetype": "text/x-python",
   "name": "python",
   "nbconvert_exporter": "python",
   "pygments_lexer": "ipython3",
   "version": "3.11.5"
  }
 },
 "nbformat": 4,
 "nbformat_minor": 2
}
