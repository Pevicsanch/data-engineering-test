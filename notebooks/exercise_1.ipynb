{
 "cells": [
  {
   "cell_type": "code",
   "execution_count": 1,
   "metadata": {},
   "outputs": [],
   "source": [
    "import requests\n",
    "import pandas as pd\n",
    "import numpy as np"
   ]
  },
  {
   "cell_type": "markdown",
   "metadata": {},
   "source": [
    "# Get the data"
   ]
  },
  {
   "cell_type": "code",
   "execution_count": 2,
   "metadata": {},
   "outputs": [
    {
     "name": "stdout",
     "output_type": "stream",
     "text": [
      "Downloaded ../data/orders.csv\n",
      "Downloaded ../data/invoicing_data.json\n"
     ]
    }
   ],
   "source": [
    "# fuction to get the data \n",
    "\n",
    "\n",
    "# Function to download a file from a URL and save it in the `data` folder\n",
    "def download_file(url, local_filename):\n",
    "    response = requests.get(url)\n",
    "    if response.status_code == 200:\n",
    "        with open(local_filename, 'wb') as file:\n",
    "            file.write(response.content)\n",
    "        print(f\"Downloaded {local_filename}\")\n",
    "    else:\n",
    "        print(f\"Failed to download {local_filename}. Status code: {response.status_code}\")\n",
    "\n",
    "url_orders = 'https://raw.githubusercontent.com/Digital-IFCO/data-engineering-test/main/resources/orders.csv'\n",
    "url_invoicing = 'https://raw.githubusercontent.com/Digital-IFCO/data-engineering-test/main/resources/invoicing_data.json'\n",
    "\n",
    "# Download the files into the `data` folder\n",
    "download_file(url_orders, '../data/orders.csv')\n",
    "download_file(url_invoicing, '../data/invoicing_data.json')"
   ]
  },
  {
   "cell_type": "code",
   "execution_count": 3,
   "metadata": {},
   "outputs": [
    {
     "data": {
      "text/html": [
       "<div>\n",
       "<style scoped>\n",
       "    .dataframe tbody tr th:only-of-type {\n",
       "        vertical-align: middle;\n",
       "    }\n",
       "\n",
       "    .dataframe tbody tr th {\n",
       "        vertical-align: top;\n",
       "    }\n",
       "\n",
       "    .dataframe thead th {\n",
       "        text-align: right;\n",
       "    }\n",
       "</style>\n",
       "<table border=\"1\" class=\"dataframe\">\n",
       "  <thead>\n",
       "    <tr style=\"text-align: right;\">\n",
       "      <th></th>\n",
       "      <th>order_id</th>\n",
       "      <th>date</th>\n",
       "      <th>company_id</th>\n",
       "      <th>company_name</th>\n",
       "      <th>crate_type</th>\n",
       "      <th>contact_data</th>\n",
       "      <th>salesowners</th>\n",
       "    </tr>\n",
       "  </thead>\n",
       "  <tbody>\n",
       "    <tr>\n",
       "      <th>0</th>\n",
       "      <td>f47ac10b-58cc-4372-a567-0e02b2c3d479</td>\n",
       "      <td>29.01.22</td>\n",
       "      <td>1e2b47e6-499e-41c6-91d3-09d12dddfbbd</td>\n",
       "      <td>Fresh Fruits Co</td>\n",
       "      <td>Plastic</td>\n",
       "      <td>[{ \"contact_name\":\"Curtis\", \"contact_surname\":...</td>\n",
       "      <td>Leonard Cohen, Luke Skywalker, Ammy Winehouse</td>\n",
       "    </tr>\n",
       "    <tr>\n",
       "      <th>1</th>\n",
       "      <td>f47ac10b-58cc-4372-a567-0e02b2c3d480</td>\n",
       "      <td>21.02.22</td>\n",
       "      <td>0f05a8f1-2bdf-4be7-8c82-4c9b58f04898</td>\n",
       "      <td>Veggies Inc</td>\n",
       "      <td>Wood</td>\n",
       "      <td>[{ \"contact_name\":\"Maria\", \"contact_surname\":\"...</td>\n",
       "      <td>Luke Skywalker, David Goliat, Leon Leonov</td>\n",
       "    </tr>\n",
       "    <tr>\n",
       "      <th>2</th>\n",
       "      <td>f47ac10b-58cc-4372-a567-0e02b2c3d481</td>\n",
       "      <td>03.04.22</td>\n",
       "      <td>1e2b47e6-499e-41c6-91d3-09d12dddfbbd</td>\n",
       "      <td>Fresh Fruits c.o</td>\n",
       "      <td>Metal</td>\n",
       "      <td>[{ \"contact_name\":\"Para\", \"contact_surname\":\"C...</td>\n",
       "      <td>Luke Skywalker</td>\n",
       "    </tr>\n",
       "    <tr>\n",
       "      <th>3</th>\n",
       "      <td>f47ac10b-58cc-4372-a567-0e02b2c3d482</td>\n",
       "      <td>14.07.21</td>\n",
       "      <td>1c4b0b50-1d5d-463a-b56e-1a6fd3aeb7d6</td>\n",
       "      <td>Seafood Supplier</td>\n",
       "      <td>Plastic</td>\n",
       "      <td>NaN</td>\n",
       "      <td>David Goliat, Leonard Cohen</td>\n",
       "    </tr>\n",
       "    <tr>\n",
       "      <th>4</th>\n",
       "      <td>f47ac10b-58cc-4372-a567-0e02b2c3d483</td>\n",
       "      <td>23.10.22</td>\n",
       "      <td>34538e39-cd2e-4641-8d24-3c94146e6f16</td>\n",
       "      <td>Meat Packers Ltd</td>\n",
       "      <td>Plastic</td>\n",
       "      <td>NaN</td>\n",
       "      <td>Chris Pratt, David Henderson, Marianov Merschi...</td>\n",
       "    </tr>\n",
       "  </tbody>\n",
       "</table>\n",
       "</div>"
      ],
      "text/plain": [
       "                               order_id      date  \\\n",
       "0  f47ac10b-58cc-4372-a567-0e02b2c3d479  29.01.22   \n",
       "1  f47ac10b-58cc-4372-a567-0e02b2c3d480  21.02.22   \n",
       "2  f47ac10b-58cc-4372-a567-0e02b2c3d481  03.04.22   \n",
       "3  f47ac10b-58cc-4372-a567-0e02b2c3d482  14.07.21   \n",
       "4  f47ac10b-58cc-4372-a567-0e02b2c3d483  23.10.22   \n",
       "\n",
       "                             company_id      company_name crate_type  \\\n",
       "0  1e2b47e6-499e-41c6-91d3-09d12dddfbbd   Fresh Fruits Co    Plastic   \n",
       "1  0f05a8f1-2bdf-4be7-8c82-4c9b58f04898       Veggies Inc       Wood   \n",
       "2  1e2b47e6-499e-41c6-91d3-09d12dddfbbd  Fresh Fruits c.o      Metal   \n",
       "3  1c4b0b50-1d5d-463a-b56e-1a6fd3aeb7d6  Seafood Supplier    Plastic   \n",
       "4  34538e39-cd2e-4641-8d24-3c94146e6f16  Meat Packers Ltd    Plastic   \n",
       "\n",
       "                                        contact_data  \\\n",
       "0  [{ \"contact_name\":\"Curtis\", \"contact_surname\":...   \n",
       "1  [{ \"contact_name\":\"Maria\", \"contact_surname\":\"...   \n",
       "2  [{ \"contact_name\":\"Para\", \"contact_surname\":\"C...   \n",
       "3                                                NaN   \n",
       "4                                                NaN   \n",
       "\n",
       "                                         salesowners  \n",
       "0      Leonard Cohen, Luke Skywalker, Ammy Winehouse  \n",
       "1          Luke Skywalker, David Goliat, Leon Leonov  \n",
       "2                                     Luke Skywalker  \n",
       "3                        David Goliat, Leonard Cohen  \n",
       "4  Chris Pratt, David Henderson, Marianov Merschi...  "
      ]
     },
     "execution_count": 3,
     "metadata": {},
     "output_type": "execute_result"
    }
   ],
   "source": [
    "\n",
    "# Cargar el archivo orders.csv\n",
    "orders = pd.read_csv('../data/orders.csv',delimiter=';')\n",
    "\n",
    "# Verificar las primeras filas para revisar la estructura de los datos\n",
    "orders.head()"
   ]
  },
  {
   "cell_type": "markdown",
   "metadata": {},
   "source": [
    "# Distribution of Crate Type per Company\n"
   ]
  },
  {
   "cell_type": "code",
   "execution_count": 4,
   "metadata": {},
   "outputs": [
    {
     "data": {
      "text/html": [
       "<div>\n",
       "<style scoped>\n",
       "    .dataframe tbody tr th:only-of-type {\n",
       "        vertical-align: middle;\n",
       "    }\n",
       "\n",
       "    .dataframe tbody tr th {\n",
       "        vertical-align: top;\n",
       "    }\n",
       "\n",
       "    .dataframe thead th {\n",
       "        text-align: right;\n",
       "    }\n",
       "</style>\n",
       "<table border=\"1\" class=\"dataframe\">\n",
       "  <thead>\n",
       "    <tr style=\"text-align: right;\">\n",
       "      <th></th>\n",
       "      <th>company_id</th>\n",
       "      <th>crate_type</th>\n",
       "      <th>order_count</th>\n",
       "    </tr>\n",
       "  </thead>\n",
       "  <tbody>\n",
       "    <tr>\n",
       "      <th>0</th>\n",
       "      <td>012f20c6-00d5-4f45-999f-12e7639db623</td>\n",
       "      <td>Plastic</td>\n",
       "      <td>1</td>\n",
       "    </tr>\n",
       "    <tr>\n",
       "      <th>1</th>\n",
       "      <td>063a7dc7-b93a-4f38-b7f0-0e30b5b217ac</td>\n",
       "      <td>Wood</td>\n",
       "      <td>1</td>\n",
       "    </tr>\n",
       "    <tr>\n",
       "      <th>2</th>\n",
       "      <td>0b8755d4-3d28-4039-b9a7-b30cb5ff02ea</td>\n",
       "      <td>Wood</td>\n",
       "      <td>1</td>\n",
       "    </tr>\n",
       "    <tr>\n",
       "      <th>3</th>\n",
       "      <td>0d09ae2b-d9a5-4d67-bb97-963be9379b4e</td>\n",
       "      <td>Plastic</td>\n",
       "      <td>1</td>\n",
       "    </tr>\n",
       "    <tr>\n",
       "      <th>4</th>\n",
       "      <td>0f05a8f1-2bdf-4be7-8c82-4c9b58f04898</td>\n",
       "      <td>Plastic</td>\n",
       "      <td>1</td>\n",
       "    </tr>\n",
       "  </tbody>\n",
       "</table>\n",
       "</div>"
      ],
      "text/plain": [
       "                             company_id crate_type  order_count\n",
       "0  012f20c6-00d5-4f45-999f-12e7639db623    Plastic            1\n",
       "1  063a7dc7-b93a-4f38-b7f0-0e30b5b217ac       Wood            1\n",
       "2  0b8755d4-3d28-4039-b9a7-b30cb5ff02ea       Wood            1\n",
       "3  0d09ae2b-d9a5-4d67-bb97-963be9379b4e    Plastic            1\n",
       "4  0f05a8f1-2bdf-4be7-8c82-4c9b58f04898    Plastic            1"
      ]
     },
     "execution_count": 4,
     "metadata": {},
     "output_type": "execute_result"
    }
   ],
   "source": [
    "import pandas as pd\n",
    "import logging\n",
    "\n",
    "# Configurar el logging para mostrar advertencias\n",
    "logging.basicConfig(level=logging.INFO, format='%(asctime)s - %(levelname)s - %(message)s')\n",
    "\n",
    "# Cargar el archivo orders.csv con el delimitador adecuado\n",
    "orders = pd.read_csv('../data/orders.csv', delimiter=';')\n",
    "\n",
    "# Verificar y manejar valores faltantes en 'company_id' y 'crate_type'\n",
    "if orders['company_id'].isnull().any():\n",
    "    logging.warning(\"Some rows have missing 'company_id'. These rows will be excluded from the distribution calculation.\")\n",
    "    orders = orders.dropna(subset=['company_id'])  # Excluir filas sin 'company_id'\n",
    "\n",
    "if orders['crate_type'].isnull().any():\n",
    "    logging.warning(\"Some rows have missing 'crate_type'. These rows will be excluded from the distribution calculation.\")\n",
    "    orders = orders.dropna(subset=['crate_type'])  # Excluir filas sin 'crate_type'\n",
    "\n",
    "# Verificar tipos de datos en 'company_id' y 'crate_type'\n",
    "if not pd.api.types.is_string_dtype(orders['company_id']):\n",
    "    logging.warning(\"'company_id' is not of string type. Converting to string.\")\n",
    "    orders['company_id'] = orders['company_id'].astype(str)\n",
    "\n",
    "if not pd.api.types.is_string_dtype(orders['crate_type']):\n",
    "    logging.warning(\"'crate_type' is not of string type. Converting to string.\")\n",
    "    orders['crate_type'] = orders['crate_type'].astype(str)\n",
    "\n",
    "# Lista de valores permitidos en 'crate_type'\n",
    "valid_crate_types = [\"Plastic\", \"Wood\", \"Metal\"]\n",
    "\n",
    "# Verificar si 'crate_type' contiene valores fuera de los permitidos\n",
    "invalid_crate_types = orders[~orders['crate_type'].isin(valid_crate_types)]\n",
    "if not invalid_crate_types.empty:\n",
    "    logging.warning(f\"Some rows contain invalid crate types. These will be excluded from the calculation.\\n{invalid_crate_types['crate_type'].unique()}\")\n",
    "    orders = orders[orders['crate_type'].isin(valid_crate_types)]\n",
    "\n",
    "# Comprobación de duplicados en 'order_id'\n",
    "if orders['order_id'].duplicated().any():\n",
    "    logging.warning(\"Some rows contain duplicate 'order_id'. These rows may indicate duplicate orders.\")\n",
    "\n",
    "# Calcular la distribución de tipos de cajas por empresa después de las verificaciones\n",
    "distribution = orders.groupby(['company_id', 'crate_type']).size().reset_index(name='order_count')\n",
    "\n",
    "# Mostrar los primeros resultados para verificar el cálculo\n",
    "distribution.head()"
   ]
  },
  {
   "cell_type": "markdown",
   "metadata": {},
   "source": [
    "## task 2\n",
    "\n",
    "\n"
   ]
  },
  {
   "cell_type": "code",
   "execution_count": 5,
   "metadata": {},
   "outputs": [],
   "source": [
    "import json\n",
    "\n",
    "def get_full_name(contact_data):\n",
    "    \"\"\"Extracts full name from contact data or returns 'John Doe' if incomplete.\"\"\"\n",
    "    try:\n",
    "        # Load the contact data as a JSON object\n",
    "        contact_info = json.loads(contact_data)[0]  # Access the dictionary inside the list\n",
    "        first_name = contact_info.get(\"contact_name\", \"\").strip()\n",
    "        last_name = contact_info.get(\"contact_surname\", \"\").strip()\n",
    "        \n",
    "        # If either first or last name is missing, default to \"John Doe\"\n",
    "        if not first_name or not last_name:\n",
    "            return \"John Doe\"\n",
    "        return f\"{first_name} {last_name}\"\n",
    "    except (json.JSONDecodeError, IndexError, TypeError, KeyError):\n",
    "        # In case of unexpected structure, default to \"John Doe\"\n",
    "        return \"John Doe\""
   ]
  },
  {
   "cell_type": "code",
   "execution_count": 6,
   "metadata": {},
   "outputs": [
    {
     "data": {
      "text/html": [
       "<div>\n",
       "<style scoped>\n",
       "    .dataframe tbody tr th:only-of-type {\n",
       "        vertical-align: middle;\n",
       "    }\n",
       "\n",
       "    .dataframe tbody tr th {\n",
       "        vertical-align: top;\n",
       "    }\n",
       "\n",
       "    .dataframe thead th {\n",
       "        text-align: right;\n",
       "    }\n",
       "</style>\n",
       "<table border=\"1\" class=\"dataframe\">\n",
       "  <thead>\n",
       "    <tr style=\"text-align: right;\">\n",
       "      <th></th>\n",
       "      <th>order_id</th>\n",
       "      <th>contact_full_name</th>\n",
       "    </tr>\n",
       "  </thead>\n",
       "  <tbody>\n",
       "    <tr>\n",
       "      <th>0</th>\n",
       "      <td>f47ac10b-58cc-4372-a567-0e02b2c3d479</td>\n",
       "      <td>Curtis Jackson</td>\n",
       "    </tr>\n",
       "    <tr>\n",
       "      <th>1</th>\n",
       "      <td>f47ac10b-58cc-4372-a567-0e02b2c3d480</td>\n",
       "      <td>Maria Theresa</td>\n",
       "    </tr>\n",
       "    <tr>\n",
       "      <th>2</th>\n",
       "      <td>f47ac10b-58cc-4372-a567-0e02b2c3d481</td>\n",
       "      <td>Para Cetamol</td>\n",
       "    </tr>\n",
       "    <tr>\n",
       "      <th>3</th>\n",
       "      <td>f47ac10b-58cc-4372-a567-0e02b2c3d482</td>\n",
       "      <td>John Doe</td>\n",
       "    </tr>\n",
       "    <tr>\n",
       "      <th>4</th>\n",
       "      <td>f47ac10b-58cc-4372-a567-0e02b2c3d483</td>\n",
       "      <td>John Doe</td>\n",
       "    </tr>\n",
       "  </tbody>\n",
       "</table>\n",
       "</div>"
      ],
      "text/plain": [
       "                               order_id contact_full_name\n",
       "0  f47ac10b-58cc-4372-a567-0e02b2c3d479    Curtis Jackson\n",
       "1  f47ac10b-58cc-4372-a567-0e02b2c3d480     Maria Theresa\n",
       "2  f47ac10b-58cc-4372-a567-0e02b2c3d481      Para Cetamol\n",
       "3  f47ac10b-58cc-4372-a567-0e02b2c3d482          John Doe\n",
       "4  f47ac10b-58cc-4372-a567-0e02b2c3d483          John Doe"
      ]
     },
     "execution_count": 6,
     "metadata": {},
     "output_type": "execute_result"
    }
   ],
   "source": [
    "import pandas as pd\n",
    "\n",
    "# Load data\n",
    "file_path = '../data/orders.csv'\n",
    "orders_df = pd.read_csv(file_path, delimiter=';')\n",
    "\n",
    "# Function to extract the full name\n",
    "import json\n",
    "\n",
    "def get_full_name(contact_data):\n",
    "    \"\"\"Extracts full name from contact data or returns 'John Doe' if incomplete.\"\"\"\n",
    "    try:\n",
    "        # Load the contact data as a JSON object\n",
    "        contact_info = json.loads(contact_data)[0]  # Access the dictionary inside the list\n",
    "        first_name = contact_info.get(\"contact_name\", \"\").strip()\n",
    "        last_name = contact_info.get(\"contact_surname\", \"\").strip()\n",
    "        \n",
    "        # If either first or last name is missing, default to \"John Doe\"\n",
    "        if not first_name or not last_name:\n",
    "            return \"John Doe\"\n",
    "        return f\"{first_name} {last_name}\"\n",
    "    except (json.JSONDecodeError, IndexError, TypeError, KeyError):\n",
    "        # In case of unexpected structure, default to \"John Doe\"\n",
    "        return \"John Doe\"\n",
    "\n",
    "# Apply the function to create contact_full_name\n",
    "orders_df['contact_full_name'] = orders_df['contact_data'].apply(get_full_name)\n",
    "\n",
    "# Select relevant columns\n",
    "contact_fullname_df = orders_df[['order_id', 'contact_full_name']]\n",
    "\n",
    "# Display the resulting DataFrame\n",
    "contact_fullname_df.head()"
   ]
  },
  {
   "cell_type": "code",
   "execution_count": 7,
   "metadata": {},
   "outputs": [
    {
     "name": "stderr",
     "output_type": "stream",
     "text": [
      "2024-11-05 21:06:41,987 - INFO - Current working directory: /Users/pedro/Library/CloudStorage/Dropbox/PROYECTOS/others/data-engineering-test/notebooks\n",
      "2024-11-05 21:06:41,989 - INFO - Loaded 62 rows from ../data/orders.csv\n",
      "2024-11-05 21:06:41,989 - INFO - Formatted contact_data: [{ \"contact_name\":\"Curtis\", \"contact_surname\":\"Jackson\", \"city\":\"Chicago\", \"cp\": \"12345\"}]\n",
      "2024-11-05 21:06:41,990 - INFO - Formatted contact_data: [{ \"contact_name\":\"Maria\", \"contact_surname\":\"Theresa\", \"city\":\"Calcutta\"}]\n",
      "2024-11-05 21:06:41,990 - INFO - Formatted contact_data: [{ \"contact_name\":\"Para\", \"contact_surname\":\"Cetamol\", \"city\":\"Frankfurt am Oder\", \"cp\": 3934}]\n",
      "2024-11-05 21:06:41,991 - INFO - Formatted contact_data: [{ \"contact_name\":\"John\", \"contact_surname\":\"Krasinski\", \"city\":\"New York\", \"cp\": \"1203\"}]\n",
      "2024-11-05 21:06:42,032 - INFO - Formatted contact_data: [{ \"contact_name\":\"Jennifer\", \"contact_surname\":\"Lopez\", \"city\":\"Esplugues de Llobregat\"}]\n",
      "2024-11-05 21:06:42,041 - INFO - Formatted contact_data: [{ \"contact_name\":\"Liav\", \"contact_surname\": \"Ichenbaum\", \"city\":\"Tel Aviv\"}]\n",
      "2024-11-05 21:06:42,041 - INFO - Formatted contact_data: [{ \"contact_name\":\"Curtis\", \"contact_surname\":\"Jackson\", \"city\":\"Chicago\", \"cp\": \"12345\"}]\n",
      "2024-11-05 21:06:42,041 - INFO - Formatted contact_data: [{ \"contact_name\":\"Anthony\", \"contact_surname\":\"Pap\", \"city\":\"Barcelona\", \"cp\": 8023}]\n",
      "2024-11-05 21:06:42,041 - INFO - Formatted contact_data: [{ \"contact_name\":\"Natalia\", \"contact_surname\":\"Romanov\", \"city\":\"Moscow\", \"cp\": \"65432\"}]\n",
      "2024-11-05 21:06:42,042 - INFO - Formatted contact_data: [{ \"contact_name\":\"Bruce\", \"contact_surname\":\"Wayne\", \"city\":\"Gotham\"}]\n",
      "2024-11-05 21:06:42,042 - INFO - Formatted contact_data: [{ \"contact_name\":\"Clark\", \"contact_surname\":\"Kent\", \"city\":\"Metropolis\", \"cp\": \"10001\"}]\n",
      "2024-11-05 21:06:42,043 - INFO - Formatted contact_data: [{ \"contact_name\":\"Tony\", \"contact_surname\":\"Stark\", \"city\":\"New York\"}]\n",
      "2024-11-05 21:06:42,043 - INFO - Formatted contact_data: [{ \"contact_name\":\"Diana\", \"contact_surname\":\"Prince\", \"city\":\"Themyscira\", \"cp\": \"45789\"}]\n",
      "2024-11-05 21:06:42,043 - INFO - Formatted contact_data: [{ \"contact_name\":\"Peter\", \"contact_surname\":\"Parker\", \"city\":\"Queens\", \"cp\": \"11432\"}]\n",
      "2024-11-05 21:06:42,044 - INFO - Formatted contact_data: [{ \"contact_name\":\"Steve\", \"contact_surname\":\"Rogers\", \"city\":\"Brooklyn\", \"cp\": \"11201\"}]\n",
      "2024-11-05 21:06:42,044 - INFO - Formatted contact_data: [{ \"contact_name\":\"Natasha\", \"contact_surname\":\"Romanov\", \"city\":\"Moscow\", \"cp\": \"65432\"}]\n",
      "2024-11-05 21:06:42,044 - INFO - Formatted contact_data: [{ \"contact_name\":\"Bruce\", \"contact_surname\":\"Banner\", \"city\":\"San Francisco\", \"cp\": \"94102\"}]\n",
      "2024-11-05 21:06:42,044 - INFO - Formatted contact_data: [{ \"contact_name\":\"Selina\", \"contact_surname\":\"Kyle\", \"city\":\"Gotham\"}]\n",
      "2024-11-05 21:06:42,045 - INFO - Formatted contact_data: [{ \"contact_name\":\"Barry\", \"contact_surname\":\"Allen\", \"city\":\"Central City\", \"cp\": \"56321\"}]\n",
      "2024-11-05 21:06:42,045 - INFO - Formatted contact_data: [{ \"contact_name\":\"Clark\", \"contact_surname\":\"Kent\", \"city\":\"Metropolis\"}]\n",
      "2024-11-05 21:06:42,045 - INFO - Formatted contact_data: [{ \"contact_name\":\"Diana\", \"contact_surname\":\"Prince\", \"city\":\"Themyscira\", \"cp\": \"45789\"}]\n",
      "2024-11-05 21:06:42,046 - INFO - Formatted contact_data: [{ \"contact_name\":\"Bruce\", \"contact_surname\":\"Wayne\", \"city\":\"Gotham\"}]\n",
      "2024-11-05 21:06:42,047 - INFO - Formatted contact_data: [{ \"contact_name\":\"Steve\", \"contact_surname\":\"Rogers\", \"city\":\"Brooklyn\"}]\n",
      "2024-11-05 21:06:42,047 - INFO - Formatted contact_data: [{ \"contact_name\":\"Peter\", \"contact_surname\":\"Parker\", \"city\":\"Queens\", \"cp\": \"11432\"}]\n",
      "2024-11-05 21:06:42,059 - INFO - Formatted contact_data: [{ \"contact_name\":\"Tony\", \"contact_surname\":\"Stark\", \"city\":\"New York\"}]\n",
      "2024-11-05 21:06:42,060 - INFO - Formatted contact_data: [{ \"contact_name\":\"Natalia\", \"contact_surname\":\"Romanov\", \"city\":\"Moscow\", \"cp\": \"65432\"}]\n",
      "2024-11-05 21:06:42,060 - INFO - Formatted contact_data: [{ \"contact_name\":\"Bruce\", \"contact_surname\":\"Banner\", \"city\":\"San Francisco\", \"cp\": \"94102\"}]\n",
      "2024-11-05 21:06:42,061 - INFO - Formatted contact_data: [{ \"contact_name\":\"Curtis\", \"contact_surname\":\"Jackson\", \"city\":\"Chicago\", \"cp\": \"12345\"}]\n",
      "2024-11-05 21:06:42,061 - INFO - Formatted contact_data: [{ \"contact_name\":\"Maria\", \"contact_surname\":\"Theresa\", \"city\":\"Calcutta\"}]\n",
      "2024-11-05 21:06:42,063 - INFO - Formatted contact_data: [{ \"contact_name\":\"Diana\", \"contact_surname\":\"Prince\", \"city\":\"Themyscira\", \"cp\": \"45789\"}]\n",
      "2024-11-05 21:06:42,064 - INFO - Formatted contact_data: [{ \"contact_name\":\"Bruce\", \"contact_surname\":\"Wayne\", \"city\":\"Gotham\"}]\n",
      "2024-11-05 21:06:42,065 - INFO - Formatted contact_data: [{ \"contact_name\":\"Steve\", \"contact_surname\":\"Rogers\", \"city\":\"Brooklyn\", \"cp\": \"11201\"}]\n",
      "2024-11-05 21:06:42,066 - INFO - Formatted contact_data: [{ \"contact_name\":\"Peter\", \"contact_surname\":\"Parker\", \"city\":\"Queens\", \"cp\": \"11432\"}]\n",
      "2024-11-05 21:06:42,066 - INFO - Formatted contact_data: [{ \"contact_name\":\"Curtis\", \"contact_surname\":\"Jackson\", \"city\":\"Chicago\", \"cp\": \"12345\"}]\n",
      "2024-11-05 21:06:42,067 - INFO - Formatted contact_data: [{ \"contact_name\":\"Maria\", \"contact_surname\":\"Theresa\", \"city\":\"Calcutta\"}]\n",
      "2024-11-05 21:06:42,068 - INFO - Formatted contact_data: [{ \"contact_name\":\"Para\", \"contact_surname\":\"Cetamol\", \"city\":\"Frankfurt am Oder\", \"cp\": 3934}]\n",
      "2024-11-05 21:06:42,069 - INFO - Formatted contact_data: [{ \"contact_name\":\"John\", \"contact_surname\":\"Krasinski\", \"city\":\"New York\", \"cp\": \"1203\"}]\n",
      "2024-11-05 21:06:42,069 - INFO - Formatted contact_data: [{ \"contact_name\":\"Jennifer\", \"contact_surname\":\"Lopez\", \"city\":\"Esplugues de Llobregat\"}]\n",
      "2024-11-05 21:06:42,069 - INFO - Formatted contact_data: [{ \"contact_name\":\"Liav\", \"contact_surname\": \"Ichenbaum\", \"city\":\"Tel Aviv\"}]\n",
      "2024-11-05 21:06:42,070 - INFO - Formatted contact_data: [{ \"contact_name\":\"Curtis\", \"contact_surname\":\"Jackson\", \"city\":\"Chicago\", \"cp\": \"12345\"}]\n",
      "2024-11-05 21:06:42,071 - INFO - Formatted contact_data: [{ \"contact_name\":\"Anthony\", \"contact_surname\":\"Pap\", \"city\":\"Barcelona\", \"cp\": 8023}]\n",
      "2024-11-05 21:06:42,071 - INFO - Formatted contact_data: [{ \"contact_name\":\"John\", \"contact_surname\":\"Krasinski\", \"city\":\"New York\", \"cp\": \"1203\"}]\n",
      "2024-11-05 21:06:42,072 - INFO - Formatted contact_data: [{ \"contact_name\":\"Liav\", \"contact_surname\": \"Ichenbaum\", \"city\":\"Tel Aviv\"}\n",
      "2024-11-05 21:06:42,072 - WARNING - Unexpected structure in contact data: [{ \"contact_name\":\"Liav\", \"contact_surname\": \"Ichenbaum\", \"city\":\"Tel Aviv\"}. Error: Expecting ',' delimiter: line 1 column 77 (char 76). Using 'John Doe'.\n",
      "2024-11-05 21:06:42,073 - INFO - Formatted contact_data: [{ \"contact_name\":\"Jennifer\", \"contact_surname\":\"Lopez\", \"city\":\"Esplugues de Llobregat\"}]\n",
      "2024-11-05 21:06:42,074 - INFO - Formatted contact_data: [{ \"contact_name\":\"Curtis\", \"contact_surname\":\"Jackson\", \"city\":\"Chicago\", \"cp\": \"12345\"}]\n",
      "2024-11-05 21:06:42,075 - INFO - Successfully created contact_full_name column.\n",
      "2024-11-05 21:06:42,076 - INFO - Saving DataFrame to /Users/pedro/Library/CloudStorage/Dropbox/PROYECTOS/others/data-engineering-test/output/contact_fullname.csv\n",
      "2024-11-05 21:06:42,080 - INFO - DataFrame successfully saved to /Users/pedro/Library/CloudStorage/Dropbox/PROYECTOS/others/data-engineering-test/output/contact_fullname.csv\n",
      "2024-11-05 21:06:42,081 - INFO - File /Users/pedro/Library/CloudStorage/Dropbox/PROYECTOS/others/data-engineering-test/output/contact_fullname.csv was created successfully.\n"
     ]
    }
   ],
   "source": [
    "import pandas as pd\n",
    "import json\n",
    "import os\n",
    "import logging\n",
    "import re\n",
    "\n",
    "# Configure logging\n",
    "logging.basicConfig(level=logging.INFO, format='%(asctime)s - %(levelname)s - %(message)s')\n",
    "\n",
    "def load_orders(file_path, delimiter=';'):\n",
    "    \"\"\"Loads order data from a CSV file.\"\"\"\n",
    "    try:\n",
    "        df = pd.read_csv(file_path, delimiter=delimiter)\n",
    "        logging.info(f\"Loaded {len(df)} rows from {file_path}\")\n",
    "        return df\n",
    "    except FileNotFoundError:\n",
    "        logging.error(f\"Error: The file {file_path} was not found.\")\n",
    "        return pd.DataFrame()\n",
    "\n",
    "def fix_contact_data_format(contact_data):\n",
    "    \"\"\"Attempts to fix known format issues in contact_data strings.\"\"\"\n",
    "    if pd.isna(contact_data):\n",
    "        return None\n",
    "    # Ensure JSON-compatible format\n",
    "    contact_data = re.sub(r'([{,])\\s*([a-zA-Z_]+)\\s*:', r'\\1 \"\\2\":', contact_data)\n",
    "    contact_data = contact_data.replace(\"'\", '\"')\n",
    "    if not contact_data.startswith('['):\n",
    "        contact_data = f\"[{contact_data}]\"\n",
    "    contact_data = re.sub(r'}\\s*{', '},{', contact_data)\n",
    "    logging.info(f\"Formatted contact_data: {contact_data}\")\n",
    "    return contact_data\n",
    "\n",
    "def get_full_name(contact_data):\n",
    "    \"\"\"Extracts full name from contact data or returns 'John Doe' if incomplete.\"\"\"\n",
    "    contact_data = fix_contact_data_format(contact_data)\n",
    "    if contact_data is None:\n",
    "        return \"John Doe\"\n",
    "    try:\n",
    "        contact_info = json.loads(contact_data)[0]\n",
    "        first_name = contact_info.get(\"contact_name\", \"\").strip()\n",
    "        last_name = contact_info.get(\"contact_surname\", \"\").strip()\n",
    "        if not first_name or not last_name:\n",
    "            return \"John Doe\"\n",
    "        return f\"{first_name} {last_name}\"\n",
    "    except (json.JSONDecodeError, IndexError, TypeError, KeyError) as e:\n",
    "        logging.warning(f\"Unexpected structure in contact data: {contact_data}. Error: {e}. Using 'John Doe'.\")\n",
    "        return \"John Doe\"\n",
    "\n",
    "def create_contact_fullname_df(df):\n",
    "    \"\"\"Creates a DataFrame with order_id and contact_full_name.\"\"\"\n",
    "    if df.empty:\n",
    "        logging.warning(\"The DataFrame is empty. No contact full names to process.\")\n",
    "        return pd.DataFrame(columns=['order_id', 'contact_full_name'])\n",
    "    df['contact_full_name'] = df['contact_data'].apply(get_full_name)\n",
    "    logging.info(\"Successfully created contact_full_name column.\")\n",
    "    return df[['order_id', 'contact_full_name']]\n",
    "\n",
    "def save_contact_fullname_df(df, output_path):\n",
    "    \"\"\"Saves the contact full name DataFrame to a CSV file.\"\"\"\n",
    "    if df.empty:\n",
    "        logging.warning(\"The DataFrame is empty. Nothing to save.\")\n",
    "        return\n",
    "    absolute_path = os.path.abspath(output_path)\n",
    "    logging.info(f\"Saving DataFrame to {absolute_path}\")\n",
    "    os.makedirs(os.path.dirname(absolute_path), exist_ok=True)\n",
    "    df.to_csv(absolute_path, index=False)\n",
    "    logging.info(f\"DataFrame successfully saved to {absolute_path}\")\n",
    "    if os.path.exists(absolute_path):\n",
    "        logging.info(f\"File {absolute_path} was created successfully.\")\n",
    "    else:\n",
    "        logging.error(f\"File {absolute_path} was not created.\")\n",
    "\n",
    "if __name__ == \"__main__\":\n",
    "    # Print current working directory for diagnostics\n",
    "    logging.info(f\"Current working directory: {os.getcwd()}\")\n",
    "    # Load and process data\n",
    "    orders_df = load_orders('../data/orders.csv')\n",
    "    if not orders_df.empty:\n",
    "        contact_fullname_df = create_contact_fullname_df(orders_df)\n",
    "        save_contact_fullname_df(contact_fullname_df, '../output/contact_fullname.csv')\n",
    "    else:\n",
    "        logging.error(\"No data loaded. Exiting.\")"
   ]
  },
  {
   "cell_type": "markdown",
   "metadata": {},
   "source": [
    "$~$\n",
    "\n",
    "modifying the function to get more robust solution\n",
    "\n",
    "$~$"
   ]
  },
  {
   "cell_type": "code",
   "execution_count": 8,
   "metadata": {},
   "outputs": [
    {
     "name": "stderr",
     "output_type": "stream",
     "text": [
      "2024-11-05 21:06:42,095 - INFO - Loaded 62 rows from ../data/orders.csv\n",
      "2024-11-05 21:06:42,096 - WARNING - Error en formato de contact_data ([{ \"contact_name\":\"Liav\", \"contact_surname\": \"Ichenbaum\", \"city\":\"Tel Aviv\"}): Expecting ',' delimiter: line 1 column 77 (char 76). Usando 'Unknown, UNK00'\n",
      "2024-11-05 21:06:42,097 - INFO - Successfully created contact_full_name column.\n",
      "2024-11-05 21:06:42,100 - INFO - DataFrame successfully saved to ../output/contact_fullname.csv\n",
      "2024-11-05 21:06:42,100 - INFO - File ../output/contact_fullname.csv was created successfully.\n"
     ]
    }
   ],
   "source": [
    "import pandas as pd\n",
    "import json\n",
    "import os\n",
    "import logging\n",
    "import re\n",
    "\n",
    "# Configure logging\n",
    "logging.basicConfig(level=logging.INFO, format='%(asctime)s - %(levelname)s - %(message)s')\n",
    "\n",
    "def load_orders(file_path, delimiter=';'):\n",
    "    \"\"\"Loads order data from a CSV file.\"\"\"\n",
    "    try:\n",
    "        df = pd.read_csv(file_path, delimiter=delimiter)\n",
    "        logging.info(f\"Loaded {len(df)} rows from {file_path}\")\n",
    "        return df\n",
    "    except FileNotFoundError:\n",
    "        logging.error(f\"Error: The file {file_path} was not found.\")\n",
    "        return pd.DataFrame()  # Return an empty DataFrame if the file is missing\n",
    "\n",
    "def fix_contact_data_format(contact_data):\n",
    "    \"\"\"Intenta corregir y validar el formato de contact_data de manera más detallada.\"\"\"\n",
    "    if pd.isna(contact_data):\n",
    "        return None\n",
    "\n",
    "    # Reemplazar comillas simples por dobles y asegurarse de que todas las claves estén en comillas dobles\n",
    "    contact_data = re.sub(r\"([{\\[,]\\s*)(\\w+)(\\s*:\\s*)\", r'\\1\"\\2\"\\3', contact_data.replace(\"'\", '\"'))\n",
    "\n",
    "    # Añadir comillas a los valores si faltan y no son numéricos o booleanos\n",
    "    contact_data = re.sub(r\":\\s*([a-zA-Z_]+)([,\\]}\\s])\", r': \"\\1\"\\2', contact_data)\n",
    "\n",
    "    # Asegurarse de que el JSON esté entre corchetes\n",
    "    if not contact_data.startswith('['):\n",
    "        contact_data = f'[{contact_data}]'\n",
    "    \n",
    "    # Corregir problemas comunes de formato como objetos JSON mal concatenados\n",
    "    contact_data = re.sub(r'}\\s*,\\s*{', '},{', contact_data)\n",
    "    \n",
    "    try:\n",
    "        json.loads(contact_data)  # Verificar si el formato JSON es correcto ahora\n",
    "        return contact_data\n",
    "    except json.JSONDecodeError as e:\n",
    "        logging.warning(f\"Error en formato de contact_data ({contact_data}): {e}. Usando 'Unknown, UNK00'\")\n",
    "        return None\n",
    "\n",
    "def get_full_name(contact_data):\n",
    "    \"\"\"Extracts full name from contact data or returns 'John Doe' if incomplete.\"\"\"\n",
    "    contact_data = fix_contact_data_format(contact_data)\n",
    "    if contact_data is None:\n",
    "        return \"John Doe\"\n",
    "    \n",
    "    try:\n",
    "        contact_info = json.loads(contact_data)[0]  # Procesa como lista JSON\n",
    "        first_name = contact_info.get(\"contact_name\", \"\").strip()\n",
    "        last_name = contact_info.get(\"contact_surname\", \"\").strip()\n",
    "        \n",
    "        # Si falta nombre o apellido, devuelve \"John Doe\"\n",
    "        if not first_name or not last_name:\n",
    "            return \"John Doe\"\n",
    "        return f\"{first_name} {last_name}\"\n",
    "    except (json.JSONDecodeError, IndexError, TypeError, KeyError) as e:\n",
    "        logging.warning(f\"Unexpected structure in contact data: {contact_data}. Error: {e}. Using 'John Doe'.\")\n",
    "        return \"John Doe\"\n",
    "\n",
    "def create_contact_fullname_df(df):\n",
    "    \"\"\"Creates a DataFrame with order_id and contact_full_name.\"\"\"\n",
    "    if df.empty:\n",
    "        logging.warning(\"The DataFrame is empty. No contact full names to process.\")\n",
    "        return pd.DataFrame(columns=['order_id', 'contact_full_name'])\n",
    "\n",
    "    # Aplica la función para crear la columna contact_full_name\n",
    "    df['contact_full_name'] = df['contact_data'].apply(get_full_name)\n",
    "    logging.info(\"Successfully created contact_full_name column.\")\n",
    "    return df[['order_id', 'contact_full_name']]\n",
    "\n",
    "def save_contact_fullname_df(df, output_path):\n",
    "    \"\"\"Saves the contact full name DataFrame to a CSV file.\"\"\"\n",
    "    if df.empty:\n",
    "        logging.warning(\"The DataFrame is empty. Nothing to save.\")\n",
    "        return\n",
    "\n",
    "    os.makedirs(os.path.dirname(output_path), exist_ok=True)\n",
    "    df.to_csv(output_path, index=False)\n",
    "    logging.info(f\"DataFrame successfully saved to {output_path}\")\n",
    "    \n",
    "    # Confirmación final para verificar si el archivo existe después de guardarlo\n",
    "    if os.path.exists(output_path):\n",
    "        logging.info(f\"File {output_path} was created successfully.\")\n",
    "    else:\n",
    "        logging.error(f\"File {output_path} was not created.\")\n",
    "\n",
    "# Ejemplo de uso\n",
    "if __name__ == \"__main__\":\n",
    "    # Cargar pedidos\n",
    "    orders_df = load_orders('../data/orders.csv')\n",
    "    \n",
    "    # Verifica si el DataFrame se cargó correctamente antes de continuar\n",
    "    if not orders_df.empty:\n",
    "        # Procesa nombres completos de contacto\n",
    "        contact_fullname_df = create_contact_fullname_df(orders_df)\n",
    "        \n",
    "        # Guarda el DataFrame resultante\n",
    "        save_contact_fullname_df(contact_fullname_df, '../output/contact_fullname.csv')\n",
    "    else:\n",
    "        logging.error(\"No data loaded. Exiting.\")"
   ]
  },
  {
   "cell_type": "markdown",
   "metadata": {},
   "source": [
    "## Test 3"
   ]
  },
  {
   "cell_type": "code",
   "execution_count": 9,
   "metadata": {},
   "outputs": [
    {
     "name": "stderr",
     "output_type": "stream",
     "text": [
      "2024-11-05 21:06:42,113 - INFO - Cargadas 62 filas desde ../data/orders.csv\n",
      "2024-11-05 21:06:42,114 - INFO - Columna contact_address creada exitosamente.\n",
      "2024-11-05 21:06:42,115 - INFO - Guardando DataFrame en /Users/pedro/Library/CloudStorage/Dropbox/PROYECTOS/others/data-engineering-test/output/contact_address.csv\n",
      "2024-11-05 21:06:42,117 - INFO - DataFrame guardado exitosamente en /Users/pedro/Library/CloudStorage/Dropbox/PROYECTOS/others/data-engineering-test/output/contact_address.csv\n",
      "2024-11-05 21:06:42,117 - INFO - Archivo /Users/pedro/Library/CloudStorage/Dropbox/PROYECTOS/others/data-engineering-test/output/contact_address.csv creado exitosamente.\n"
     ]
    }
   ],
   "source": [
    "import pandas as pd\n",
    "import json\n",
    "import os\n",
    "import logging\n",
    "import re\n",
    "\n",
    "# Configuración del logging\n",
    "logging.basicConfig(level=logging.DEBUG, format='%(asctime)s - %(levelname)s - %(message)s')\n",
    "\n",
    "def load_orders(file_path, delimiter=';'):\n",
    "    \"\"\"Carga los datos de órdenes desde un archivo CSV.\"\"\"\n",
    "    try:\n",
    "        df = pd.read_csv(file_path, delimiter=delimiter)\n",
    "        logging.info(f\"Cargadas {len(df)} filas desde {file_path}\")\n",
    "        return df\n",
    "    except FileNotFoundError:\n",
    "        logging.error(f\"Error: El archivo {file_path} no fue encontrado.\")\n",
    "        return pd.DataFrame()\n",
    "\n",
    "def fix_contact_data_format(contact_data):\n",
    "    \"\"\"Intenta corregir problemas de formato conocidos en las cadenas de contact_data.\"\"\"\n",
    "    if pd.isna(contact_data) or not isinstance(contact_data, str):\n",
    "        logging.debug(\"El valor de contact_data es NaN o no es una cadena, usando valor predeterminado.\")\n",
    "        return '[{\"city\": \"Unknown\", \"cp\": \"UNK00\"}]'\n",
    "    \n",
    "    logging.debug(f\"Formato original de contact_data: {contact_data}\")\n",
    "    \n",
    "    # Normalización inicial: agregar comillas y llaves donde falten\n",
    "    contact_data = re.sub(r'([{,])\\s*([a-zA-Z_]+)\\s*:', r'\\1 \"\\2\":', contact_data)\n",
    "    contact_data = contact_data.replace(\"'\", '\"').strip()\n",
    "    logging.debug(f\"Formato después de la normalización inicial: {contact_data}\")\n",
    "    \n",
    "    # Eliminar caracteres extras al final que pueden estar generando errores\n",
    "    if contact_data.endswith(']}'):\n",
    "        contact_data = contact_data[:-1]\n",
    "    elif contact_data.endswith('}]}'):\n",
    "        contact_data = contact_data[:-2] + \"}]\"\n",
    "    logging.debug(f\"Formato después de limpiar caracteres extra: {contact_data}\")\n",
    "\n",
    "    # Asegurarse que empieza con \"[\" y termina con \"]\" para que sea una lista JSON\n",
    "    if not contact_data.startswith('['):\n",
    "        contact_data = f\"[{contact_data}\"\n",
    "    if not contact_data.endswith(']'):\n",
    "        contact_data += ']'\n",
    "    \n",
    "    # Validación de la estructura de JSON\n",
    "    try:\n",
    "        json.loads(contact_data)\n",
    "    except json.JSONDecodeError as e:\n",
    "        logging.warning(f\"Error en el formato de contact_data tras la normalización: {contact_data}. Error: {e}\")\n",
    "        contact_data = '[{\"city\": \"Unknown\", \"cp\": \"UNK00\"}]'\n",
    "    \n",
    "    logging.debug(f\"Formato final de contact_data: {contact_data}\")\n",
    "    return contact_data\n",
    "\n",
    "def get_contact_address(contact_data):\n",
    "    \"\"\"Extrae la dirección de la ciudad y el código postal o devuelve valores predeterminados si faltan.\"\"\"\n",
    "    contact_data = fix_contact_data_format(contact_data)\n",
    "    if contact_data is None:\n",
    "        logging.debug(\"contact_data es None, devolviendo 'Unknown, UNK00'\")\n",
    "        return \"Unknown, UNK00\"\n",
    "    \n",
    "    try:\n",
    "        contact_info = json.loads(contact_data)[0]\n",
    "        city = contact_info.get(\"city\", \"Unknown\").strip() if isinstance(contact_info.get(\"city\"), str) else \"Unknown\"\n",
    "        postal_code = contact_info.get(\"cp\", \"UNK00\").strip() if isinstance(contact_info.get(\"cp\"), str) else \"UNK00\"\n",
    "        logging.debug(f\"Extrayendo contact_address: {city}, {postal_code}\")\n",
    "        return f\"{city}, {postal_code}\"\n",
    "    except (json.JSONDecodeError, IndexError, TypeError, KeyError) as e:\n",
    "        logging.warning(f\"Error persistente en formato de contact_data ({contact_data}): {e}. Usando 'Unknown, UNK00'\")\n",
    "        return \"Unknown, UNK00\"\n",
    "\n",
    "def create_contact_address_df(df):\n",
    "    \"\"\"Crea un DataFrame con order_id y contact_address.\"\"\"\n",
    "    if df.empty:\n",
    "        logging.warning(\"El DataFrame está vacío. No hay nombres de contacto para procesar.\")\n",
    "        return pd.DataFrame(columns=['order_id', 'contact_address'])\n",
    "    \n",
    "    logging.debug(\"Iniciando creación de columna contact_address a partir de contact_data.\")\n",
    "    df['contact_address'] = df['contact_data'].apply(get_contact_address)\n",
    "    logging.info(\"Columna contact_address creada exitosamente.\")\n",
    "    return df[['order_id', 'contact_address']]\n",
    "\n",
    "def save_contact_address_df(df, output_path):\n",
    "    \"\"\"Guarda el DataFrame de dirección de contacto en un archivo CSV.\"\"\"\n",
    "    if df.empty:\n",
    "        logging.warning(\"El DataFrame está vacío. No hay nada que guardar.\")\n",
    "        return\n",
    "    absolute_path = os.path.abspath(output_path)\n",
    "    logging.info(f\"Guardando DataFrame en {absolute_path}\")\n",
    "    output_dir = os.path.dirname(absolute_path)\n",
    "    if not os.path.exists(output_dir):\n",
    "        os.makedirs(output_dir)\n",
    "    df.to_csv(absolute_path, index=False)\n",
    "    logging.info(f\"DataFrame guardado exitosamente en {absolute_path}\")\n",
    "    if os.path.exists(absolute_path):\n",
    "        logging.info(f\"Archivo {absolute_path} creado exitosamente.\")\n",
    "    else:\n",
    "        logging.error(f\"El archivo {absolute_path} no fue creado.\")\n",
    "\n",
    "# Ejecución del proceso\n",
    "input_path = '../data/orders.csv'\n",
    "output_path = '../output/contact_address.csv'\n",
    "\n",
    "orders_df = load_orders(input_path)\n",
    "if not orders_df.empty:\n",
    "    contact_address_df = create_contact_address_df(orders_df)\n",
    "    save_contact_address_df(contact_address_df, output_path)\n",
    "else:\n",
    "    logging.error(\"No se cargaron datos. Saliendo.\")"
   ]
  },
  {
   "cell_type": "markdown",
   "metadata": {},
   "source": [
    "## TASK 4"
   ]
  },
  {
   "cell_type": "code",
   "execution_count": 10,
   "metadata": {},
   "outputs": [
    {
     "name": "stdout",
     "output_type": "stream",
     "text": [
      "\n",
      "Sales Owner Commissions:\n"
     ]
    },
    {
     "data": {
      "text/html": [
       "<div>\n",
       "<style scoped>\n",
       "    .dataframe tbody tr th:only-of-type {\n",
       "        vertical-align: middle;\n",
       "    }\n",
       "\n",
       "    .dataframe tbody tr th {\n",
       "        vertical-align: top;\n",
       "    }\n",
       "\n",
       "    .dataframe thead th {\n",
       "        text-align: right;\n",
       "    }\n",
       "</style>\n",
       "<table border=\"1\" class=\"dataframe\">\n",
       "  <thead>\n",
       "    <tr style=\"text-align: right;\">\n",
       "      <th></th>\n",
       "      <th>sales_owner</th>\n",
       "      <th>total_commission</th>\n",
       "    </tr>\n",
       "  </thead>\n",
       "  <tbody>\n",
       "    <tr>\n",
       "      <th>0</th>\n",
       "      <td>Leonard Cohen</td>\n",
       "      <td>629.28</td>\n",
       "    </tr>\n",
       "    <tr>\n",
       "      <th>1</th>\n",
       "      <td>David Henderson</td>\n",
       "      <td>465.34</td>\n",
       "    </tr>\n",
       "    <tr>\n",
       "      <th>2</th>\n",
       "      <td>Luke Skywalker</td>\n",
       "      <td>366.54</td>\n",
       "    </tr>\n",
       "    <tr>\n",
       "      <th>3</th>\n",
       "      <td>Yuri Gagarin</td>\n",
       "      <td>273.49</td>\n",
       "    </tr>\n",
       "    <tr>\n",
       "      <th>4</th>\n",
       "      <td>David Goliat</td>\n",
       "      <td>250.32</td>\n",
       "    </tr>\n",
       "    <tr>\n",
       "      <th>5</th>\n",
       "      <td>Ammy Winehouse</td>\n",
       "      <td>201.72</td>\n",
       "    </tr>\n",
       "    <tr>\n",
       "      <th>6</th>\n",
       "      <td>Marianov Merschik</td>\n",
       "      <td>188.61</td>\n",
       "    </tr>\n",
       "    <tr>\n",
       "      <th>7</th>\n",
       "      <td>Chris Pratt</td>\n",
       "      <td>112.90</td>\n",
       "    </tr>\n",
       "    <tr>\n",
       "      <th>8</th>\n",
       "      <td>Vladimir Chukov</td>\n",
       "      <td>72.83</td>\n",
       "    </tr>\n",
       "    <tr>\n",
       "      <th>9</th>\n",
       "      <td>Marie Curie</td>\n",
       "      <td>67.41</td>\n",
       "    </tr>\n",
       "    <tr>\n",
       "      <th>10</th>\n",
       "      <td>Leon Leonov</td>\n",
       "      <td>57.31</td>\n",
       "    </tr>\n",
       "    <tr>\n",
       "      <th>11</th>\n",
       "      <td>Markus Söder</td>\n",
       "      <td>21.92</td>\n",
       "    </tr>\n",
       "  </tbody>\n",
       "</table>\n",
       "</div>"
      ],
      "text/plain": [
       "          sales_owner  total_commission\n",
       "0       Leonard Cohen            629.28\n",
       "1     David Henderson            465.34\n",
       "2      Luke Skywalker            366.54\n",
       "3        Yuri Gagarin            273.49\n",
       "4        David Goliat            250.32\n",
       "5      Ammy Winehouse            201.72\n",
       "6   Marianov Merschik            188.61\n",
       "7         Chris Pratt            112.90\n",
       "8     Vladimir Chukov             72.83\n",
       "9         Marie Curie             67.41\n",
       "10        Leon Leonov             57.31\n",
       "11       Markus Söder             21.92"
      ]
     },
     "metadata": {},
     "output_type": "display_data"
    }
   ],
   "source": [
    "import pandas as pd\n",
    "import json\n",
    "\n",
    "# Cargar el archivo JSON de facturación\n",
    "with open('../data/invoicing_data.json', 'r') as f:\n",
    "    invoicing_data = json.load(f)[\"data\"][\"invoices\"]\n",
    "\n",
    "# Convertir datos de facturación a DataFrame y calcular el valor neto en euros\n",
    "invoicing_df = pd.DataFrame(invoicing_data)\n",
    "invoicing_df['grossValue'] = pd.to_numeric(invoicing_df['grossValue'])\n",
    "invoicing_df['vat'] = pd.to_numeric(invoicing_df['vat'])\n",
    "invoicing_df['net_invoiced_value_euros'] = invoicing_df['grossValue'] * (1 - invoicing_df['vat'] / 100) / 100\n",
    "\n",
    "# Cargar el archivo CSV de órdenes\n",
    "orders_df = pd.read_csv('../data/orders.csv', delimiter=';')\n",
    "\n",
    "# Convertir `salesowners` a listas de nombres\n",
    "orders_df['salesowners'] = orders_df['salesowners'].apply(lambda x: x.split(', ') if isinstance(x, str) else [])\n",
    "\n",
    "# Unir los DataFrames por `order_id` y `orderId`\n",
    "merged_df = orders_df.merge(\n",
    "    invoicing_df[['orderId', 'net_invoiced_value_euros']], \n",
    "    left_on='order_id', \n",
    "    right_on='orderId', \n",
    "    how='left'\n",
    ")\n",
    "\n",
    "# Definir las tasas de comisión para cada posición de propietario\n",
    "commission_rates = {\n",
    "    \"main_owner\": 0.06,\n",
    "    \"co_owner_1\": 0.025,\n",
    "    \"co_owner_2\": 0.0095\n",
    "}\n",
    "\n",
    "# Inicializar un diccionario para acumular comisiones por cada propietario\n",
    "commission_dict = {}\n",
    "\n",
    "# Calcular las comisiones para cada orden\n",
    "for _, row in merged_df.iterrows():\n",
    "    salesowners = row['salesowners']\n",
    "    net_value = row['net_invoiced_value_euros']\n",
    "    \n",
    "    # Comprobar que el valor neto no sea NaN\n",
    "    if pd.notna(net_value):\n",
    "        # Comisiones para el propietario principal\n",
    "        if len(salesowners) > 0:\n",
    "            main_owner = salesowners[0]\n",
    "            main_commission = net_value * commission_rates[\"main_owner\"]\n",
    "            commission_dict[main_owner] = commission_dict.get(main_owner, 0) + main_commission\n",
    "\n",
    "        # Comisiones para el co-propietario 1\n",
    "        if len(salesowners) > 1:\n",
    "            co_owner_1 = salesowners[1]\n",
    "            co_owner_1_commission = net_value * commission_rates[\"co_owner_1\"]\n",
    "            commission_dict[co_owner_1] = commission_dict.get(co_owner_1, 0) + co_owner_1_commission\n",
    "\n",
    "        # Comisiones para el co-propietario 2\n",
    "        if len(salesowners) > 2:\n",
    "            co_owner_2 = salesowners[2]\n",
    "            co_owner_2_commission = net_value * commission_rates[\"co_owner_2\"]\n",
    "            commission_dict[co_owner_2] = commission_dict.get(co_owner_2, 0) + co_owner_2_commission\n",
    "\n",
    "# Convertir el diccionario de comisiones a DataFrame y ordenar\n",
    "commission_df = pd.DataFrame(list(commission_dict.items()), columns=['sales_owner', 'total_commission'])\n",
    "commission_df = commission_df.sort_values(by='total_commission', ascending=False).reset_index(drop=True)\n",
    "\n",
    "# Redondear la columna de comisión total a dos decimales\n",
    "commission_df['total_commission'] = commission_df['total_commission'].round(2)\n",
    "\n",
    "# Mostrar el DataFrame resultante\n",
    "print(\"\\nSales Owner Commissions:\")\n",
    "display(commission_df)"
   ]
  },
  {
   "cell_type": "code",
   "execution_count": 11,
   "metadata": {},
   "outputs": [
    {
     "name": "stderr",
     "output_type": "stream",
     "text": [
      "2024-11-05 21:06:42,145 - INFO - Loaded invoicing data with 12 rows.\n",
      "2024-11-05 21:06:42,148 - INFO - Processed invoicing data with net values in euros.\n",
      "2024-11-05 21:06:42,151 - INFO - Loaded orders data with 62 rows.\n",
      "2024-11-05 21:06:42,152 - INFO - Merged orders and invoicing data.\n",
      "2024-11-05 21:06:42,155 - INFO - Sales Owner Commissions:\n"
     ]
    },
    {
     "name": "stdout",
     "output_type": "stream",
     "text": [
      "          sales_owner  total_commission\n",
      "0       Leonard Cohen            629.28\n",
      "1     David Henderson            465.34\n",
      "2      Luke Skywalker            366.54\n",
      "3        Yuri Gagarin            273.49\n",
      "4        David Goliat            250.32\n",
      "5      Ammy Winehouse            201.72\n",
      "6   Marianov Merschik            188.61\n",
      "7         Chris Pratt            112.90\n",
      "8     Vladimir Chukov             72.83\n",
      "9         Marie Curie             67.41\n",
      "10        Leon Leonov             57.31\n",
      "11       Markus Söder             21.92\n"
     ]
    }
   ],
   "source": [
    "import pandas as pd\n",
    "import json\n",
    "import logging\n",
    "import os\n",
    "\n",
    "# Configuración del logging\n",
    "logging.basicConfig(level=logging.INFO, format='%(asctime)s - %(levelname)s - %(message)s')\n",
    "\n",
    "# Definir las tasas de comisión para cada posición de propietario\n",
    "commission_rates = {\n",
    "    \"main_owner\": 0.06,\n",
    "    \"co_owner_1\": 0.025,\n",
    "    \"co_owner_2\": 0.0095\n",
    "}\n",
    "\n",
    "def load_invoicing_data(filepath):\n",
    "    \"\"\"Carga los datos de facturación desde un archivo JSON.\"\"\"\n",
    "    if not os.path.exists(filepath):\n",
    "        logging.error(f\"File {filepath} not found.\")\n",
    "        return pd.DataFrame()\n",
    "    \n",
    "    try:\n",
    "        with open(filepath, 'r') as f:\n",
    "            invoicing_data = json.load(f).get(\"data\", {}).get(\"invoices\", [])\n",
    "        invoicing_df = pd.DataFrame(invoicing_data)\n",
    "        logging.info(f\"Loaded invoicing data with {len(invoicing_df)} rows.\")\n",
    "        return invoicing_df\n",
    "    except json.JSONDecodeError as e:\n",
    "        logging.error(f\"Error loading JSON data: {e}\")\n",
    "        return pd.DataFrame()\n",
    "\n",
    "def preprocess_invoicing_data(invoicing_df):\n",
    "    \"\"\"Convierte valores en centavos a euros y calcula el valor neto.\"\"\"\n",
    "    try:\n",
    "        invoicing_df['grossValue'] = pd.to_numeric(invoicing_df['grossValue'])\n",
    "        invoicing_df['vat'] = pd.to_numeric(invoicing_df['vat'])\n",
    "        invoicing_df['net_invoiced_value_euros'] = invoicing_df['grossValue'] * (1 - invoicing_df['vat'] / 100) / 100\n",
    "        logging.info(\"Processed invoicing data with net values in euros.\")\n",
    "        return invoicing_df[['orderId', 'net_invoiced_value_euros']]\n",
    "    except KeyError as e:\n",
    "        logging.error(f\"Missing expected column in invoicing data: {e}\")\n",
    "        return pd.DataFrame()\n",
    "\n",
    "def load_orders_data(filepath):\n",
    "    \"\"\"Carga los datos de órdenes desde un archivo CSV y convierte `salesowners` a listas.\"\"\"\n",
    "    if not os.path.exists(filepath):\n",
    "        logging.error(f\"File {filepath} not found.\")\n",
    "        return pd.DataFrame()\n",
    "    \n",
    "    try:\n",
    "        orders_df = pd.read_csv(filepath, delimiter=';')\n",
    "        orders_df['salesowners'] = orders_df['salesowners'].apply(lambda x: x.split(', ') if isinstance(x, str) else [])\n",
    "        logging.info(f\"Loaded orders data with {len(orders_df)} rows.\")\n",
    "        return orders_df\n",
    "    except pd.errors.ParserError as e:\n",
    "        logging.error(f\"Error loading CSV data: {e}\")\n",
    "        return pd.DataFrame()\n",
    "\n",
    "def calculate_commissions(merged_df):\n",
    "    \"\"\"Calcula las comisiones para cada propietario según las tasas definidas.\"\"\"\n",
    "    commission_dict = {}\n",
    "    \n",
    "    for _, row in merged_df.iterrows():\n",
    "        salesowners = row['salesowners']\n",
    "        net_value = row['net_invoiced_value_euros']\n",
    "        \n",
    "        if pd.notna(net_value):\n",
    "            if len(salesowners) > 0:\n",
    "                main_owner = salesowners[0]\n",
    "                commission_dict[main_owner] = commission_dict.get(main_owner, 0) + net_value * commission_rates[\"main_owner\"]\n",
    "            \n",
    "            if len(salesowners) > 1:\n",
    "                co_owner_1 = salesowners[1]\n",
    "                commission_dict[co_owner_1] = commission_dict.get(co_owner_1, 0) + net_value * commission_rates[\"co_owner_1\"]\n",
    "                \n",
    "            if len(salesowners) > 2:\n",
    "                co_owner_2 = salesowners[2]\n",
    "                commission_dict[co_owner_2] = commission_dict.get(co_owner_2, 0) + net_value * commission_rates[\"co_owner_2\"]\n",
    "    \n",
    "    return pd.DataFrame(list(commission_dict.items()), columns=['sales_owner', 'total_commission'])\n",
    "\n",
    "def main():\n",
    "    # Rutas de archivos\n",
    "    invoicing_filepath = '../data/invoicing_data.json'\n",
    "    orders_filepath = '../data/orders.csv'\n",
    "    \n",
    "    # Cargar y procesar datos de facturación\n",
    "    invoicing_df = load_invoicing_data(invoicing_filepath)\n",
    "    invoicing_df = preprocess_invoicing_data(invoicing_df)\n",
    "    \n",
    "    # Cargar datos de órdenes\n",
    "    orders_df = load_orders_data(orders_filepath)\n",
    "    \n",
    "    if invoicing_df.empty or orders_df.empty:\n",
    "        logging.error(\"One or more required datasets are empty. Exiting.\")\n",
    "        return\n",
    "    \n",
    "    # Unir los DataFrames por `order_id` y `orderId`\n",
    "    merged_df = orders_df.merge(invoicing_df, left_on='order_id', right_on='orderId', how='left')\n",
    "    logging.info(\"Merged orders and invoicing data.\")\n",
    "    \n",
    "    # Calcular las comisiones y ordenar por total en orden descendente\n",
    "    commission_df = calculate_commissions(merged_df)\n",
    "    commission_df = commission_df.sort_values(by='total_commission', ascending=False).reset_index(drop=True)\n",
    "    commission_df['total_commission'] = commission_df['total_commission'].round(2)\n",
    "    \n",
    "    # Mostrar el DataFrame resultante\n",
    "    logging.info(\"Sales Owner Commissions:\")\n",
    "    print(commission_df)\n",
    "\n",
    "# Ejecución principal\n",
    "if __name__ == \"__main__\":\n",
    "    main()"
   ]
  },
  {
   "cell_type": "markdown",
   "metadata": {},
   "source": [
    "## Test 5 DataFrame of Companies with Sales Owners\n"
   ]
  },
  {
   "cell_type": "code",
   "execution_count": 12,
   "metadata": {},
   "outputs": [],
   "source": [
    "# Cargar los datos\n",
    "orders_filepath = '../data/orders.csv'\n",
    "\n",
    "# Cargar el archivo CSV de órdenes\n",
    "orders_df = pd.read_csv(orders_filepath, delimiter=';')\n",
    "\n",
    "# Crear un DataFrame raw con company_id, company_name y salesowners\n",
    "raw_df = orders_df[['company_id', 'company_name', 'salesowners']].copy()\n",
    "\n",
    "# Normalización de nombres de las compañías\n",
    "def normalize_company_name(name):\n",
    "    if pd.isna(name):\n",
    "        return \"\"\n",
    "    # Convertir a minúsculas\n",
    "    name = name.lower()\n",
    "    # Eliminar sufijos comunes y caracteres no deseados\n",
    "    name = re.sub(r'\\b(co|inc|ltd|gmbh|c\\.o|limited|corporation|s\\.a\\.r\\.l)\\b', '', name)\n",
    "    name = re.sub(r'[^\\w\\s]', '', name)  # Eliminar puntuaciones\n",
    "    name = re.sub(r'\\s+', ' ', name).strip()  # Eliminar espacios adicionales\n",
    "    sorted_words = ' '.join(sorted(name.split()))\n",
    "    return sorted_words\n",
    "\n",
    "# Aplicar normalización a company_name\n",
    "raw_df['normalized_company_name'] = raw_df['company_name'].apply(normalize_company_name)\n",
    "\n"
   ]
  },
  {
   "cell_type": "code",
   "execution_count": 13,
   "metadata": {},
   "outputs": [],
   "source": [
    "# show raw_df['normalized_company_name'] value counts and order bn company name\n",
    "raw_df['normalized_company_name'].value_counts().sort_index().to_clipboard()"
   ]
  },
  {
   "cell_type": "markdown",
   "metadata": {},
   "source": [
    "# try it using lammatizer"
   ]
  },
  {
   "cell_type": "code",
   "execution_count": 14,
   "metadata": {},
   "outputs": [
    {
     "name": "stderr",
     "output_type": "stream",
     "text": [
      "[nltk_data] Downloading package wordnet to /Users/pedro/nltk_data...\n",
      "[nltk_data]   Package wordnet is already up-to-date!\n",
      "[nltk_data] Downloading package omw-1.4 to /Users/pedro/nltk_data...\n",
      "[nltk_data]   Package omw-1.4 is already up-to-date!\n"
     ]
    },
    {
     "data": {
      "text/html": [
       "<div>\n",
       "<style scoped>\n",
       "    .dataframe tbody tr th:only-of-type {\n",
       "        vertical-align: middle;\n",
       "    }\n",
       "\n",
       "    .dataframe tbody tr th {\n",
       "        vertical-align: top;\n",
       "    }\n",
       "\n",
       "    .dataframe thead th {\n",
       "        text-align: right;\n",
       "    }\n",
       "</style>\n",
       "<table border=\"1\" class=\"dataframe\">\n",
       "  <thead>\n",
       "    <tr style=\"text-align: right;\">\n",
       "      <th></th>\n",
       "      <th>normalized_company_name</th>\n",
       "      <th>similarity_group</th>\n",
       "    </tr>\n",
       "  </thead>\n",
       "  <tbody>\n",
       "    <tr>\n",
       "      <th>11</th>\n",
       "      <td>berry fresh</td>\n",
       "      <td>9</td>\n",
       "    </tr>\n",
       "    <tr>\n",
       "      <th>39</th>\n",
       "      <td>choice healthy</td>\n",
       "      <td>34</td>\n",
       "    </tr>\n",
       "    <tr>\n",
       "      <th>30</th>\n",
       "      <td>eats healthy</td>\n",
       "      <td>26</td>\n",
       "    </tr>\n",
       "    <tr>\n",
       "      <th>12</th>\n",
       "      <td>express meat</td>\n",
       "      <td>10</td>\n",
       "    </tr>\n",
       "    <tr>\n",
       "      <th>22</th>\n",
       "      <td>express seafood</td>\n",
       "      <td>19</td>\n",
       "    </tr>\n",
       "    <tr>\n",
       "      <th>...</th>\n",
       "      <td>...</td>\n",
       "      <td>...</td>\n",
       "    </tr>\n",
       "    <tr>\n",
       "      <th>55</th>\n",
       "      <td>seafood supplier</td>\n",
       "      <td>3</td>\n",
       "    </tr>\n",
       "    <tr>\n",
       "      <th>14</th>\n",
       "      <td>unlimited veggie</td>\n",
       "      <td>12</td>\n",
       "    </tr>\n",
       "    <tr>\n",
       "      <th>53</th>\n",
       "      <td>veggie</td>\n",
       "      <td>2</td>\n",
       "    </tr>\n",
       "    <tr>\n",
       "      <th>1</th>\n",
       "      <td>veggie</td>\n",
       "      <td>2</td>\n",
       "    </tr>\n",
       "    <tr>\n",
       "      <th>42</th>\n",
       "      <td>veggie</td>\n",
       "      <td>2</td>\n",
       "    </tr>\n",
       "  </tbody>\n",
       "</table>\n",
       "<p>62 rows × 2 columns</p>\n",
       "</div>"
      ],
      "text/plain": [
       "   normalized_company_name similarity_group\n",
       "11             berry fresh                9\n",
       "39          choice healthy               34\n",
       "30            eats healthy               26\n",
       "12            express meat               10\n",
       "22         express seafood               19\n",
       "..                     ...              ...\n",
       "55        seafood supplier                3\n",
       "14        unlimited veggie               12\n",
       "53                  veggie                2\n",
       "1                   veggie                2\n",
       "42                  veggie                2\n",
       "\n",
       "[62 rows x 2 columns]"
      ]
     },
     "execution_count": 14,
     "metadata": {},
     "output_type": "execute_result"
    }
   ],
   "source": [
    "import re\n",
    "import nltk\n",
    "from nltk.stem import WordNetLemmatizer\n",
    "from sklearn.feature_extraction.text import CountVectorizer\n",
    "from scipy.spatial.distance import pdist, squareform\n",
    "import pandas as pd\n",
    "\n",
    "# Descargar datos de WordNet si no se han descargado\n",
    "nltk.download('wordnet')\n",
    "nltk.download('omw-1.4')\n",
    "\n",
    "# Inicializar lematizador de WordNet\n",
    "lemmatizer = WordNetLemmatizer()\n",
    "\n",
    "# Función para normalizar el nombre de la compañía\n",
    "def normalize_company_name(name):\n",
    "    \"\"\"Lematiza, limpia y normaliza el nombre de una compañía.\"\"\"\n",
    "    if pd.isna(name):\n",
    "        return \"\"\n",
    "    \n",
    "    # Convertir a minúsculas\n",
    "    name = name.lower()\n",
    "    \n",
    "    # Eliminar sufijos comunes y caracteres no deseados\n",
    "    name = re.sub(r'\\b(co|inc|ltd|gmbh|c\\.o|limited|corporation|s\\.a\\.r\\.l)\\b', '', name)\n",
    "    name = re.sub(r'[^\\w\\s]', '', name)  # Eliminar puntuación\n",
    "    name = re.sub(r'\\s+', ' ', name).strip()  # Eliminar espacios adicionales\n",
    "    \n",
    "    # Dividir en palabras, ordenar alfabéticamente y aplicar lematización\n",
    "    words = sorted(name.split())\n",
    "    lemmatized_words = [lemmatizer.lemmatize(word, pos='n') for word in words]  # Lematizar como sustantivos\n",
    "    normalized_name = ' '.join(lemmatized_words)\n",
    "    \n",
    "    return normalized_name\n",
    "\n",
    "# Cargar y procesar datos\n",
    "def load_and_process_data(filepath):\n",
    "    \"\"\"Carga y procesa los datos del archivo CSV de órdenes.\"\"\"\n",
    "    orders_df = pd.read_csv(filepath, delimiter=';')\n",
    "    raw_df = orders_df[['company_id', 'company_name', 'salesowners']].copy()\n",
    "    raw_df['normalized_company_name'] = raw_df['company_name'].apply(normalize_company_name)\n",
    "    return raw_df\n",
    "\n",
    "# Crear matriz de similitud Jaccard\n",
    "def compute_jaccard_similarity(df, threshold=0.7):\n",
    "    \"\"\"Computa la similitud de Jaccard y asigna grupos de similitud.\"\"\"\n",
    "    count_vectorizer = CountVectorizer(analyzer='word', binary=True)\n",
    "    count_matrix = count_vectorizer.fit_transform(df['normalized_company_name'])\n",
    "    \n",
    "    # Calcular matriz de distancias Jaccard y convertir a similitud\n",
    "    jaccard_distances = pdist(count_matrix.toarray(), metric='jaccard')\n",
    "    jaccard_sim_matrix = 1 - squareform(jaccard_distances)\n",
    "    \n",
    "    # Asignar grupos de similitud\n",
    "    df['similarity_group'] = None\n",
    "    group_counter = 0\n",
    "\n",
    "    for i in range(len(jaccard_sim_matrix)):\n",
    "        if df.loc[i, 'similarity_group'] is None:\n",
    "            group_counter += 1\n",
    "            df.loc[i, 'similarity_group'] = group_counter\n",
    "        for j in range(i + 1, len(jaccard_sim_matrix)):\n",
    "            if jaccard_sim_matrix[i, j] >= threshold:\n",
    "                df.loc[j, 'similarity_group'] = df.loc[i, 'similarity_group']\n",
    "    \n",
    "    return df\n",
    "\n",
    "# Ejecutar el procesamiento\n",
    "orders_filepath = '../data/orders.csv'\n",
    "raw_df = load_and_process_data(orders_filepath)\n",
    "processed_df = compute_jaccard_similarity(raw_df)\n",
    "\n",
    "# Mostrar resultados\n",
    "processed_df[['normalized_company_name', 'similarity_group']].sort_values(by='normalized_company_name')"
   ]
  },
  {
   "cell_type": "code",
   "execution_count": 15,
   "metadata": {},
   "outputs": [
    {
     "data": {
      "text/html": [
       "<div>\n",
       "<style scoped>\n",
       "    .dataframe tbody tr th:only-of-type {\n",
       "        vertical-align: middle;\n",
       "    }\n",
       "\n",
       "    .dataframe tbody tr th {\n",
       "        vertical-align: top;\n",
       "    }\n",
       "\n",
       "    .dataframe thead th {\n",
       "        text-align: right;\n",
       "    }\n",
       "</style>\n",
       "<table border=\"1\" class=\"dataframe\">\n",
       "  <thead>\n",
       "    <tr style=\"text-align: right;\">\n",
       "      <th></th>\n",
       "      <th>company_id</th>\n",
       "      <th>company_name</th>\n",
       "      <th>salesowners</th>\n",
       "      <th>normalized_company_name</th>\n",
       "      <th>similarity_group</th>\n",
       "    </tr>\n",
       "  </thead>\n",
       "  <tbody>\n",
       "    <tr>\n",
       "      <th>0</th>\n",
       "      <td>1e2b47e6-499e-41c6-91d3-09d12dddfbbd</td>\n",
       "      <td>Fresh Fruits Co</td>\n",
       "      <td>Leonard Cohen, Luke Skywalker, Ammy Winehouse</td>\n",
       "      <td>fresh fruit</td>\n",
       "      <td>1</td>\n",
       "    </tr>\n",
       "    <tr>\n",
       "      <th>1</th>\n",
       "      <td>0f05a8f1-2bdf-4be7-8c82-4c9b58f04898</td>\n",
       "      <td>Veggies Inc</td>\n",
       "      <td>Luke Skywalker, David Goliat, Leon Leonov</td>\n",
       "      <td>veggie</td>\n",
       "      <td>2</td>\n",
       "    </tr>\n",
       "    <tr>\n",
       "      <th>2</th>\n",
       "      <td>1e2b47e6-499e-41c6-91d3-09d12dddfbbd</td>\n",
       "      <td>Fresh Fruits c.o</td>\n",
       "      <td>Luke Skywalker</td>\n",
       "      <td>fresh fruit</td>\n",
       "      <td>1</td>\n",
       "    </tr>\n",
       "    <tr>\n",
       "      <th>3</th>\n",
       "      <td>1c4b0b50-1d5d-463a-b56e-1a6fd3aeb7d6</td>\n",
       "      <td>Seafood Supplier</td>\n",
       "      <td>David Goliat, Leonard Cohen</td>\n",
       "      <td>seafood supplier</td>\n",
       "      <td>3</td>\n",
       "    </tr>\n",
       "    <tr>\n",
       "      <th>4</th>\n",
       "      <td>34538e39-cd2e-4641-8d24-3c94146e6f16</td>\n",
       "      <td>Meat Packers Ltd</td>\n",
       "      <td>Chris Pratt, David Henderson, Marianov Merschi...</td>\n",
       "      <td>meat packer</td>\n",
       "      <td>4</td>\n",
       "    </tr>\n",
       "    <tr>\n",
       "      <th>...</th>\n",
       "      <td>...</td>\n",
       "      <td>...</td>\n",
       "      <td>...</td>\n",
       "      <td>...</td>\n",
       "      <td>...</td>\n",
       "    </tr>\n",
       "    <tr>\n",
       "      <th>57</th>\n",
       "      <td>5f0bdbdf-1d84-4c23-957c-8bb8c0ddc89d</td>\n",
       "      <td>Tropical Fruits Ltd</td>\n",
       "      <td>Yuri Gagarin, David Goliat</td>\n",
       "      <td>fruit tropical</td>\n",
       "      <td>7</td>\n",
       "    </tr>\n",
       "    <tr>\n",
       "      <th>58</th>\n",
       "      <td>acdb6f30-764f-404e-8b8e-7e7e3e6fa1a9</td>\n",
       "      <td>Organic Farms</td>\n",
       "      <td>Leon Leonov, Chris Pratt</td>\n",
       "      <td>farm organic</td>\n",
       "      <td>6</td>\n",
       "    </tr>\n",
       "    <tr>\n",
       "      <th>59</th>\n",
       "      <td>2e90f2b1-d237-47a6-96e8-6d01c0d78c3e</td>\n",
       "      <td>Seafood Supplier GmbH</td>\n",
       "      <td>Ammy Winehouse, Leonard Cohen</td>\n",
       "      <td>seafood supplier</td>\n",
       "      <td>3</td>\n",
       "    </tr>\n",
       "    <tr>\n",
       "      <th>60</th>\n",
       "      <td>fa14c3ed-3c48-49f4-bd69-4d7f5b5f4b1b</td>\n",
       "      <td>Green Veg Co</td>\n",
       "      <td>Luke Skywalker, Chris Pratt</td>\n",
       "      <td>green veg</td>\n",
       "      <td>5</td>\n",
       "    </tr>\n",
       "    <tr>\n",
       "      <th>61</th>\n",
       "      <td>1e2b47e6-499e-41c6-91d3-09d12dddfbbd</td>\n",
       "      <td>Fresh Fruits Co</td>\n",
       "      <td>Leonard Cohen, Ammy Winehouse</td>\n",
       "      <td>fresh fruit</td>\n",
       "      <td>1</td>\n",
       "    </tr>\n",
       "  </tbody>\n",
       "</table>\n",
       "<p>62 rows × 5 columns</p>\n",
       "</div>"
      ],
      "text/plain": [
       "                              company_id           company_name  \\\n",
       "0   1e2b47e6-499e-41c6-91d3-09d12dddfbbd        Fresh Fruits Co   \n",
       "1   0f05a8f1-2bdf-4be7-8c82-4c9b58f04898            Veggies Inc   \n",
       "2   1e2b47e6-499e-41c6-91d3-09d12dddfbbd       Fresh Fruits c.o   \n",
       "3   1c4b0b50-1d5d-463a-b56e-1a6fd3aeb7d6       Seafood Supplier   \n",
       "4   34538e39-cd2e-4641-8d24-3c94146e6f16       Meat Packers Ltd   \n",
       "..                                   ...                    ...   \n",
       "57  5f0bdbdf-1d84-4c23-957c-8bb8c0ddc89d    Tropical Fruits Ltd   \n",
       "58  acdb6f30-764f-404e-8b8e-7e7e3e6fa1a9          Organic Farms   \n",
       "59  2e90f2b1-d237-47a6-96e8-6d01c0d78c3e  Seafood Supplier GmbH   \n",
       "60  fa14c3ed-3c48-49f4-bd69-4d7f5b5f4b1b           Green Veg Co   \n",
       "61  1e2b47e6-499e-41c6-91d3-09d12dddfbbd        Fresh Fruits Co   \n",
       "\n",
       "                                          salesowners normalized_company_name  \\\n",
       "0       Leonard Cohen, Luke Skywalker, Ammy Winehouse             fresh fruit   \n",
       "1           Luke Skywalker, David Goliat, Leon Leonov                  veggie   \n",
       "2                                      Luke Skywalker             fresh fruit   \n",
       "3                         David Goliat, Leonard Cohen        seafood supplier   \n",
       "4   Chris Pratt, David Henderson, Marianov Merschi...             meat packer   \n",
       "..                                                ...                     ...   \n",
       "57                         Yuri Gagarin, David Goliat          fruit tropical   \n",
       "58                           Leon Leonov, Chris Pratt            farm organic   \n",
       "59                      Ammy Winehouse, Leonard Cohen        seafood supplier   \n",
       "60                        Luke Skywalker, Chris Pratt               green veg   \n",
       "61                      Leonard Cohen, Ammy Winehouse             fresh fruit   \n",
       "\n",
       "   similarity_group  \n",
       "0                 1  \n",
       "1                 2  \n",
       "2                 1  \n",
       "3                 3  \n",
       "4                 4  \n",
       "..              ...  \n",
       "57                7  \n",
       "58                6  \n",
       "59                3  \n",
       "60                5  \n",
       "61                1  \n",
       "\n",
       "[62 rows x 5 columns]"
      ]
     },
     "execution_count": 15,
     "metadata": {},
     "output_type": "execute_result"
    }
   ],
   "source": [
    "processed_df"
   ]
  },
  {
   "cell_type": "code",
   "execution_count": 16,
   "metadata": {},
   "outputs": [
    {
     "data": {
      "text/html": [
       "<div>\n",
       "<style scoped>\n",
       "    .dataframe tbody tr th:only-of-type {\n",
       "        vertical-align: middle;\n",
       "    }\n",
       "\n",
       "    .dataframe tbody tr th {\n",
       "        vertical-align: top;\n",
       "    }\n",
       "\n",
       "    .dataframe thead th {\n",
       "        text-align: right;\n",
       "    }\n",
       "</style>\n",
       "<table border=\"1\" class=\"dataframe\">\n",
       "  <thead>\n",
       "    <tr style=\"text-align: right;\">\n",
       "      <th></th>\n",
       "      <th>company_id</th>\n",
       "      <th>company_name</th>\n",
       "      <th>list_salesowners</th>\n",
       "    </tr>\n",
       "  </thead>\n",
       "  <tbody>\n",
       "    <tr>\n",
       "      <th>8</th>\n",
       "      <td>4a98d9ec-65f6-438f-9a0c-0d9e1a6f7c65</td>\n",
       "      <td>berry fresh</td>\n",
       "      <td>Ammy Winehouse, Leonard Cohen</td>\n",
       "    </tr>\n",
       "    <tr>\n",
       "      <th>33</th>\n",
       "      <td>d66c0c95-1f86-4d55-9245-bfa98c0f8dcb</td>\n",
       "      <td>choice healthy</td>\n",
       "      <td>Ammy Winehouse, Chris Pratt, Leon Leonov</td>\n",
       "    </tr>\n",
       "    <tr>\n",
       "      <th>25</th>\n",
       "      <td>0d09ae2b-d9a5-4d67-bb97-963be9379b4e</td>\n",
       "      <td>eats healthy</td>\n",
       "      <td>Ammy Winehouse, Yuri Gagarin</td>\n",
       "    </tr>\n",
       "    <tr>\n",
       "      <th>9</th>\n",
       "      <td>f3b70f8d-bb74-4d96-b1f2-88e5c0c68b14</td>\n",
       "      <td>express meat</td>\n",
       "      <td>Chris Pratt, Marie Curie, Yuri Gagarin</td>\n",
       "    </tr>\n",
       "    <tr>\n",
       "      <th>18</th>\n",
       "      <td>a32972e9-d9ad-4180-9b79-4d29a7d22e10</td>\n",
       "      <td>express seafood</td>\n",
       "      <td>Leonard Cohen, Yuri Gagarin</td>\n",
       "    </tr>\n",
       "    <tr>\n",
       "      <th>13</th>\n",
       "      <td>5c17d142-4b21-4293-8a34-8dcd2bc24f82</td>\n",
       "      <td>farm fresh</td>\n",
       "      <td>Ammy Winehouse, Chris Pratt, David Goliat, Leo...</td>\n",
       "    </tr>\n",
       "    <tr>\n",
       "      <th>26</th>\n",
       "      <td>4a7561b1-1de1-420a-93ed-2c12a5bbd1ab</td>\n",
       "      <td>farm global</td>\n",
       "      <td>David Goliat, Leonard Cohen</td>\n",
       "    </tr>\n",
       "    <tr>\n",
       "      <th>16</th>\n",
       "      <td>1f06b236-f6b5-4f48-8c1c-7b55b5c7d6f7</td>\n",
       "      <td>farm green</td>\n",
       "      <td>Ammy Winehouse, Leon Leonov</td>\n",
       "    </tr>\n",
       "    <tr>\n",
       "      <th>5</th>\n",
       "      <td>acdb6f30-764f-404e-8b8e-7e7e3e6fa1a9</td>\n",
       "      <td>farm organic</td>\n",
       "      <td>Chris Pratt, David Henderson, Leon Leonov, Leo...</td>\n",
       "    </tr>\n",
       "    <tr>\n",
       "      <th>32</th>\n",
       "      <td>6cbfd9da-14d3-4a56-b928-3a1e2c71ef83</td>\n",
       "      <td>farm tropical</td>\n",
       "      <td>David Goliat, Leonard Cohen</td>\n",
       "    </tr>\n",
       "    <tr>\n",
       "      <th>24</th>\n",
       "      <td>8347edb3-c4e5-4fc1-8e0c-1fcf9f0d02b9</td>\n",
       "      <td>food organic</td>\n",
       "      <td>Chris Pratt, Leon Leonov, Leonard Cohen</td>\n",
       "    </tr>\n",
       "    <tr>\n",
       "      <th>0</th>\n",
       "      <td>1e2b47e6-499e-41c6-91d3-09d12dddfbbd</td>\n",
       "      <td>fresh fruit</td>\n",
       "      <td>Ammy Winehouse, David Henderson, Leon Leonov, ...</td>\n",
       "    </tr>\n",
       "    <tr>\n",
       "      <th>10</th>\n",
       "      <td>83df789a-b30c-4a1b-8e67-1f512bfa20c7</td>\n",
       "      <td>fresh tropical</td>\n",
       "      <td>Ammy Winehouse, David Henderson, Leonard Cohen</td>\n",
       "    </tr>\n",
       "    <tr>\n",
       "      <th>34</th>\n",
       "      <td>1b21f4a3-22d2-43f2-ae3f-e254d282d9e0</td>\n",
       "      <td>fresh veg</td>\n",
       "      <td>David Henderson, Leonard Cohen</td>\n",
       "    </tr>\n",
       "    <tr>\n",
       "      <th>21</th>\n",
       "      <td>f31b4d26-5083-4b7a-bef9-3f89c7c95758</td>\n",
       "      <td>fresh veggie</td>\n",
       "      <td>Marie Curie, Yuri Gagarin</td>\n",
       "    </tr>\n",
       "    <tr>\n",
       "      <th>22</th>\n",
       "      <td>063a7dc7-b93a-4f38-b7f0-0e30b5b217ac</td>\n",
       "      <td>fruit king</td>\n",
       "      <td>David Goliat, Leon Leonov</td>\n",
       "    </tr>\n",
       "    <tr>\n",
       "      <th>28</th>\n",
       "      <td>9851fa89-7b7a-4ed5-89f7-65c20599e0d2</td>\n",
       "      <td>fruit market</td>\n",
       "      <td>Ammy Winehouse, David Henderson, Leonard Cohen</td>\n",
       "    </tr>\n",
       "    <tr>\n",
       "      <th>6</th>\n",
       "      <td>5f0bdbdf-1d84-4c23-957c-8bb8c0ddc89d</td>\n",
       "      <td>fruit tropical</td>\n",
       "      <td>David Goliat, David Henderson, Yuri Gagarin</td>\n",
       "    </tr>\n",
       "    <tr>\n",
       "      <th>15</th>\n",
       "      <td>6d3f48b2-4e3c-49d5-b437-735d537bb2a6</td>\n",
       "      <td>fruit veggie</td>\n",
       "      <td>Chris Pratt, Yuri Gagarin</td>\n",
       "    </tr>\n",
       "    <tr>\n",
       "      <th>12</th>\n",
       "      <td>d4e31b02-ea50-46b7-a8a1-43fdbb06e3fa</td>\n",
       "      <td>global seafood</td>\n",
       "      <td>David Henderson, Leonard Cohen, Marie Curie, Y...</td>\n",
       "    </tr>\n",
       "    <tr>\n",
       "      <th>29</th>\n",
       "      <td>c672f19b-f08b-4e11-b0f5-791ea8273d85</td>\n",
       "      <td>global veggie</td>\n",
       "      <td>Chris Pratt, Yuri Gagarin</td>\n",
       "    </tr>\n",
       "    <tr>\n",
       "      <th>14</th>\n",
       "      <td>2b42dcb7-bc74-4e56-93f8-7612d5061d5f</td>\n",
       "      <td>green healthy</td>\n",
       "      <td>Ammy Winehouse, Leonard Cohen, Marie Curie</td>\n",
       "    </tr>\n",
       "    <tr>\n",
       "      <th>31</th>\n",
       "      <td>f712dc3d-4681-4ec6-9b76-bf47b4ccf5b2</td>\n",
       "      <td>green organic</td>\n",
       "      <td>Chris Pratt, Leon Leonov</td>\n",
       "    </tr>\n",
       "    <tr>\n",
       "      <th>4</th>\n",
       "      <td>fa14c3ed-3c48-49f4-bd69-4d7f5b5f4b1b</td>\n",
       "      <td>green veg</td>\n",
       "      <td>Ammy Winehouse, Chris Pratt, David Henderson, ...</td>\n",
       "    </tr>\n",
       "    <tr>\n",
       "      <th>20</th>\n",
       "      <td>012f20c6-00d5-4f45-999f-12e7639db623</td>\n",
       "      <td>green world</td>\n",
       "      <td>Chris Pratt, David Goliat</td>\n",
       "    </tr>\n",
       "    <tr>\n",
       "      <th>23</th>\n",
       "      <td>7f80fdd9-1c1a-4ad4-9348-19e6b2b44bde</td>\n",
       "      <td>haven veggie</td>\n",
       "      <td>Ammy Winehouse, Chris Pratt, Leonard Cohen</td>\n",
       "    </tr>\n",
       "    <tr>\n",
       "      <th>19</th>\n",
       "      <td>9e25a3d7-46b8-4c9d-b805-2f6c3be6f5a0</td>\n",
       "      <td>healthy organic</td>\n",
       "      <td>Ammy Winehouse, Leon Leonov, Marie Curie</td>\n",
       "    </tr>\n",
       "    <tr>\n",
       "      <th>7</th>\n",
       "      <td>27c59f76-5d26-4b82-a89b-59f8dfd2e9a7</td>\n",
       "      <td>healthy snack</td>\n",
       "      <td>Ammy Winehouse, Chris Pratt, Luke Skywalker, M...</td>\n",
       "    </tr>\n",
       "    <tr>\n",
       "      <th>3</th>\n",
       "      <td>34538e39-cd2e-4641-8d24-3c94146e6f16</td>\n",
       "      <td>meat packer</td>\n",
       "      <td>Chris Pratt, David Henderson, Leon Leonov, Mar...</td>\n",
       "    </tr>\n",
       "    <tr>\n",
       "      <th>30</th>\n",
       "      <td>0b8755d4-3d28-4039-b9a7-b30cb5ff02ea</td>\n",
       "      <td>network seafood</td>\n",
       "      <td>Ammy Winehouse, David Goliat, Leon Leonov</td>\n",
       "    </tr>\n",
       "    <tr>\n",
       "      <th>17</th>\n",
       "      <td>7d4b212e-29e5-4f2a-9b28-745a3c7f0b60</td>\n",
       "      <td>organic veggie</td>\n",
       "      <td>Ammy Winehouse, David Henderson, Leonard Cohen</td>\n",
       "    </tr>\n",
       "    <tr>\n",
       "      <th>27</th>\n",
       "      <td>4c0e716f-c8b1-4ad5-b612-92f5a1d6be79</td>\n",
       "      <td>partner veggie</td>\n",
       "      <td>Chris Pratt, Leon Leonov</td>\n",
       "    </tr>\n",
       "    <tr>\n",
       "      <th>2</th>\n",
       "      <td>1c4b0b50-1d5d-463a-b56e-1a6fd3aeb7d6</td>\n",
       "      <td>seafood supplier</td>\n",
       "      <td>Ammy Winehouse, David Goliat, Leonard Cohen, M...</td>\n",
       "    </tr>\n",
       "    <tr>\n",
       "      <th>11</th>\n",
       "      <td>9b31b19f-69a2-4aeb-8f6e-f4b8d2f9c12a</td>\n",
       "      <td>unlimited veggie</td>\n",
       "      <td>Ammy Winehouse, Leon Leonov</td>\n",
       "    </tr>\n",
       "    <tr>\n",
       "      <th>1</th>\n",
       "      <td>0f05a8f1-2bdf-4be7-8c82-4c9b58f04898</td>\n",
       "      <td>veggie</td>\n",
       "      <td>David Goliat, Leon Leonov, Leonard Cohen, Luke...</td>\n",
       "    </tr>\n",
       "  </tbody>\n",
       "</table>\n",
       "</div>"
      ],
      "text/plain": [
       "                              company_id      company_name  \\\n",
       "8   4a98d9ec-65f6-438f-9a0c-0d9e1a6f7c65       berry fresh   \n",
       "33  d66c0c95-1f86-4d55-9245-bfa98c0f8dcb    choice healthy   \n",
       "25  0d09ae2b-d9a5-4d67-bb97-963be9379b4e      eats healthy   \n",
       "9   f3b70f8d-bb74-4d96-b1f2-88e5c0c68b14      express meat   \n",
       "18  a32972e9-d9ad-4180-9b79-4d29a7d22e10   express seafood   \n",
       "13  5c17d142-4b21-4293-8a34-8dcd2bc24f82        farm fresh   \n",
       "26  4a7561b1-1de1-420a-93ed-2c12a5bbd1ab       farm global   \n",
       "16  1f06b236-f6b5-4f48-8c1c-7b55b5c7d6f7        farm green   \n",
       "5   acdb6f30-764f-404e-8b8e-7e7e3e6fa1a9      farm organic   \n",
       "32  6cbfd9da-14d3-4a56-b928-3a1e2c71ef83     farm tropical   \n",
       "24  8347edb3-c4e5-4fc1-8e0c-1fcf9f0d02b9      food organic   \n",
       "0   1e2b47e6-499e-41c6-91d3-09d12dddfbbd       fresh fruit   \n",
       "10  83df789a-b30c-4a1b-8e67-1f512bfa20c7    fresh tropical   \n",
       "34  1b21f4a3-22d2-43f2-ae3f-e254d282d9e0         fresh veg   \n",
       "21  f31b4d26-5083-4b7a-bef9-3f89c7c95758      fresh veggie   \n",
       "22  063a7dc7-b93a-4f38-b7f0-0e30b5b217ac        fruit king   \n",
       "28  9851fa89-7b7a-4ed5-89f7-65c20599e0d2      fruit market   \n",
       "6   5f0bdbdf-1d84-4c23-957c-8bb8c0ddc89d    fruit tropical   \n",
       "15  6d3f48b2-4e3c-49d5-b437-735d537bb2a6      fruit veggie   \n",
       "12  d4e31b02-ea50-46b7-a8a1-43fdbb06e3fa    global seafood   \n",
       "29  c672f19b-f08b-4e11-b0f5-791ea8273d85     global veggie   \n",
       "14  2b42dcb7-bc74-4e56-93f8-7612d5061d5f     green healthy   \n",
       "31  f712dc3d-4681-4ec6-9b76-bf47b4ccf5b2     green organic   \n",
       "4   fa14c3ed-3c48-49f4-bd69-4d7f5b5f4b1b         green veg   \n",
       "20  012f20c6-00d5-4f45-999f-12e7639db623       green world   \n",
       "23  7f80fdd9-1c1a-4ad4-9348-19e6b2b44bde      haven veggie   \n",
       "19  9e25a3d7-46b8-4c9d-b805-2f6c3be6f5a0   healthy organic   \n",
       "7   27c59f76-5d26-4b82-a89b-59f8dfd2e9a7     healthy snack   \n",
       "3   34538e39-cd2e-4641-8d24-3c94146e6f16       meat packer   \n",
       "30  0b8755d4-3d28-4039-b9a7-b30cb5ff02ea   network seafood   \n",
       "17  7d4b212e-29e5-4f2a-9b28-745a3c7f0b60    organic veggie   \n",
       "27  4c0e716f-c8b1-4ad5-b612-92f5a1d6be79    partner veggie   \n",
       "2   1c4b0b50-1d5d-463a-b56e-1a6fd3aeb7d6  seafood supplier   \n",
       "11  9b31b19f-69a2-4aeb-8f6e-f4b8d2f9c12a  unlimited veggie   \n",
       "1   0f05a8f1-2bdf-4be7-8c82-4c9b58f04898            veggie   \n",
       "\n",
       "                                     list_salesowners  \n",
       "8                       Ammy Winehouse, Leonard Cohen  \n",
       "33           Ammy Winehouse, Chris Pratt, Leon Leonov  \n",
       "25                       Ammy Winehouse, Yuri Gagarin  \n",
       "9              Chris Pratt, Marie Curie, Yuri Gagarin  \n",
       "18                        Leonard Cohen, Yuri Gagarin  \n",
       "13  Ammy Winehouse, Chris Pratt, David Goliat, Leo...  \n",
       "26                        David Goliat, Leonard Cohen  \n",
       "16                        Ammy Winehouse, Leon Leonov  \n",
       "5   Chris Pratt, David Henderson, Leon Leonov, Leo...  \n",
       "32                        David Goliat, Leonard Cohen  \n",
       "24            Chris Pratt, Leon Leonov, Leonard Cohen  \n",
       "0   Ammy Winehouse, David Henderson, Leon Leonov, ...  \n",
       "10     Ammy Winehouse, David Henderson, Leonard Cohen  \n",
       "34                     David Henderson, Leonard Cohen  \n",
       "21                          Marie Curie, Yuri Gagarin  \n",
       "22                          David Goliat, Leon Leonov  \n",
       "28     Ammy Winehouse, David Henderson, Leonard Cohen  \n",
       "6         David Goliat, David Henderson, Yuri Gagarin  \n",
       "15                          Chris Pratt, Yuri Gagarin  \n",
       "12  David Henderson, Leonard Cohen, Marie Curie, Y...  \n",
       "29                          Chris Pratt, Yuri Gagarin  \n",
       "14         Ammy Winehouse, Leonard Cohen, Marie Curie  \n",
       "31                           Chris Pratt, Leon Leonov  \n",
       "4   Ammy Winehouse, Chris Pratt, David Henderson, ...  \n",
       "20                          Chris Pratt, David Goliat  \n",
       "23         Ammy Winehouse, Chris Pratt, Leonard Cohen  \n",
       "19           Ammy Winehouse, Leon Leonov, Marie Curie  \n",
       "7   Ammy Winehouse, Chris Pratt, Luke Skywalker, M...  \n",
       "3   Chris Pratt, David Henderson, Leon Leonov, Mar...  \n",
       "30          Ammy Winehouse, David Goliat, Leon Leonov  \n",
       "17     Ammy Winehouse, David Henderson, Leonard Cohen  \n",
       "27                           Chris Pratt, Leon Leonov  \n",
       "2   Ammy Winehouse, David Goliat, Leonard Cohen, M...  \n",
       "11                        Ammy Winehouse, Leon Leonov  \n",
       "1   David Goliat, Leon Leonov, Leonard Cohen, Luke...  "
      ]
     },
     "execution_count": 16,
     "metadata": {},
     "output_type": "execute_result"
    }
   ],
   "source": [
    "# Agrupamos por similarity_group para consolidar empresas duplicadas\n",
    "grouped_df = raw_df.groupby(['similarity_group']).agg({\n",
    "    'company_id': 'first',  # Escogemos un ID representativo del grupo\n",
    "    'normalized_company_name': 'first',  # Usamos el nombre normalizado como nombre representativo\n",
    "    'salesowners': lambda x: sorted(set(', '.join(x).split(', ')))  # Combina, deduplica y ordena vendedores\n",
    "}).reset_index()\n",
    "\n",
    "# Convertimos la lista de salesowners en una cadena separada por comas y ordenada alfabéticamente\n",
    "grouped_df['list_salesowners'] = grouped_df['salesowners'].apply(lambda x: ', '.join(x))\n",
    "\n",
    "# Renombramos 'normalized_company_name' a 'company_name' para el DataFrame final\n",
    "df_3 = grouped_df[['company_id', 'normalized_company_name', 'list_salesowners']].rename(columns={'normalized_company_name': 'company_name'})\n",
    "\n",
    "# Mostrar el resultado final\n",
    "df_3.sort_values(by='company_name')"
   ]
  },
  {
   "cell_type": "code",
   "execution_count": 17,
   "metadata": {},
   "outputs": [
    {
     "data": {
      "text/html": [
       "<div>\n",
       "<style scoped>\n",
       "    .dataframe tbody tr th:only-of-type {\n",
       "        vertical-align: middle;\n",
       "    }\n",
       "\n",
       "    .dataframe tbody tr th {\n",
       "        vertical-align: top;\n",
       "    }\n",
       "\n",
       "    .dataframe thead th {\n",
       "        text-align: right;\n",
       "    }\n",
       "</style>\n",
       "<table border=\"1\" class=\"dataframe\">\n",
       "  <thead>\n",
       "    <tr style=\"text-align: right;\">\n",
       "      <th></th>\n",
       "      <th>company_id</th>\n",
       "      <th>company_name</th>\n",
       "      <th>list_salesowners</th>\n",
       "    </tr>\n",
       "  </thead>\n",
       "  <tbody>\n",
       "    <tr>\n",
       "      <th>0</th>\n",
       "      <td>1e2b47e6-499e-41c6-91d3-09d12dddfbbd</td>\n",
       "      <td>fresh fruit</td>\n",
       "      <td>Ammy Winehouse, David Henderson, Leon Leonov, ...</td>\n",
       "    </tr>\n",
       "    <tr>\n",
       "      <th>1</th>\n",
       "      <td>0f05a8f1-2bdf-4be7-8c82-4c9b58f04898</td>\n",
       "      <td>veggie</td>\n",
       "      <td>David Goliat, Leon Leonov, Leonard Cohen, Luke...</td>\n",
       "    </tr>\n",
       "    <tr>\n",
       "      <th>2</th>\n",
       "      <td>1c4b0b50-1d5d-463a-b56e-1a6fd3aeb7d6</td>\n",
       "      <td>seafood supplier</td>\n",
       "      <td>Ammy Winehouse, David Goliat, Leonard Cohen, M...</td>\n",
       "    </tr>\n",
       "    <tr>\n",
       "      <th>3</th>\n",
       "      <td>34538e39-cd2e-4641-8d24-3c94146e6f16</td>\n",
       "      <td>meat packer</td>\n",
       "      <td>Chris Pratt, David Henderson, Leon Leonov, Mar...</td>\n",
       "    </tr>\n",
       "    <tr>\n",
       "      <th>4</th>\n",
       "      <td>fa14c3ed-3c48-49f4-bd69-4d7f5b5f4b1b</td>\n",
       "      <td>green veg</td>\n",
       "      <td>Ammy Winehouse, Chris Pratt, David Henderson, ...</td>\n",
       "    </tr>\n",
       "    <tr>\n",
       "      <th>5</th>\n",
       "      <td>acdb6f30-764f-404e-8b8e-7e7e3e6fa1a9</td>\n",
       "      <td>farm organic</td>\n",
       "      <td>Chris Pratt, David Henderson, Leon Leonov, Leo...</td>\n",
       "    </tr>\n",
       "    <tr>\n",
       "      <th>6</th>\n",
       "      <td>5f0bdbdf-1d84-4c23-957c-8bb8c0ddc89d</td>\n",
       "      <td>fruit tropical</td>\n",
       "      <td>David Goliat, David Henderson, Yuri Gagarin</td>\n",
       "    </tr>\n",
       "    <tr>\n",
       "      <th>7</th>\n",
       "      <td>27c59f76-5d26-4b82-a89b-59f8dfd2e9a7</td>\n",
       "      <td>healthy snack</td>\n",
       "      <td>Ammy Winehouse, Chris Pratt, Luke Skywalker, M...</td>\n",
       "    </tr>\n",
       "    <tr>\n",
       "      <th>8</th>\n",
       "      <td>4a98d9ec-65f6-438f-9a0c-0d9e1a6f7c65</td>\n",
       "      <td>berry fresh</td>\n",
       "      <td>Ammy Winehouse, Leonard Cohen</td>\n",
       "    </tr>\n",
       "    <tr>\n",
       "      <th>9</th>\n",
       "      <td>f3b70f8d-bb74-4d96-b1f2-88e5c0c68b14</td>\n",
       "      <td>express meat</td>\n",
       "      <td>Chris Pratt, Marie Curie, Yuri Gagarin</td>\n",
       "    </tr>\n",
       "    <tr>\n",
       "      <th>10</th>\n",
       "      <td>83df789a-b30c-4a1b-8e67-1f512bfa20c7</td>\n",
       "      <td>fresh tropical</td>\n",
       "      <td>Ammy Winehouse, David Henderson, Leonard Cohen</td>\n",
       "    </tr>\n",
       "    <tr>\n",
       "      <th>11</th>\n",
       "      <td>9b31b19f-69a2-4aeb-8f6e-f4b8d2f9c12a</td>\n",
       "      <td>unlimited veggie</td>\n",
       "      <td>Ammy Winehouse, Leon Leonov</td>\n",
       "    </tr>\n",
       "    <tr>\n",
       "      <th>12</th>\n",
       "      <td>d4e31b02-ea50-46b7-a8a1-43fdbb06e3fa</td>\n",
       "      <td>global seafood</td>\n",
       "      <td>David Henderson, Leonard Cohen, Marie Curie, Y...</td>\n",
       "    </tr>\n",
       "    <tr>\n",
       "      <th>13</th>\n",
       "      <td>5c17d142-4b21-4293-8a34-8dcd2bc24f82</td>\n",
       "      <td>farm fresh</td>\n",
       "      <td>Ammy Winehouse, Chris Pratt, David Goliat, Leo...</td>\n",
       "    </tr>\n",
       "    <tr>\n",
       "      <th>14</th>\n",
       "      <td>2b42dcb7-bc74-4e56-93f8-7612d5061d5f</td>\n",
       "      <td>green healthy</td>\n",
       "      <td>Ammy Winehouse, Leonard Cohen, Marie Curie</td>\n",
       "    </tr>\n",
       "    <tr>\n",
       "      <th>15</th>\n",
       "      <td>6d3f48b2-4e3c-49d5-b437-735d537bb2a6</td>\n",
       "      <td>fruit veggie</td>\n",
       "      <td>Chris Pratt, Yuri Gagarin</td>\n",
       "    </tr>\n",
       "    <tr>\n",
       "      <th>16</th>\n",
       "      <td>1f06b236-f6b5-4f48-8c1c-7b55b5c7d6f7</td>\n",
       "      <td>farm green</td>\n",
       "      <td>Ammy Winehouse, Leon Leonov</td>\n",
       "    </tr>\n",
       "    <tr>\n",
       "      <th>17</th>\n",
       "      <td>7d4b212e-29e5-4f2a-9b28-745a3c7f0b60</td>\n",
       "      <td>organic veggie</td>\n",
       "      <td>Ammy Winehouse, David Henderson, Leonard Cohen</td>\n",
       "    </tr>\n",
       "    <tr>\n",
       "      <th>18</th>\n",
       "      <td>a32972e9-d9ad-4180-9b79-4d29a7d22e10</td>\n",
       "      <td>express seafood</td>\n",
       "      <td>Leonard Cohen, Yuri Gagarin</td>\n",
       "    </tr>\n",
       "    <tr>\n",
       "      <th>19</th>\n",
       "      <td>9e25a3d7-46b8-4c9d-b805-2f6c3be6f5a0</td>\n",
       "      <td>healthy organic</td>\n",
       "      <td>Ammy Winehouse, Leon Leonov, Marie Curie</td>\n",
       "    </tr>\n",
       "    <tr>\n",
       "      <th>20</th>\n",
       "      <td>012f20c6-00d5-4f45-999f-12e7639db623</td>\n",
       "      <td>green world</td>\n",
       "      <td>Chris Pratt, David Goliat</td>\n",
       "    </tr>\n",
       "    <tr>\n",
       "      <th>21</th>\n",
       "      <td>f31b4d26-5083-4b7a-bef9-3f89c7c95758</td>\n",
       "      <td>fresh veggie</td>\n",
       "      <td>Marie Curie, Yuri Gagarin</td>\n",
       "    </tr>\n",
       "    <tr>\n",
       "      <th>22</th>\n",
       "      <td>063a7dc7-b93a-4f38-b7f0-0e30b5b217ac</td>\n",
       "      <td>fruit king</td>\n",
       "      <td>David Goliat, Leon Leonov</td>\n",
       "    </tr>\n",
       "    <tr>\n",
       "      <th>23</th>\n",
       "      <td>7f80fdd9-1c1a-4ad4-9348-19e6b2b44bde</td>\n",
       "      <td>haven veggie</td>\n",
       "      <td>Ammy Winehouse, Chris Pratt, Leonard Cohen</td>\n",
       "    </tr>\n",
       "    <tr>\n",
       "      <th>24</th>\n",
       "      <td>8347edb3-c4e5-4fc1-8e0c-1fcf9f0d02b9</td>\n",
       "      <td>food organic</td>\n",
       "      <td>Chris Pratt, Leon Leonov, Leonard Cohen</td>\n",
       "    </tr>\n",
       "    <tr>\n",
       "      <th>25</th>\n",
       "      <td>0d09ae2b-d9a5-4d67-bb97-963be9379b4e</td>\n",
       "      <td>eats healthy</td>\n",
       "      <td>Ammy Winehouse, Yuri Gagarin</td>\n",
       "    </tr>\n",
       "    <tr>\n",
       "      <th>26</th>\n",
       "      <td>4a7561b1-1de1-420a-93ed-2c12a5bbd1ab</td>\n",
       "      <td>farm global</td>\n",
       "      <td>David Goliat, Leonard Cohen</td>\n",
       "    </tr>\n",
       "    <tr>\n",
       "      <th>27</th>\n",
       "      <td>4c0e716f-c8b1-4ad5-b612-92f5a1d6be79</td>\n",
       "      <td>partner veggie</td>\n",
       "      <td>Chris Pratt, Leon Leonov</td>\n",
       "    </tr>\n",
       "    <tr>\n",
       "      <th>28</th>\n",
       "      <td>9851fa89-7b7a-4ed5-89f7-65c20599e0d2</td>\n",
       "      <td>fruit market</td>\n",
       "      <td>Ammy Winehouse, David Henderson, Leonard Cohen</td>\n",
       "    </tr>\n",
       "    <tr>\n",
       "      <th>29</th>\n",
       "      <td>c672f19b-f08b-4e11-b0f5-791ea8273d85</td>\n",
       "      <td>global veggie</td>\n",
       "      <td>Chris Pratt, Yuri Gagarin</td>\n",
       "    </tr>\n",
       "    <tr>\n",
       "      <th>30</th>\n",
       "      <td>0b8755d4-3d28-4039-b9a7-b30cb5ff02ea</td>\n",
       "      <td>network seafood</td>\n",
       "      <td>Ammy Winehouse, David Goliat, Leon Leonov</td>\n",
       "    </tr>\n",
       "    <tr>\n",
       "      <th>31</th>\n",
       "      <td>f712dc3d-4681-4ec6-9b76-bf47b4ccf5b2</td>\n",
       "      <td>green organic</td>\n",
       "      <td>Chris Pratt, Leon Leonov</td>\n",
       "    </tr>\n",
       "    <tr>\n",
       "      <th>32</th>\n",
       "      <td>6cbfd9da-14d3-4a56-b928-3a1e2c71ef83</td>\n",
       "      <td>farm tropical</td>\n",
       "      <td>David Goliat, Leonard Cohen</td>\n",
       "    </tr>\n",
       "    <tr>\n",
       "      <th>33</th>\n",
       "      <td>d66c0c95-1f86-4d55-9245-bfa98c0f8dcb</td>\n",
       "      <td>choice healthy</td>\n",
       "      <td>Ammy Winehouse, Chris Pratt, Leon Leonov</td>\n",
       "    </tr>\n",
       "    <tr>\n",
       "      <th>34</th>\n",
       "      <td>1b21f4a3-22d2-43f2-ae3f-e254d282d9e0</td>\n",
       "      <td>fresh veg</td>\n",
       "      <td>David Henderson, Leonard Cohen</td>\n",
       "    </tr>\n",
       "  </tbody>\n",
       "</table>\n",
       "</div>"
      ],
      "text/plain": [
       "                              company_id      company_name  \\\n",
       "0   1e2b47e6-499e-41c6-91d3-09d12dddfbbd       fresh fruit   \n",
       "1   0f05a8f1-2bdf-4be7-8c82-4c9b58f04898            veggie   \n",
       "2   1c4b0b50-1d5d-463a-b56e-1a6fd3aeb7d6  seafood supplier   \n",
       "3   34538e39-cd2e-4641-8d24-3c94146e6f16       meat packer   \n",
       "4   fa14c3ed-3c48-49f4-bd69-4d7f5b5f4b1b         green veg   \n",
       "5   acdb6f30-764f-404e-8b8e-7e7e3e6fa1a9      farm organic   \n",
       "6   5f0bdbdf-1d84-4c23-957c-8bb8c0ddc89d    fruit tropical   \n",
       "7   27c59f76-5d26-4b82-a89b-59f8dfd2e9a7     healthy snack   \n",
       "8   4a98d9ec-65f6-438f-9a0c-0d9e1a6f7c65       berry fresh   \n",
       "9   f3b70f8d-bb74-4d96-b1f2-88e5c0c68b14      express meat   \n",
       "10  83df789a-b30c-4a1b-8e67-1f512bfa20c7    fresh tropical   \n",
       "11  9b31b19f-69a2-4aeb-8f6e-f4b8d2f9c12a  unlimited veggie   \n",
       "12  d4e31b02-ea50-46b7-a8a1-43fdbb06e3fa    global seafood   \n",
       "13  5c17d142-4b21-4293-8a34-8dcd2bc24f82        farm fresh   \n",
       "14  2b42dcb7-bc74-4e56-93f8-7612d5061d5f     green healthy   \n",
       "15  6d3f48b2-4e3c-49d5-b437-735d537bb2a6      fruit veggie   \n",
       "16  1f06b236-f6b5-4f48-8c1c-7b55b5c7d6f7        farm green   \n",
       "17  7d4b212e-29e5-4f2a-9b28-745a3c7f0b60    organic veggie   \n",
       "18  a32972e9-d9ad-4180-9b79-4d29a7d22e10   express seafood   \n",
       "19  9e25a3d7-46b8-4c9d-b805-2f6c3be6f5a0   healthy organic   \n",
       "20  012f20c6-00d5-4f45-999f-12e7639db623       green world   \n",
       "21  f31b4d26-5083-4b7a-bef9-3f89c7c95758      fresh veggie   \n",
       "22  063a7dc7-b93a-4f38-b7f0-0e30b5b217ac        fruit king   \n",
       "23  7f80fdd9-1c1a-4ad4-9348-19e6b2b44bde      haven veggie   \n",
       "24  8347edb3-c4e5-4fc1-8e0c-1fcf9f0d02b9      food organic   \n",
       "25  0d09ae2b-d9a5-4d67-bb97-963be9379b4e      eats healthy   \n",
       "26  4a7561b1-1de1-420a-93ed-2c12a5bbd1ab       farm global   \n",
       "27  4c0e716f-c8b1-4ad5-b612-92f5a1d6be79    partner veggie   \n",
       "28  9851fa89-7b7a-4ed5-89f7-65c20599e0d2      fruit market   \n",
       "29  c672f19b-f08b-4e11-b0f5-791ea8273d85     global veggie   \n",
       "30  0b8755d4-3d28-4039-b9a7-b30cb5ff02ea   network seafood   \n",
       "31  f712dc3d-4681-4ec6-9b76-bf47b4ccf5b2     green organic   \n",
       "32  6cbfd9da-14d3-4a56-b928-3a1e2c71ef83     farm tropical   \n",
       "33  d66c0c95-1f86-4d55-9245-bfa98c0f8dcb    choice healthy   \n",
       "34  1b21f4a3-22d2-43f2-ae3f-e254d282d9e0         fresh veg   \n",
       "\n",
       "                                     list_salesowners  \n",
       "0   Ammy Winehouse, David Henderson, Leon Leonov, ...  \n",
       "1   David Goliat, Leon Leonov, Leonard Cohen, Luke...  \n",
       "2   Ammy Winehouse, David Goliat, Leonard Cohen, M...  \n",
       "3   Chris Pratt, David Henderson, Leon Leonov, Mar...  \n",
       "4   Ammy Winehouse, Chris Pratt, David Henderson, ...  \n",
       "5   Chris Pratt, David Henderson, Leon Leonov, Leo...  \n",
       "6         David Goliat, David Henderson, Yuri Gagarin  \n",
       "7   Ammy Winehouse, Chris Pratt, Luke Skywalker, M...  \n",
       "8                       Ammy Winehouse, Leonard Cohen  \n",
       "9              Chris Pratt, Marie Curie, Yuri Gagarin  \n",
       "10     Ammy Winehouse, David Henderson, Leonard Cohen  \n",
       "11                        Ammy Winehouse, Leon Leonov  \n",
       "12  David Henderson, Leonard Cohen, Marie Curie, Y...  \n",
       "13  Ammy Winehouse, Chris Pratt, David Goliat, Leo...  \n",
       "14         Ammy Winehouse, Leonard Cohen, Marie Curie  \n",
       "15                          Chris Pratt, Yuri Gagarin  \n",
       "16                        Ammy Winehouse, Leon Leonov  \n",
       "17     Ammy Winehouse, David Henderson, Leonard Cohen  \n",
       "18                        Leonard Cohen, Yuri Gagarin  \n",
       "19           Ammy Winehouse, Leon Leonov, Marie Curie  \n",
       "20                          Chris Pratt, David Goliat  \n",
       "21                          Marie Curie, Yuri Gagarin  \n",
       "22                          David Goliat, Leon Leonov  \n",
       "23         Ammy Winehouse, Chris Pratt, Leonard Cohen  \n",
       "24            Chris Pratt, Leon Leonov, Leonard Cohen  \n",
       "25                       Ammy Winehouse, Yuri Gagarin  \n",
       "26                        David Goliat, Leonard Cohen  \n",
       "27                           Chris Pratt, Leon Leonov  \n",
       "28     Ammy Winehouse, David Henderson, Leonard Cohen  \n",
       "29                          Chris Pratt, Yuri Gagarin  \n",
       "30          Ammy Winehouse, David Goliat, Leon Leonov  \n",
       "31                           Chris Pratt, Leon Leonov  \n",
       "32                        David Goliat, Leonard Cohen  \n",
       "33           Ammy Winehouse, Chris Pratt, Leon Leonov  \n",
       "34                     David Henderson, Leonard Cohen  "
      ]
     },
     "execution_count": 17,
     "metadata": {},
     "output_type": "execute_result"
    }
   ],
   "source": [
    "#print dataframe\n",
    "df_3\n",
    "\n"
   ]
  },
  {
   "cell_type": "markdown",
   "metadata": {},
   "source": [
    "## Test 6 \n",
    "\n",
    "+ What is the distribtion of orders by crate type.\n",
    "+ Which sales owners need most training to improve selling on plastic crates, based on the last 12 months orders.\n",
    "+ Understand who are by month the top 5 performers selling plastic crates for a rolling 3 months evaluation window\n"
   ]
  },
  {
   "cell_type": "markdown",
   "metadata": {},
   "source": [
    "6.1. What is the distribtion of orders by crate type."
   ]
  },
  {
   "cell_type": "code",
   "execution_count": 218,
   "metadata": {},
   "outputs": [
    {
     "data": {
      "text/plain": [
       "crate_type\n",
       "Plastic    19\n",
       "Metal      14\n",
       "Wood       13\n",
       "Name: count, dtype: int64"
      ]
     },
     "execution_count": 218,
     "metadata": {},
     "output_type": "execute_result"
    }
   ],
   "source": [
    "#read in output crate_distribution.csv\n",
    "crate_distribution = pd.read_csv('../output/crate_distribution.csv')\n",
    "\n",
    "\n",
    "crate_distribution.crate_type.value_counts()"
   ]
  },
  {
   "cell_type": "code",
   "execution_count": 18,
   "metadata": {},
   "outputs": [
    {
     "name": "stdout",
     "output_type": "stream",
     "text": [
      "<class 'pandas.core.frame.DataFrame'>\n",
      "RangeIndex: 62 entries, 0 to 61\n",
      "Data columns (total 7 columns):\n",
      " #   Column        Non-Null Count  Dtype         \n",
      "---  ------        --------------  -----         \n",
      " 0   order_id      62 non-null     object        \n",
      " 1   date          62 non-null     datetime64[ns]\n",
      " 2   company_id    62 non-null     object        \n",
      " 3   company_name  62 non-null     object        \n",
      " 4   crate_type    62 non-null     object        \n",
      " 5   contact_data  45 non-null     object        \n",
      " 6   salesowners   62 non-null     object        \n",
      "dtypes: datetime64[ns](1), object(6)\n",
      "memory usage: 3.5+ KB\n",
      "None\n"
     ]
    },
    {
     "data": {
      "text/html": [
       "<div>\n",
       "<style scoped>\n",
       "    .dataframe tbody tr th:only-of-type {\n",
       "        vertical-align: middle;\n",
       "    }\n",
       "\n",
       "    .dataframe tbody tr th {\n",
       "        vertical-align: top;\n",
       "    }\n",
       "\n",
       "    .dataframe thead th {\n",
       "        text-align: right;\n",
       "    }\n",
       "</style>\n",
       "<table border=\"1\" class=\"dataframe\">\n",
       "  <thead>\n",
       "    <tr style=\"text-align: right;\">\n",
       "      <th></th>\n",
       "      <th>order_id</th>\n",
       "      <th>date</th>\n",
       "      <th>company_id</th>\n",
       "      <th>company_name</th>\n",
       "      <th>crate_type</th>\n",
       "      <th>contact_data</th>\n",
       "      <th>salesowners</th>\n",
       "    </tr>\n",
       "  </thead>\n",
       "  <tbody>\n",
       "    <tr>\n",
       "      <th>0</th>\n",
       "      <td>f47ac10b-58cc-4372-a567-0e02b2c3d479</td>\n",
       "      <td>2022-01-29</td>\n",
       "      <td>1e2b47e6-499e-41c6-91d3-09d12dddfbbd</td>\n",
       "      <td>Fresh Fruits Co</td>\n",
       "      <td>Plastic</td>\n",
       "      <td>[{ \"contact_name\":\"Curtis\", \"contact_surname\":...</td>\n",
       "      <td>Leonard Cohen, Luke Skywalker, Ammy Winehouse</td>\n",
       "    </tr>\n",
       "    <tr>\n",
       "      <th>1</th>\n",
       "      <td>f47ac10b-58cc-4372-a567-0e02b2c3d480</td>\n",
       "      <td>2022-02-21</td>\n",
       "      <td>0f05a8f1-2bdf-4be7-8c82-4c9b58f04898</td>\n",
       "      <td>Veggies Inc</td>\n",
       "      <td>Wood</td>\n",
       "      <td>[{ \"contact_name\":\"Maria\", \"contact_surname\":\"...</td>\n",
       "      <td>Luke Skywalker, David Goliat, Leon Leonov</td>\n",
       "    </tr>\n",
       "    <tr>\n",
       "      <th>2</th>\n",
       "      <td>f47ac10b-58cc-4372-a567-0e02b2c3d481</td>\n",
       "      <td>2022-04-03</td>\n",
       "      <td>1e2b47e6-499e-41c6-91d3-09d12dddfbbd</td>\n",
       "      <td>Fresh Fruits c.o</td>\n",
       "      <td>Metal</td>\n",
       "      <td>[{ \"contact_name\":\"Para\", \"contact_surname\":\"C...</td>\n",
       "      <td>Luke Skywalker</td>\n",
       "    </tr>\n",
       "    <tr>\n",
       "      <th>3</th>\n",
       "      <td>f47ac10b-58cc-4372-a567-0e02b2c3d482</td>\n",
       "      <td>2021-07-14</td>\n",
       "      <td>1c4b0b50-1d5d-463a-b56e-1a6fd3aeb7d6</td>\n",
       "      <td>Seafood Supplier</td>\n",
       "      <td>Plastic</td>\n",
       "      <td>NaN</td>\n",
       "      <td>David Goliat, Leonard Cohen</td>\n",
       "    </tr>\n",
       "    <tr>\n",
       "      <th>4</th>\n",
       "      <td>f47ac10b-58cc-4372-a567-0e02b2c3d483</td>\n",
       "      <td>2022-10-23</td>\n",
       "      <td>34538e39-cd2e-4641-8d24-3c94146e6f16</td>\n",
       "      <td>Meat Packers Ltd</td>\n",
       "      <td>Plastic</td>\n",
       "      <td>NaN</td>\n",
       "      <td>Chris Pratt, David Henderson, Marianov Merschi...</td>\n",
       "    </tr>\n",
       "  </tbody>\n",
       "</table>\n",
       "</div>"
      ],
      "text/plain": [
       "                               order_id       date  \\\n",
       "0  f47ac10b-58cc-4372-a567-0e02b2c3d479 2022-01-29   \n",
       "1  f47ac10b-58cc-4372-a567-0e02b2c3d480 2022-02-21   \n",
       "2  f47ac10b-58cc-4372-a567-0e02b2c3d481 2022-04-03   \n",
       "3  f47ac10b-58cc-4372-a567-0e02b2c3d482 2021-07-14   \n",
       "4  f47ac10b-58cc-4372-a567-0e02b2c3d483 2022-10-23   \n",
       "\n",
       "                             company_id      company_name crate_type  \\\n",
       "0  1e2b47e6-499e-41c6-91d3-09d12dddfbbd   Fresh Fruits Co    Plastic   \n",
       "1  0f05a8f1-2bdf-4be7-8c82-4c9b58f04898       Veggies Inc       Wood   \n",
       "2  1e2b47e6-499e-41c6-91d3-09d12dddfbbd  Fresh Fruits c.o      Metal   \n",
       "3  1c4b0b50-1d5d-463a-b56e-1a6fd3aeb7d6  Seafood Supplier    Plastic   \n",
       "4  34538e39-cd2e-4641-8d24-3c94146e6f16  Meat Packers Ltd    Plastic   \n",
       "\n",
       "                                        contact_data  \\\n",
       "0  [{ \"contact_name\":\"Curtis\", \"contact_surname\":...   \n",
       "1  [{ \"contact_name\":\"Maria\", \"contact_surname\":\"...   \n",
       "2  [{ \"contact_name\":\"Para\", \"contact_surname\":\"C...   \n",
       "3                                                NaN   \n",
       "4                                                NaN   \n",
       "\n",
       "                                         salesowners  \n",
       "0      Leonard Cohen, Luke Skywalker, Ammy Winehouse  \n",
       "1          Luke Skywalker, David Goliat, Leon Leonov  \n",
       "2                                     Luke Skywalker  \n",
       "3                        David Goliat, Leonard Cohen  \n",
       "4  Chris Pratt, David Henderson, Marianov Merschi...  "
      ]
     },
     "execution_count": 18,
     "metadata": {},
     "output_type": "execute_result"
    }
   ],
   "source": [
    "import pandas as pd\n",
    "\n",
    "# Load the orders data\n",
    "orders_filepath = '../data/orders.csv' # Replace with actual path if necessary\n",
    "orders_df = pd.read_csv(orders_filepath, delimiter=';')\n",
    "\n",
    "# Convert the date column to datetime\n",
    "orders_df['date'] = pd.to_datetime(orders_df['date'], format='%d.%m.%y')\n",
    "\n",
    "# Display basic info and first rows\n",
    "print(orders_df.info())\n",
    "\n",
    "orders_df.head()"
   ]
  },
  {
   "cell_type": "code",
   "execution_count": 212,
   "metadata": {},
   "outputs": [
    {
     "data": {
      "application/vnd.plotly.v1+json": {
       "config": {
        "plotlyServerURL": "https://plot.ly"
       },
       "data": [
        {
         "alignmentgroup": "True",
         "customdata": [
          41.94,
          30.65,
          27.42
         ],
         "hovertemplate": "<b>%{x}</b><br>Orders: %{y}<br>Percentage: %{customdata}%",
         "legendgroup": "Plastic",
         "marker": {
          "color": "rgb(102, 197, 204)",
          "pattern": {
           "shape": ""
          }
         },
         "name": "Plastic",
         "offsetgroup": "Plastic",
         "orientation": "v",
         "showlegend": true,
         "textposition": "auto",
         "type": "bar",
         "x": [
          "Plastic"
         ],
         "xaxis": "x",
         "y": [
          26
         ],
         "yaxis": "y"
        },
        {
         "alignmentgroup": "True",
         "customdata": [
          41.94,
          30.65,
          27.42
         ],
         "hovertemplate": "<b>%{x}</b><br>Orders: %{y}<br>Percentage: %{customdata}%",
         "legendgroup": "Metal",
         "marker": {
          "color": "rgb(246, 207, 113)",
          "pattern": {
           "shape": ""
          }
         },
         "name": "Metal",
         "offsetgroup": "Metal",
         "orientation": "v",
         "showlegend": true,
         "textposition": "auto",
         "type": "bar",
         "x": [
          "Metal"
         ],
         "xaxis": "x",
         "y": [
          19
         ],
         "yaxis": "y"
        },
        {
         "alignmentgroup": "True",
         "customdata": [
          41.94,
          30.65,
          27.42
         ],
         "hovertemplate": "<b>%{x}</b><br>Orders: %{y}<br>Percentage: %{customdata}%",
         "legendgroup": "Wood",
         "marker": {
          "color": "rgb(248, 156, 116)",
          "pattern": {
           "shape": ""
          }
         },
         "name": "Wood",
         "offsetgroup": "Wood",
         "orientation": "v",
         "showlegend": true,
         "textposition": "auto",
         "type": "bar",
         "x": [
          "Wood"
         ],
         "xaxis": "x",
         "y": [
          17
         ],
         "yaxis": "y"
        }
       ],
       "layout": {
        "barmode": "relative",
        "font": {
         "size": 16
        },
        "legend": {
         "title": {
          "text": "Crate Type"
         },
         "tracegroupgap": 0
        },
        "template": {
         "data": {
          "bar": [
           {
            "error_x": {
             "color": "#2a3f5f"
            },
            "error_y": {
             "color": "#2a3f5f"
            },
            "marker": {
             "line": {
              "color": "white",
              "width": 0.5
             },
             "pattern": {
              "fillmode": "overlay",
              "size": 10,
              "solidity": 0.2
             }
            },
            "type": "bar"
           }
          ],
          "barpolar": [
           {
            "marker": {
             "line": {
              "color": "white",
              "width": 0.5
             },
             "pattern": {
              "fillmode": "overlay",
              "size": 10,
              "solidity": 0.2
             }
            },
            "type": "barpolar"
           }
          ],
          "carpet": [
           {
            "aaxis": {
             "endlinecolor": "#2a3f5f",
             "gridcolor": "#C8D4E3",
             "linecolor": "#C8D4E3",
             "minorgridcolor": "#C8D4E3",
             "startlinecolor": "#2a3f5f"
            },
            "baxis": {
             "endlinecolor": "#2a3f5f",
             "gridcolor": "#C8D4E3",
             "linecolor": "#C8D4E3",
             "minorgridcolor": "#C8D4E3",
             "startlinecolor": "#2a3f5f"
            },
            "type": "carpet"
           }
          ],
          "choropleth": [
           {
            "colorbar": {
             "outlinewidth": 0,
             "ticks": ""
            },
            "type": "choropleth"
           }
          ],
          "contour": [
           {
            "colorbar": {
             "outlinewidth": 0,
             "ticks": ""
            },
            "colorscale": [
             [
              0,
              "#0d0887"
             ],
             [
              0.1111111111111111,
              "#46039f"
             ],
             [
              0.2222222222222222,
              "#7201a8"
             ],
             [
              0.3333333333333333,
              "#9c179e"
             ],
             [
              0.4444444444444444,
              "#bd3786"
             ],
             [
              0.5555555555555556,
              "#d8576b"
             ],
             [
              0.6666666666666666,
              "#ed7953"
             ],
             [
              0.7777777777777778,
              "#fb9f3a"
             ],
             [
              0.8888888888888888,
              "#fdca26"
             ],
             [
              1,
              "#f0f921"
             ]
            ],
            "type": "contour"
           }
          ],
          "contourcarpet": [
           {
            "colorbar": {
             "outlinewidth": 0,
             "ticks": ""
            },
            "type": "contourcarpet"
           }
          ],
          "heatmap": [
           {
            "colorbar": {
             "outlinewidth": 0,
             "ticks": ""
            },
            "colorscale": [
             [
              0,
              "#0d0887"
             ],
             [
              0.1111111111111111,
              "#46039f"
             ],
             [
              0.2222222222222222,
              "#7201a8"
             ],
             [
              0.3333333333333333,
              "#9c179e"
             ],
             [
              0.4444444444444444,
              "#bd3786"
             ],
             [
              0.5555555555555556,
              "#d8576b"
             ],
             [
              0.6666666666666666,
              "#ed7953"
             ],
             [
              0.7777777777777778,
              "#fb9f3a"
             ],
             [
              0.8888888888888888,
              "#fdca26"
             ],
             [
              1,
              "#f0f921"
             ]
            ],
            "type": "heatmap"
           }
          ],
          "heatmapgl": [
           {
            "colorbar": {
             "outlinewidth": 0,
             "ticks": ""
            },
            "colorscale": [
             [
              0,
              "#0d0887"
             ],
             [
              0.1111111111111111,
              "#46039f"
             ],
             [
              0.2222222222222222,
              "#7201a8"
             ],
             [
              0.3333333333333333,
              "#9c179e"
             ],
             [
              0.4444444444444444,
              "#bd3786"
             ],
             [
              0.5555555555555556,
              "#d8576b"
             ],
             [
              0.6666666666666666,
              "#ed7953"
             ],
             [
              0.7777777777777778,
              "#fb9f3a"
             ],
             [
              0.8888888888888888,
              "#fdca26"
             ],
             [
              1,
              "#f0f921"
             ]
            ],
            "type": "heatmapgl"
           }
          ],
          "histogram": [
           {
            "marker": {
             "pattern": {
              "fillmode": "overlay",
              "size": 10,
              "solidity": 0.2
             }
            },
            "type": "histogram"
           }
          ],
          "histogram2d": [
           {
            "colorbar": {
             "outlinewidth": 0,
             "ticks": ""
            },
            "colorscale": [
             [
              0,
              "#0d0887"
             ],
             [
              0.1111111111111111,
              "#46039f"
             ],
             [
              0.2222222222222222,
              "#7201a8"
             ],
             [
              0.3333333333333333,
              "#9c179e"
             ],
             [
              0.4444444444444444,
              "#bd3786"
             ],
             [
              0.5555555555555556,
              "#d8576b"
             ],
             [
              0.6666666666666666,
              "#ed7953"
             ],
             [
              0.7777777777777778,
              "#fb9f3a"
             ],
             [
              0.8888888888888888,
              "#fdca26"
             ],
             [
              1,
              "#f0f921"
             ]
            ],
            "type": "histogram2d"
           }
          ],
          "histogram2dcontour": [
           {
            "colorbar": {
             "outlinewidth": 0,
             "ticks": ""
            },
            "colorscale": [
             [
              0,
              "#0d0887"
             ],
             [
              0.1111111111111111,
              "#46039f"
             ],
             [
              0.2222222222222222,
              "#7201a8"
             ],
             [
              0.3333333333333333,
              "#9c179e"
             ],
             [
              0.4444444444444444,
              "#bd3786"
             ],
             [
              0.5555555555555556,
              "#d8576b"
             ],
             [
              0.6666666666666666,
              "#ed7953"
             ],
             [
              0.7777777777777778,
              "#fb9f3a"
             ],
             [
              0.8888888888888888,
              "#fdca26"
             ],
             [
              1,
              "#f0f921"
             ]
            ],
            "type": "histogram2dcontour"
           }
          ],
          "mesh3d": [
           {
            "colorbar": {
             "outlinewidth": 0,
             "ticks": ""
            },
            "type": "mesh3d"
           }
          ],
          "parcoords": [
           {
            "line": {
             "colorbar": {
              "outlinewidth": 0,
              "ticks": ""
             }
            },
            "type": "parcoords"
           }
          ],
          "pie": [
           {
            "automargin": true,
            "type": "pie"
           }
          ],
          "scatter": [
           {
            "fillpattern": {
             "fillmode": "overlay",
             "size": 10,
             "solidity": 0.2
            },
            "type": "scatter"
           }
          ],
          "scatter3d": [
           {
            "line": {
             "colorbar": {
              "outlinewidth": 0,
              "ticks": ""
             }
            },
            "marker": {
             "colorbar": {
              "outlinewidth": 0,
              "ticks": ""
             }
            },
            "type": "scatter3d"
           }
          ],
          "scattercarpet": [
           {
            "marker": {
             "colorbar": {
              "outlinewidth": 0,
              "ticks": ""
             }
            },
            "type": "scattercarpet"
           }
          ],
          "scattergeo": [
           {
            "marker": {
             "colorbar": {
              "outlinewidth": 0,
              "ticks": ""
             }
            },
            "type": "scattergeo"
           }
          ],
          "scattergl": [
           {
            "marker": {
             "colorbar": {
              "outlinewidth": 0,
              "ticks": ""
             }
            },
            "type": "scattergl"
           }
          ],
          "scattermapbox": [
           {
            "marker": {
             "colorbar": {
              "outlinewidth": 0,
              "ticks": ""
             }
            },
            "type": "scattermapbox"
           }
          ],
          "scatterpolar": [
           {
            "marker": {
             "colorbar": {
              "outlinewidth": 0,
              "ticks": ""
             }
            },
            "type": "scatterpolar"
           }
          ],
          "scatterpolargl": [
           {
            "marker": {
             "colorbar": {
              "outlinewidth": 0,
              "ticks": ""
             }
            },
            "type": "scatterpolargl"
           }
          ],
          "scatterternary": [
           {
            "marker": {
             "colorbar": {
              "outlinewidth": 0,
              "ticks": ""
             }
            },
            "type": "scatterternary"
           }
          ],
          "surface": [
           {
            "colorbar": {
             "outlinewidth": 0,
             "ticks": ""
            },
            "colorscale": [
             [
              0,
              "#0d0887"
             ],
             [
              0.1111111111111111,
              "#46039f"
             ],
             [
              0.2222222222222222,
              "#7201a8"
             ],
             [
              0.3333333333333333,
              "#9c179e"
             ],
             [
              0.4444444444444444,
              "#bd3786"
             ],
             [
              0.5555555555555556,
              "#d8576b"
             ],
             [
              0.6666666666666666,
              "#ed7953"
             ],
             [
              0.7777777777777778,
              "#fb9f3a"
             ],
             [
              0.8888888888888888,
              "#fdca26"
             ],
             [
              1,
              "#f0f921"
             ]
            ],
            "type": "surface"
           }
          ],
          "table": [
           {
            "cells": {
             "fill": {
              "color": "#EBF0F8"
             },
             "line": {
              "color": "white"
             }
            },
            "header": {
             "fill": {
              "color": "#C8D4E3"
             },
             "line": {
              "color": "white"
             }
            },
            "type": "table"
           }
          ]
         },
         "layout": {
          "annotationdefaults": {
           "arrowcolor": "#2a3f5f",
           "arrowhead": 0,
           "arrowwidth": 1
          },
          "autotypenumbers": "strict",
          "coloraxis": {
           "colorbar": {
            "outlinewidth": 0,
            "ticks": ""
           }
          },
          "colorscale": {
           "diverging": [
            [
             0,
             "#8e0152"
            ],
            [
             0.1,
             "#c51b7d"
            ],
            [
             0.2,
             "#de77ae"
            ],
            [
             0.3,
             "#f1b6da"
            ],
            [
             0.4,
             "#fde0ef"
            ],
            [
             0.5,
             "#f7f7f7"
            ],
            [
             0.6,
             "#e6f5d0"
            ],
            [
             0.7,
             "#b8e186"
            ],
            [
             0.8,
             "#7fbc41"
            ],
            [
             0.9,
             "#4d9221"
            ],
            [
             1,
             "#276419"
            ]
           ],
           "sequential": [
            [
             0,
             "#0d0887"
            ],
            [
             0.1111111111111111,
             "#46039f"
            ],
            [
             0.2222222222222222,
             "#7201a8"
            ],
            [
             0.3333333333333333,
             "#9c179e"
            ],
            [
             0.4444444444444444,
             "#bd3786"
            ],
            [
             0.5555555555555556,
             "#d8576b"
            ],
            [
             0.6666666666666666,
             "#ed7953"
            ],
            [
             0.7777777777777778,
             "#fb9f3a"
            ],
            [
             0.8888888888888888,
             "#fdca26"
            ],
            [
             1,
             "#f0f921"
            ]
           ],
           "sequentialminus": [
            [
             0,
             "#0d0887"
            ],
            [
             0.1111111111111111,
             "#46039f"
            ],
            [
             0.2222222222222222,
             "#7201a8"
            ],
            [
             0.3333333333333333,
             "#9c179e"
            ],
            [
             0.4444444444444444,
             "#bd3786"
            ],
            [
             0.5555555555555556,
             "#d8576b"
            ],
            [
             0.6666666666666666,
             "#ed7953"
            ],
            [
             0.7777777777777778,
             "#fb9f3a"
            ],
            [
             0.8888888888888888,
             "#fdca26"
            ],
            [
             1,
             "#f0f921"
            ]
           ]
          },
          "colorway": [
           "#636efa",
           "#EF553B",
           "#00cc96",
           "#ab63fa",
           "#FFA15A",
           "#19d3f3",
           "#FF6692",
           "#B6E880",
           "#FF97FF",
           "#FECB52"
          ],
          "font": {
           "color": "#2a3f5f"
          },
          "geo": {
           "bgcolor": "white",
           "lakecolor": "white",
           "landcolor": "white",
           "showlakes": true,
           "showland": true,
           "subunitcolor": "#C8D4E3"
          },
          "hoverlabel": {
           "align": "left"
          },
          "hovermode": "closest",
          "mapbox": {
           "style": "light"
          },
          "paper_bgcolor": "white",
          "plot_bgcolor": "white",
          "polar": {
           "angularaxis": {
            "gridcolor": "#EBF0F8",
            "linecolor": "#EBF0F8",
            "ticks": ""
           },
           "bgcolor": "white",
           "radialaxis": {
            "gridcolor": "#EBF0F8",
            "linecolor": "#EBF0F8",
            "ticks": ""
           }
          },
          "scene": {
           "xaxis": {
            "backgroundcolor": "white",
            "gridcolor": "#DFE8F3",
            "gridwidth": 2,
            "linecolor": "#EBF0F8",
            "showbackground": true,
            "ticks": "",
            "zerolinecolor": "#EBF0F8"
           },
           "yaxis": {
            "backgroundcolor": "white",
            "gridcolor": "#DFE8F3",
            "gridwidth": 2,
            "linecolor": "#EBF0F8",
            "showbackground": true,
            "ticks": "",
            "zerolinecolor": "#EBF0F8"
           },
           "zaxis": {
            "backgroundcolor": "white",
            "gridcolor": "#DFE8F3",
            "gridwidth": 2,
            "linecolor": "#EBF0F8",
            "showbackground": true,
            "ticks": "",
            "zerolinecolor": "#EBF0F8"
           }
          },
          "shapedefaults": {
           "line": {
            "color": "#2a3f5f"
           }
          },
          "ternary": {
           "aaxis": {
            "gridcolor": "#DFE8F3",
            "linecolor": "#A2B1C6",
            "ticks": ""
           },
           "baxis": {
            "gridcolor": "#DFE8F3",
            "linecolor": "#A2B1C6",
            "ticks": ""
           },
           "bgcolor": "white",
           "caxis": {
            "gridcolor": "#DFE8F3",
            "linecolor": "#A2B1C6",
            "ticks": ""
           }
          },
          "title": {
           "x": 0.05
          },
          "xaxis": {
           "automargin": true,
           "gridcolor": "#EBF0F8",
           "linecolor": "#EBF0F8",
           "ticks": "",
           "title": {
            "standoff": 15
           },
           "zerolinecolor": "#EBF0F8",
           "zerolinewidth": 2
          },
          "yaxis": {
           "automargin": true,
           "gridcolor": "#EBF0F8",
           "linecolor": "#EBF0F8",
           "ticks": "",
           "title": {
            "standoff": 15
           },
           "zerolinecolor": "#EBF0F8",
           "zerolinewidth": 2
          }
         }
        },
        "title": {
         "text": "Distribution of Orders by Crate Type",
         "x": 0.5,
         "xanchor": "center"
        },
        "xaxis": {
         "anchor": "y",
         "categoryarray": [
          "Plastic",
          "Metal",
          "Wood"
         ],
         "categoryorder": "array",
         "domain": [
          0,
          1
         ],
         "title": {
          "text": "Crate Type"
         }
        },
        "yaxis": {
         "anchor": "x",
         "domain": [
          0,
          1
         ],
         "title": {
          "text": "Number of Orders"
         }
        }
       }
      }
     },
     "metadata": {},
     "output_type": "display_data"
    }
   ],
   "source": [
    "import plotly.express as px\n",
    "\n",
    "# Count the number of each crate type\n",
    "crate_counts = orders_df['crate_type'].value_counts().reset_index()\n",
    "crate_counts.columns = ['crate_type', 'count']\n",
    "\n",
    "# Calculate the specific percentage for each crate type\n",
    "total_orders = crate_counts['count'].sum()\n",
    "crate_counts['percentage'] = (\n",
    "    crate_counts['count'] / total_orders * 100).round(2)\n",
    "\n",
    "# Create the bar chart\n",
    "fig_crate_distribution = px.bar(\n",
    "    crate_counts,\n",
    "    x='crate_type',\n",
    "    y='count',\n",
    "    title='Distribution of Orders by Crate Type',\n",
    "    labels={\n",
    "        'crate_type': 'Crate Type',\n",
    "        'count': 'Number of Orders',\n",
    "        'percentage': 'Percentage'\n",
    "    },\n",
    "    color='crate_type',\n",
    "    color_discrete_sequence=px.colors.qualitative.Pastel\n",
    ")\n",
    "\n",
    "# Update traces to show both the number of orders and the percentage in the hover\n",
    "fig_crate_distribution.update_traces(\n",
    "    # Hover labels with all the information\n",
    "    hovertemplate='<b>%{x}</b><br>Orders: %{y}<br>Percentage: %{customdata}%',\n",
    "    # Pass the percentage as additional data\n",
    "    customdata=crate_counts['percentage'],\n",
    ")\n",
    "\n",
    "# Improve the chart layout\n",
    "fig_crate_distribution.update_layout(\n",
    "    title={'x': 0.5, 'xanchor': 'center'},\n",
    "    xaxis_title='Crate Type',\n",
    "    yaxis_title='Number of Orders',\n",
    "    template='plotly_white',\n",
    "    font=dict(size=16),\n",
    ")\n",
    "\n",
    "# Show the chart\n",
    "fig_crate_distribution.show()"
   ]
  },
  {
   "cell_type": "markdown",
   "metadata": {},
   "source": [
    "6.2 Which sales owners need most training to improve selling on plastic crates, based on the last 12 months orders.\n",
    "\n"
   ]
  },
  {
   "cell_type": "code",
   "execution_count": 150,
   "metadata": {},
   "outputs": [
    {
     "name": "stdout",
     "output_type": "stream",
     "text": [
      "Sales performance of each salesowner for plastic crates (last 12 months):\n",
      "         salesowners  gross_per_salesowner\n",
      "4        Leon Leonov              36366.75\n",
      "7  Marianov Merschik              36366.75\n",
      "5      Leonard Cohen             108074.00\n",
      "6     Luke Skywalker             108074.00\n",
      "8        Marie Curie             113771.67\n",
      "2       David Goliat             115103.33\n",
      "9       Yuri Gagarin             115103.33\n",
      "1        Chris Pratt             150138.42\n",
      "3    David Henderson             151470.08\n",
      "0     Ammy Winehouse             221845.67\n"
     ]
    }
   ],
   "source": [
    "import pandas as pd\n",
    "from datetime import timedelta\n",
    "import json\n",
    "\n",
    "# Load file paths\n",
    "orders_filepath = '../data/orders.csv'\n",
    "invoices_filepath = '../data/invoicing_data.json'\n",
    "\n",
    "# Load the CSV file of orders\n",
    "orders_df = pd.read_csv(orders_filepath, delimiter=';')\n",
    "\n",
    "# Load the JSON file of invoices\n",
    "with open(invoices_filepath, 'r') as f:\n",
    "    invoicing_data = json.load(f)[\"data\"][\"invoices\"]\n",
    "\n",
    "# Convert JSON data to a DataFrame\n",
    "invoices_df = pd.json_normalize(invoicing_data)\n",
    "\n",
    "# Ensure date column is in datetime format in orders\n",
    "orders_df['date'] = pd.to_datetime(orders_df['date'], format='%d.%m.%y')\n",
    "\n",
    "# Convert 'grossValue' and 'vat' columns to numeric types\n",
    "invoices_df['grossValue'] = pd.to_numeric(invoices_df['grossValue'], errors='coerce')\n",
    "invoices_df['vat'] = pd.to_numeric(invoices_df['vat'], errors='coerce')\n",
    "\n",
    "# Merge Orders and Invoices Data\n",
    "merged_df = orders_df.merge(invoices_df[['orderId', 'grossValue', 'vat']], left_on='order_id', right_on='orderId', how='left')\n",
    "\n",
    "# Fill missing values in `grossValue` and `vat` with zero\n",
    "merged_df['grossValue'] = merged_df['grossValue'].fillna(0)\n",
    "merged_df['vat'] = merged_df['vat'].fillna(0)\n",
    "\n",
    "# Assign \"Unknown\" to missing values in `salesowners`\n",
    "merged_df['salesowners'] = merged_df['salesowners'].fillna(\"Unknown\")\n",
    "\n",
    "# Filter to keep only rows with valid values in orderId\n",
    "merged_df = merged_df[merged_df['orderId'].notna()]\n",
    "\n",
    "# Remove duplicates based on 'order_id' and keep only the first occurrence\n",
    "merged_df_unique = merged_df.drop_duplicates(subset='order_id', keep='first')\n",
    "\n",
    "# 1. Filter the dataset for orders from the last 12 months\n",
    "latest_date = merged_df_unique['date'].max()  # Find the most recent order date\n",
    "one_year_ago = latest_date - timedelta(days=365)\n",
    "last_12_months_df = merged_df_unique[merged_df_unique['date'] >= one_year_ago]\n",
    "\n",
    "# 2. Further filter to keep only plastic crate orders\n",
    "plastic_orders_df = last_12_months_df[last_12_months_df['crate_type'] == 'Plastic'].copy()\n",
    "\n",
    "# Step 1: Split the salesowners into separate rows\n",
    "plastic_orders_df['salesowners'] = plastic_orders_df['salesowners'].str.split(', ')\n",
    "expanded_orders_df = plastic_orders_df.explode('salesowners')\n",
    "\n",
    "# Step 2: Calculate gross value per salesowner\n",
    "# Count the number of salesowners for each order_id to calculate individual allocation\n",
    "expanded_orders_df['salesowner_count'] = expanded_orders_df.groupby('order_id')['salesowners'].transform('count')\n",
    "expanded_orders_df['gross_per_salesowner'] = expanded_orders_df['grossValue'] / expanded_orders_df['salesowner_count']\n",
    "\n",
    "# Step 3: Round gross value per salesowner\n",
    "expanded_orders_df['gross_per_salesowner'] = expanded_orders_df['gross_per_salesowner'].round(2)\n",
    "\n",
    "# Step 4: Aggregate sales performance by summing gross per salesowner\n",
    "sales_performance = expanded_orders_df.groupby('salesowners')['gross_per_salesowner'].sum().reset_index()\n",
    "\n",
    "# Step 5: Sort to identify salesowners with the lowest sales\n",
    "sales_performance = sales_performance.sort_values(by='gross_per_salesowner')\n",
    "\n",
    "# Display the sales performance data to identify those needing training\n",
    "print(\"Sales performance of each salesowner for plastic crates (last 12 months):\")\n",
    "print(sales_performance)\n"
   ]
  },
  {
   "cell_type": "code",
   "execution_count": 151,
   "metadata": {},
   "outputs": [
    {
     "name": "stdout",
     "output_type": "stream",
     "text": [
      "Sales performance of each salesowner for plastic crates (last 12 months):\n",
      "         salesowners  gross_per_salesowner\n",
      "4        Leon Leonov              36366.75\n",
      "7  Marianov Merschik              36366.75\n",
      "5      Leonard Cohen             108074.00\n",
      "6     Luke Skywalker             108074.00\n",
      "8        Marie Curie             113771.67\n",
      "2       David Goliat             115103.33\n",
      "9       Yuri Gagarin             115103.33\n",
      "1        Chris Pratt             150138.42\n",
      "3    David Henderson             151470.08\n",
      "0     Ammy Winehouse             221845.67\n"
     ]
    }
   ],
   "source": [
    "import pandas as pd\n",
    "from datetime import timedelta\n",
    "import json\n",
    "import os\n",
    "\n",
    "# Function to load data with validation\n",
    "def load_data(file_path, file_type='csv', delimiter=';'):\n",
    "    if not os.path.exists(file_path):\n",
    "        raise FileNotFoundError(f\"The file '{file_path}' does not exist.\")\n",
    "    \n",
    "    if file_type == 'csv':\n",
    "        return pd.read_csv(file_path, delimiter=delimiter)\n",
    "    elif file_type == 'json':\n",
    "        with open(file_path, 'r') as f:\n",
    "            return json.load(f)[\"data\"][\"invoices\"]\n",
    "    else:\n",
    "        raise ValueError(\"Unsupported file type. Choose 'csv' or 'json'.\")\n",
    "\n",
    "# Function to validate columns and data types\n",
    "def validate_and_prepare_data(orders_df, invoices_df):\n",
    "    # Check and parse date column\n",
    "    if 'date' not in orders_df.columns:\n",
    "        raise KeyError(\"Column 'date' not found in orders data.\")\n",
    "    orders_df['date'] = pd.to_datetime(orders_df['date'], format='%d.%m.%y', errors='coerce')\n",
    "    \n",
    "    # Convert 'grossValue' and 'vat' columns to numeric types\n",
    "    for col in ['grossValue', 'vat']:\n",
    "        if col in invoices_df.columns:\n",
    "            invoices_df[col] = pd.to_numeric(invoices_df[col], errors='coerce')\n",
    "        else:\n",
    "            raise KeyError(f\"Column '{col}' not found in invoices data.\")\n",
    "    \n",
    "    return orders_df, invoices_df\n",
    "\n",
    "# Function to merge and clean data\n",
    "def merge_and_clean_data(orders_df, invoices_df):\n",
    "    merged_df = orders_df.merge(\n",
    "        invoices_df[['orderId', 'grossValue', 'vat']], \n",
    "        left_on='order_id', right_on='orderId', how='left'\n",
    "    )\n",
    "    \n",
    "    # Handle missing values\n",
    "    merged_df['grossValue'] = merged_df['grossValue'].fillna(0)\n",
    "    merged_df['vat'] = merged_df['vat'].fillna(0)\n",
    "    merged_df['salesowners'] = merged_df['salesowners'].fillna(\"Unknown\")\n",
    "    \n",
    "    # Remove rows with missing orderId and duplicates\n",
    "    merged_df = merged_df[merged_df['orderId'].notna()]\n",
    "    merged_df_unique = merged_df.drop_duplicates(subset='order_id', keep='first')\n",
    "    \n",
    "    return merged_df_unique\n",
    "\n",
    "# Function to filter plastic orders in the last 12 months\n",
    "def filter_plastic_orders(merged_df):\n",
    "    latest_date = merged_df['date'].max()\n",
    "    one_year_ago = latest_date - timedelta(days=365)\n",
    "    last_12_months_df = merged_df[merged_df['date'] >= one_year_ago]\n",
    "    plastic_orders_df = last_12_months_df[last_12_months_df['crate_type'] == 'Plastic'].copy()\n",
    "    \n",
    "    return plastic_orders_df\n",
    "\n",
    "# Function to calculate gross value per salesowner\n",
    "def calculate_sales_performance(plastic_orders_df):\n",
    "    # Split salesowners and expand rows\n",
    "    plastic_orders_df['salesowners'] = plastic_orders_df['salesowners'].str.split(', ')\n",
    "    expanded_orders_df = plastic_orders_df.explode('salesowners')\n",
    "    \n",
    "    # Calculate gross value per salesowner\n",
    "    expanded_orders_df['salesowner_count'] = expanded_orders_df.groupby('order_id')['salesowners'].transform('count')\n",
    "    expanded_orders_df['gross_per_salesowner'] = (expanded_orders_df['grossValue'] / expanded_orders_df['salesowner_count']).round(2)\n",
    "    \n",
    "    # Aggregate sales performance\n",
    "    sales_performance = expanded_orders_df.groupby('salesowners')['gross_per_salesowner'].sum().reset_index()\n",
    "    sales_performance = sales_performance.sort_values(by='gross_per_salesowner')\n",
    "    \n",
    "    return sales_performance\n",
    "\n",
    "# Main script execution\n",
    "if __name__ == \"__main__\":\n",
    "    # Load data\n",
    "    orders_filepath = '../data/orders.csv'\n",
    "    invoices_filepath = '../data/invoicing_data.json'\n",
    "    \n",
    "    orders_df = load_data(orders_filepath, file_type='csv')\n",
    "    invoicing_data = load_data(invoices_filepath, file_type='json')\n",
    "    invoices_df = pd.json_normalize(invoicing_data)\n",
    "    \n",
    "    # Validate and prepare data\n",
    "    orders_df, invoices_df = validate_and_prepare_data(orders_df, invoices_df)\n",
    "    \n",
    "    # Merge and clean data\n",
    "    merged_df = merge_and_clean_data(orders_df, invoices_df)\n",
    "    \n",
    "    # Filter for plastic orders in the last 12 months\n",
    "    plastic_orders_df = filter_plastic_orders(merged_df)\n",
    "    \n",
    "    # Calculate and display sales performance\n",
    "    sales_performance = calculate_sales_performance(plastic_orders_df)\n",
    "    print(\"Sales performance of each salesowner for plastic crates (last 12 months):\")\n",
    "    print(sales_performance)"
   ]
  },
  {
   "cell_type": "code",
   "execution_count": 174,
   "metadata": {},
   "outputs": [
    {
     "data": {
      "application/vnd.plotly.v1+json": {
       "config": {
        "plotlyServerURL": "https://plot.ly"
       },
       "data": [
        {
         "alignmentgroup": "True",
         "hovertemplate": "Sales Owners=%{y}<br>Gross Value per Salesowner (k€)=%{text}<extra></extra>",
         "legendgroup": "Leon Leonov",
         "marker": {
          "color": "rgb(102, 197, 204)",
          "pattern": {
           "shape": ""
          }
         },
         "name": "Leon Leonov",
         "offsetgroup": "Leon Leonov",
         "orientation": "h",
         "showlegend": true,
         "text": [
          36.37
         ],
         "textfont": {
          "size": 10
         },
         "textposition": "outside",
         "texttemplate": "%{text}k",
         "type": "bar",
         "x": [
          36.37
         ],
         "xaxis": "x",
         "y": [
          "Leon Leonov"
         ],
         "yaxis": "y"
        },
        {
         "alignmentgroup": "True",
         "hovertemplate": "Sales Owners=%{y}<br>Gross Value per Salesowner (k€)=%{text}<extra></extra>",
         "legendgroup": "Marianov Merschik",
         "marker": {
          "color": "rgb(246, 207, 113)",
          "pattern": {
           "shape": ""
          }
         },
         "name": "Marianov Merschik",
         "offsetgroup": "Marianov Merschik",
         "orientation": "h",
         "showlegend": true,
         "text": [
          36.37
         ],
         "textfont": {
          "size": 10
         },
         "textposition": "outside",
         "texttemplate": "%{text}k",
         "type": "bar",
         "x": [
          36.37
         ],
         "xaxis": "x",
         "y": [
          "Marianov Merschik"
         ],
         "yaxis": "y"
        },
        {
         "alignmentgroup": "True",
         "hovertemplate": "Sales Owners=%{y}<br>Gross Value per Salesowner (k€)=%{text}<extra></extra>",
         "legendgroup": "Leonard Cohen",
         "marker": {
          "color": "rgb(248, 156, 116)",
          "pattern": {
           "shape": ""
          }
         },
         "name": "Leonard Cohen",
         "offsetgroup": "Leonard Cohen",
         "orientation": "h",
         "showlegend": true,
         "text": [
          108.07
         ],
         "textfont": {
          "size": 10
         },
         "textposition": "outside",
         "texttemplate": "%{text}k",
         "type": "bar",
         "x": [
          108.07
         ],
         "xaxis": "x",
         "y": [
          "Leonard Cohen"
         ],
         "yaxis": "y"
        },
        {
         "alignmentgroup": "True",
         "hovertemplate": "Sales Owners=%{y}<br>Gross Value per Salesowner (k€)=%{text}<extra></extra>",
         "legendgroup": "Luke Skywalker",
         "marker": {
          "color": "rgb(220, 176, 242)",
          "pattern": {
           "shape": ""
          }
         },
         "name": "Luke Skywalker",
         "offsetgroup": "Luke Skywalker",
         "orientation": "h",
         "showlegend": true,
         "text": [
          108.07
         ],
         "textfont": {
          "size": 10
         },
         "textposition": "outside",
         "texttemplate": "%{text}k",
         "type": "bar",
         "x": [
          108.07
         ],
         "xaxis": "x",
         "y": [
          "Luke Skywalker"
         ],
         "yaxis": "y"
        },
        {
         "alignmentgroup": "True",
         "hovertemplate": "Sales Owners=%{y}<br>Gross Value per Salesowner (k€)=%{text}<extra></extra>",
         "legendgroup": "Marie Curie",
         "marker": {
          "color": "rgb(135, 197, 95)",
          "pattern": {
           "shape": ""
          }
         },
         "name": "Marie Curie",
         "offsetgroup": "Marie Curie",
         "orientation": "h",
         "showlegend": true,
         "text": [
          113.77
         ],
         "textfont": {
          "size": 10
         },
         "textposition": "outside",
         "texttemplate": "%{text}k",
         "type": "bar",
         "x": [
          113.77
         ],
         "xaxis": "x",
         "y": [
          "Marie Curie"
         ],
         "yaxis": "y"
        },
        {
         "alignmentgroup": "True",
         "hovertemplate": "Sales Owners=%{y}<br>Gross Value per Salesowner (k€)=%{text}<extra></extra>",
         "legendgroup": "David Goliat",
         "marker": {
          "color": "rgb(158, 185, 243)",
          "pattern": {
           "shape": ""
          }
         },
         "name": "David Goliat",
         "offsetgroup": "David Goliat",
         "orientation": "h",
         "showlegend": true,
         "text": [
          115.1
         ],
         "textfont": {
          "size": 10
         },
         "textposition": "outside",
         "texttemplate": "%{text}k",
         "type": "bar",
         "x": [
          115.1
         ],
         "xaxis": "x",
         "y": [
          "David Goliat"
         ],
         "yaxis": "y"
        },
        {
         "alignmentgroup": "True",
         "hovertemplate": "Sales Owners=%{y}<br>Gross Value per Salesowner (k€)=%{text}<extra></extra>",
         "legendgroup": "Yuri Gagarin",
         "marker": {
          "color": "rgb(254, 136, 177)",
          "pattern": {
           "shape": ""
          }
         },
         "name": "Yuri Gagarin",
         "offsetgroup": "Yuri Gagarin",
         "orientation": "h",
         "showlegend": true,
         "text": [
          115.1
         ],
         "textfont": {
          "size": 10
         },
         "textposition": "outside",
         "texttemplate": "%{text}k",
         "type": "bar",
         "x": [
          115.1
         ],
         "xaxis": "x",
         "y": [
          "Yuri Gagarin"
         ],
         "yaxis": "y"
        },
        {
         "alignmentgroup": "True",
         "hovertemplate": "Sales Owners=%{y}<br>Gross Value per Salesowner (k€)=%{text}<extra></extra>",
         "legendgroup": "Chris Pratt",
         "marker": {
          "color": "rgb(201, 219, 116)",
          "pattern": {
           "shape": ""
          }
         },
         "name": "Chris Pratt",
         "offsetgroup": "Chris Pratt",
         "orientation": "h",
         "showlegend": true,
         "text": [
          150.14
         ],
         "textfont": {
          "size": 10
         },
         "textposition": "outside",
         "texttemplate": "%{text}k",
         "type": "bar",
         "x": [
          150.14
         ],
         "xaxis": "x",
         "y": [
          "Chris Pratt"
         ],
         "yaxis": "y"
        },
        {
         "alignmentgroup": "True",
         "hovertemplate": "Sales Owners=%{y}<br>Gross Value per Salesowner (k€)=%{text}<extra></extra>",
         "legendgroup": "David Henderson",
         "marker": {
          "color": "rgb(139, 224, 164)",
          "pattern": {
           "shape": ""
          }
         },
         "name": "David Henderson",
         "offsetgroup": "David Henderson",
         "orientation": "h",
         "showlegend": true,
         "text": [
          151.47
         ],
         "textfont": {
          "size": 10
         },
         "textposition": "outside",
         "texttemplate": "%{text}k",
         "type": "bar",
         "x": [
          151.47
         ],
         "xaxis": "x",
         "y": [
          "David Henderson"
         ],
         "yaxis": "y"
        },
        {
         "alignmentgroup": "True",
         "hovertemplate": "Sales Owners=%{y}<br>Gross Value per Salesowner (k€)=%{text}<extra></extra>",
         "legendgroup": "Ammy Winehouse",
         "marker": {
          "color": "rgb(180, 151, 231)",
          "pattern": {
           "shape": ""
          }
         },
         "name": "Ammy Winehouse",
         "offsetgroup": "Ammy Winehouse",
         "orientation": "h",
         "showlegend": true,
         "text": [
          221.85
         ],
         "textfont": {
          "size": 10
         },
         "textposition": "outside",
         "texttemplate": "%{text}k",
         "type": "bar",
         "x": [
          221.85
         ],
         "xaxis": "x",
         "y": [
          "Ammy Winehouse"
         ],
         "yaxis": "y"
        }
       ],
       "layout": {
        "barmode": "relative",
        "height": 700,
        "legend": {
         "title": {
          "text": "Sales Owners"
         },
         "tracegroupgap": 0
        },
        "showlegend": false,
        "template": {
         "data": {
          "bar": [
           {
            "error_x": {
             "color": "#2a3f5f"
            },
            "error_y": {
             "color": "#2a3f5f"
            },
            "marker": {
             "line": {
              "color": "white",
              "width": 0.5
             },
             "pattern": {
              "fillmode": "overlay",
              "size": 10,
              "solidity": 0.2
             }
            },
            "type": "bar"
           }
          ],
          "barpolar": [
           {
            "marker": {
             "line": {
              "color": "white",
              "width": 0.5
             },
             "pattern": {
              "fillmode": "overlay",
              "size": 10,
              "solidity": 0.2
             }
            },
            "type": "barpolar"
           }
          ],
          "carpet": [
           {
            "aaxis": {
             "endlinecolor": "#2a3f5f",
             "gridcolor": "#C8D4E3",
             "linecolor": "#C8D4E3",
             "minorgridcolor": "#C8D4E3",
             "startlinecolor": "#2a3f5f"
            },
            "baxis": {
             "endlinecolor": "#2a3f5f",
             "gridcolor": "#C8D4E3",
             "linecolor": "#C8D4E3",
             "minorgridcolor": "#C8D4E3",
             "startlinecolor": "#2a3f5f"
            },
            "type": "carpet"
           }
          ],
          "choropleth": [
           {
            "colorbar": {
             "outlinewidth": 0,
             "ticks": ""
            },
            "type": "choropleth"
           }
          ],
          "contour": [
           {
            "colorbar": {
             "outlinewidth": 0,
             "ticks": ""
            },
            "colorscale": [
             [
              0,
              "#0d0887"
             ],
             [
              0.1111111111111111,
              "#46039f"
             ],
             [
              0.2222222222222222,
              "#7201a8"
             ],
             [
              0.3333333333333333,
              "#9c179e"
             ],
             [
              0.4444444444444444,
              "#bd3786"
             ],
             [
              0.5555555555555556,
              "#d8576b"
             ],
             [
              0.6666666666666666,
              "#ed7953"
             ],
             [
              0.7777777777777778,
              "#fb9f3a"
             ],
             [
              0.8888888888888888,
              "#fdca26"
             ],
             [
              1,
              "#f0f921"
             ]
            ],
            "type": "contour"
           }
          ],
          "contourcarpet": [
           {
            "colorbar": {
             "outlinewidth": 0,
             "ticks": ""
            },
            "type": "contourcarpet"
           }
          ],
          "heatmap": [
           {
            "colorbar": {
             "outlinewidth": 0,
             "ticks": ""
            },
            "colorscale": [
             [
              0,
              "#0d0887"
             ],
             [
              0.1111111111111111,
              "#46039f"
             ],
             [
              0.2222222222222222,
              "#7201a8"
             ],
             [
              0.3333333333333333,
              "#9c179e"
             ],
             [
              0.4444444444444444,
              "#bd3786"
             ],
             [
              0.5555555555555556,
              "#d8576b"
             ],
             [
              0.6666666666666666,
              "#ed7953"
             ],
             [
              0.7777777777777778,
              "#fb9f3a"
             ],
             [
              0.8888888888888888,
              "#fdca26"
             ],
             [
              1,
              "#f0f921"
             ]
            ],
            "type": "heatmap"
           }
          ],
          "heatmapgl": [
           {
            "colorbar": {
             "outlinewidth": 0,
             "ticks": ""
            },
            "colorscale": [
             [
              0,
              "#0d0887"
             ],
             [
              0.1111111111111111,
              "#46039f"
             ],
             [
              0.2222222222222222,
              "#7201a8"
             ],
             [
              0.3333333333333333,
              "#9c179e"
             ],
             [
              0.4444444444444444,
              "#bd3786"
             ],
             [
              0.5555555555555556,
              "#d8576b"
             ],
             [
              0.6666666666666666,
              "#ed7953"
             ],
             [
              0.7777777777777778,
              "#fb9f3a"
             ],
             [
              0.8888888888888888,
              "#fdca26"
             ],
             [
              1,
              "#f0f921"
             ]
            ],
            "type": "heatmapgl"
           }
          ],
          "histogram": [
           {
            "marker": {
             "pattern": {
              "fillmode": "overlay",
              "size": 10,
              "solidity": 0.2
             }
            },
            "type": "histogram"
           }
          ],
          "histogram2d": [
           {
            "colorbar": {
             "outlinewidth": 0,
             "ticks": ""
            },
            "colorscale": [
             [
              0,
              "#0d0887"
             ],
             [
              0.1111111111111111,
              "#46039f"
             ],
             [
              0.2222222222222222,
              "#7201a8"
             ],
             [
              0.3333333333333333,
              "#9c179e"
             ],
             [
              0.4444444444444444,
              "#bd3786"
             ],
             [
              0.5555555555555556,
              "#d8576b"
             ],
             [
              0.6666666666666666,
              "#ed7953"
             ],
             [
              0.7777777777777778,
              "#fb9f3a"
             ],
             [
              0.8888888888888888,
              "#fdca26"
             ],
             [
              1,
              "#f0f921"
             ]
            ],
            "type": "histogram2d"
           }
          ],
          "histogram2dcontour": [
           {
            "colorbar": {
             "outlinewidth": 0,
             "ticks": ""
            },
            "colorscale": [
             [
              0,
              "#0d0887"
             ],
             [
              0.1111111111111111,
              "#46039f"
             ],
             [
              0.2222222222222222,
              "#7201a8"
             ],
             [
              0.3333333333333333,
              "#9c179e"
             ],
             [
              0.4444444444444444,
              "#bd3786"
             ],
             [
              0.5555555555555556,
              "#d8576b"
             ],
             [
              0.6666666666666666,
              "#ed7953"
             ],
             [
              0.7777777777777778,
              "#fb9f3a"
             ],
             [
              0.8888888888888888,
              "#fdca26"
             ],
             [
              1,
              "#f0f921"
             ]
            ],
            "type": "histogram2dcontour"
           }
          ],
          "mesh3d": [
           {
            "colorbar": {
             "outlinewidth": 0,
             "ticks": ""
            },
            "type": "mesh3d"
           }
          ],
          "parcoords": [
           {
            "line": {
             "colorbar": {
              "outlinewidth": 0,
              "ticks": ""
             }
            },
            "type": "parcoords"
           }
          ],
          "pie": [
           {
            "automargin": true,
            "type": "pie"
           }
          ],
          "scatter": [
           {
            "fillpattern": {
             "fillmode": "overlay",
             "size": 10,
             "solidity": 0.2
            },
            "type": "scatter"
           }
          ],
          "scatter3d": [
           {
            "line": {
             "colorbar": {
              "outlinewidth": 0,
              "ticks": ""
             }
            },
            "marker": {
             "colorbar": {
              "outlinewidth": 0,
              "ticks": ""
             }
            },
            "type": "scatter3d"
           }
          ],
          "scattercarpet": [
           {
            "marker": {
             "colorbar": {
              "outlinewidth": 0,
              "ticks": ""
             }
            },
            "type": "scattercarpet"
           }
          ],
          "scattergeo": [
           {
            "marker": {
             "colorbar": {
              "outlinewidth": 0,
              "ticks": ""
             }
            },
            "type": "scattergeo"
           }
          ],
          "scattergl": [
           {
            "marker": {
             "colorbar": {
              "outlinewidth": 0,
              "ticks": ""
             }
            },
            "type": "scattergl"
           }
          ],
          "scattermapbox": [
           {
            "marker": {
             "colorbar": {
              "outlinewidth": 0,
              "ticks": ""
             }
            },
            "type": "scattermapbox"
           }
          ],
          "scatterpolar": [
           {
            "marker": {
             "colorbar": {
              "outlinewidth": 0,
              "ticks": ""
             }
            },
            "type": "scatterpolar"
           }
          ],
          "scatterpolargl": [
           {
            "marker": {
             "colorbar": {
              "outlinewidth": 0,
              "ticks": ""
             }
            },
            "type": "scatterpolargl"
           }
          ],
          "scatterternary": [
           {
            "marker": {
             "colorbar": {
              "outlinewidth": 0,
              "ticks": ""
             }
            },
            "type": "scatterternary"
           }
          ],
          "surface": [
           {
            "colorbar": {
             "outlinewidth": 0,
             "ticks": ""
            },
            "colorscale": [
             [
              0,
              "#0d0887"
             ],
             [
              0.1111111111111111,
              "#46039f"
             ],
             [
              0.2222222222222222,
              "#7201a8"
             ],
             [
              0.3333333333333333,
              "#9c179e"
             ],
             [
              0.4444444444444444,
              "#bd3786"
             ],
             [
              0.5555555555555556,
              "#d8576b"
             ],
             [
              0.6666666666666666,
              "#ed7953"
             ],
             [
              0.7777777777777778,
              "#fb9f3a"
             ],
             [
              0.8888888888888888,
              "#fdca26"
             ],
             [
              1,
              "#f0f921"
             ]
            ],
            "type": "surface"
           }
          ],
          "table": [
           {
            "cells": {
             "fill": {
              "color": "#EBF0F8"
             },
             "line": {
              "color": "white"
             }
            },
            "header": {
             "fill": {
              "color": "#C8D4E3"
             },
             "line": {
              "color": "white"
             }
            },
            "type": "table"
           }
          ]
         },
         "layout": {
          "annotationdefaults": {
           "arrowcolor": "#2a3f5f",
           "arrowhead": 0,
           "arrowwidth": 1
          },
          "autotypenumbers": "strict",
          "coloraxis": {
           "colorbar": {
            "outlinewidth": 0,
            "ticks": ""
           }
          },
          "colorscale": {
           "diverging": [
            [
             0,
             "#8e0152"
            ],
            [
             0.1,
             "#c51b7d"
            ],
            [
             0.2,
             "#de77ae"
            ],
            [
             0.3,
             "#f1b6da"
            ],
            [
             0.4,
             "#fde0ef"
            ],
            [
             0.5,
             "#f7f7f7"
            ],
            [
             0.6,
             "#e6f5d0"
            ],
            [
             0.7,
             "#b8e186"
            ],
            [
             0.8,
             "#7fbc41"
            ],
            [
             0.9,
             "#4d9221"
            ],
            [
             1,
             "#276419"
            ]
           ],
           "sequential": [
            [
             0,
             "#0d0887"
            ],
            [
             0.1111111111111111,
             "#46039f"
            ],
            [
             0.2222222222222222,
             "#7201a8"
            ],
            [
             0.3333333333333333,
             "#9c179e"
            ],
            [
             0.4444444444444444,
             "#bd3786"
            ],
            [
             0.5555555555555556,
             "#d8576b"
            ],
            [
             0.6666666666666666,
             "#ed7953"
            ],
            [
             0.7777777777777778,
             "#fb9f3a"
            ],
            [
             0.8888888888888888,
             "#fdca26"
            ],
            [
             1,
             "#f0f921"
            ]
           ],
           "sequentialminus": [
            [
             0,
             "#0d0887"
            ],
            [
             0.1111111111111111,
             "#46039f"
            ],
            [
             0.2222222222222222,
             "#7201a8"
            ],
            [
             0.3333333333333333,
             "#9c179e"
            ],
            [
             0.4444444444444444,
             "#bd3786"
            ],
            [
             0.5555555555555556,
             "#d8576b"
            ],
            [
             0.6666666666666666,
             "#ed7953"
            ],
            [
             0.7777777777777778,
             "#fb9f3a"
            ],
            [
             0.8888888888888888,
             "#fdca26"
            ],
            [
             1,
             "#f0f921"
            ]
           ]
          },
          "colorway": [
           "#636efa",
           "#EF553B",
           "#00cc96",
           "#ab63fa",
           "#FFA15A",
           "#19d3f3",
           "#FF6692",
           "#B6E880",
           "#FF97FF",
           "#FECB52"
          ],
          "font": {
           "color": "#2a3f5f"
          },
          "geo": {
           "bgcolor": "white",
           "lakecolor": "white",
           "landcolor": "white",
           "showlakes": true,
           "showland": true,
           "subunitcolor": "#C8D4E3"
          },
          "hoverlabel": {
           "align": "left"
          },
          "hovermode": "closest",
          "mapbox": {
           "style": "light"
          },
          "paper_bgcolor": "white",
          "plot_bgcolor": "white",
          "polar": {
           "angularaxis": {
            "gridcolor": "#EBF0F8",
            "linecolor": "#EBF0F8",
            "ticks": ""
           },
           "bgcolor": "white",
           "radialaxis": {
            "gridcolor": "#EBF0F8",
            "linecolor": "#EBF0F8",
            "ticks": ""
           }
          },
          "scene": {
           "xaxis": {
            "backgroundcolor": "white",
            "gridcolor": "#DFE8F3",
            "gridwidth": 2,
            "linecolor": "#EBF0F8",
            "showbackground": true,
            "ticks": "",
            "zerolinecolor": "#EBF0F8"
           },
           "yaxis": {
            "backgroundcolor": "white",
            "gridcolor": "#DFE8F3",
            "gridwidth": 2,
            "linecolor": "#EBF0F8",
            "showbackground": true,
            "ticks": "",
            "zerolinecolor": "#EBF0F8"
           },
           "zaxis": {
            "backgroundcolor": "white",
            "gridcolor": "#DFE8F3",
            "gridwidth": 2,
            "linecolor": "#EBF0F8",
            "showbackground": true,
            "ticks": "",
            "zerolinecolor": "#EBF0F8"
           }
          },
          "shapedefaults": {
           "line": {
            "color": "#2a3f5f"
           }
          },
          "ternary": {
           "aaxis": {
            "gridcolor": "#DFE8F3",
            "linecolor": "#A2B1C6",
            "ticks": ""
           },
           "baxis": {
            "gridcolor": "#DFE8F3",
            "linecolor": "#A2B1C6",
            "ticks": ""
           },
           "bgcolor": "white",
           "caxis": {
            "gridcolor": "#DFE8F3",
            "linecolor": "#A2B1C6",
            "ticks": ""
           }
          },
          "title": {
           "x": 0.05
          },
          "xaxis": {
           "automargin": true,
           "gridcolor": "#EBF0F8",
           "linecolor": "#EBF0F8",
           "ticks": "",
           "title": {
            "standoff": 15
           },
           "zerolinecolor": "#EBF0F8",
           "zerolinewidth": 2
          },
          "yaxis": {
           "automargin": true,
           "gridcolor": "#EBF0F8",
           "linecolor": "#EBF0F8",
           "ticks": "",
           "title": {
            "standoff": 15
           },
           "zerolinecolor": "#EBF0F8",
           "zerolinewidth": 2
          }
         }
        },
        "title": {
         "font": {
          "size": 18
         },
         "text": "Sales Performance for Plastic Crates (Last 12 Months)"
        },
        "width": 1200,
        "xaxis": {
         "anchor": "y",
         "domain": [
          0,
          1
         ],
         "range": [
          0,
          266.21999999999997
         ],
         "tickformat": ",",
         "tickprefix": "€",
         "ticksuffix": "k",
         "title": {
          "text": "Gross Value per Salesowner (k€)"
         }
        },
        "yaxis": {
         "anchor": "x",
         "categoryarray": [
          "Ammy Winehouse",
          "David Henderson",
          "Chris Pratt",
          "Yuri Gagarin",
          "David Goliat",
          "Marie Curie",
          "Luke Skywalker",
          "Leonard Cohen",
          "Marianov Merschik",
          "Leon Leonov"
         ],
         "categoryorder": "array",
         "domain": [
          0,
          1
         ],
         "title": {
          "text": ""
         }
        }
       }
      }
     },
     "metadata": {},
     "output_type": "display_data"
    }
   ],
   "source": [
    "import plotly.express as px\n",
    "\n",
    "# Redondear y convertir a 'k' el valor de gross_per_salesowner\n",
    "sales_performance['gross_per_salesowner_k'] = (sales_performance['gross_per_salesowner'] / 1000).round(2)\n",
    "\n",
    "# Crear un gráfico de barras horizontales en Plotly usando el DataFrame sales_performance\n",
    "fig = px.bar(\n",
    "    sales_performance.sort_values(by='gross_per_salesowner'),\n",
    "    x='gross_per_salesowner_k',\n",
    "    y='salesowners',\n",
    "    orientation='h',\n",
    "    title=\"Sales Performance for Plastic Crates (Last 12 Months)\",\n",
    "    labels={'salesowners': 'Sales Owners', 'gross_per_salesowner_k': 'Gross Value per Salesowner (k€)'},\n",
    "    text='gross_per_salesowner_k',\n",
    "    color='salesowners',\n",
    "    color_discrete_sequence=px.colors.qualitative.Pastel  # Usar la misma paleta pastel\n",
    ")\n",
    "\n",
    "# Estilizar el gráfico para mejorar la legibilidad y el diseño\n",
    "fig.update_traces(texttemplate='%{text}k', textposition='outside', textfont_size=10)  # Ajustar tamaño de la letra a 10\n",
    "fig.update_layout(\n",
    "    title_font_size=18,\n",
    "    xaxis_title=\"Gross Value per Salesowner (k€)\",\n",
    "    yaxis_title=\"\",\n",
    "    xaxis=dict(\n",
    "        tickformat=\",\", \n",
    "        tickprefix=\"€\", \n",
    "        ticksuffix=\"k\",\n",
    "        range=[0, sales_performance['gross_per_salesowner_k'].max() * 1.2]  # Extender el rango de x un 20% adicional\n",
    "    ),\n",
    "    template='plotly_white',\n",
    "    width=1200,  # Aumentar el ancho del lienzo\n",
    "    height=700,  # Opcionalmente aumentar el alto también\n",
    "    showlegend=False\n",
    ")\n",
    "\n",
    "fig.show()"
   ]
  },
  {
   "cell_type": "markdown",
   "metadata": {},
   "source": [
    "6.3 Understand who are by month the top 5 performers selling plastic crates for a rolling 3 months evaluation window\n"
   ]
  },
  {
   "cell_type": "code",
   "execution_count": 203,
   "metadata": {},
   "outputs": [
    {
     "name": "stdout",
     "output_type": "stream",
     "text": [
      "Top 5 performers selling plastic crates for each 3-month rolling window:\n",
      "   year_month        salesowners  gross_rolling_3m  rank\n",
      "4     2021-07       David Goliat     122706.000000   1.0\n",
      "9     2021-07      Leonard Cohen     122706.000000   2.0\n",
      "10    2022-01      Leonard Cohen     230780.000000   1.0\n",
      "0     2022-01     Ammy Winehouse     108074.000000   2.0\n",
      "11    2022-01     Luke Skywalker     108074.000000   3.0\n",
      "5     2022-09       David Goliat     237809.333333   1.0\n",
      "6     2022-09    David Henderson     115103.333333   2.0\n",
      "14    2022-09       Yuri Gagarin     115103.333333   3.0\n",
      "7     2022-10    David Henderson     151470.083333   1.0\n",
      "2     2022-10        Chris Pratt      36366.750000   2.0\n",
      "8     2022-10        Leon Leonov      36366.750000   3.0\n",
      "12    2022-10  Marianov Merschik      36366.750000   4.0\n",
      "1     2022-11     Ammy Winehouse     221845.666667   1.0\n",
      "3     2022-11        Chris Pratt     150138.416667   2.0\n",
      "13    2022-11        Marie Curie     113771.666667   3.0\n"
     ]
    }
   ],
   "source": [
    "import pandas as pd\n",
    "import json\n",
    "\n",
    "# Load file paths\n",
    "orders_filepath = '../data/orders.csv'\n",
    "invoices_filepath = '../data/invoicing_data.json'\n",
    "\n",
    "# Load the CSV file of orders\n",
    "orders_df = pd.read_csv(orders_filepath, delimiter=';')\n",
    "\n",
    "# Load the JSON file of invoices\n",
    "with open(invoices_filepath, 'r') as f:\n",
    "    invoicing_data = json.load(f)[\"data\"][\"invoices\"]\n",
    "\n",
    "# Convert JSON data to a DataFrame\n",
    "invoices_df = pd.json_normalize(invoicing_data)\n",
    "\n",
    "# Ensure date column is in datetime format in orders\n",
    "orders_df['date'] = pd.to_datetime(orders_df['date'], format='%d.%m.%y')\n",
    "\n",
    "# Convert 'grossValue' and 'vat' columns to numeric types\n",
    "invoices_df['grossValue'] = pd.to_numeric(invoices_df['grossValue'], errors='coerce')\n",
    "invoices_df['vat'] = pd.to_numeric(invoices_df['vat'], errors='coerce')\n",
    "\n",
    "# Merge Orders and Invoices Data\n",
    "merged_df = orders_df.merge(invoices_df[['orderId', 'grossValue', 'vat']], left_on='order_id', right_on='orderId', how='left')\n",
    "\n",
    "# Fill missing values in `grossValue` and `vat` with zero\n",
    "merged_df['grossValue'] = merged_df['grossValue'].fillna(0)\n",
    "merged_df['vat'] = merged_df['vat'].fillna(0)\n",
    "\n",
    "# Assign \"Unknown\" to missing values in `salesowners`\n",
    "merged_df['salesowners'] = merged_df['salesowners'].fillna(\"Unknown\")\n",
    "\n",
    "# Remove duplicates based on 'order_id' and keep only the first occurrence\n",
    "merged_df_unique = merged_df.drop_duplicates(subset='order_id', keep='first')\n",
    "\n",
    "# Filter for plastic crate orders only\n",
    "plastic_orders_df = merged_df_unique[merged_df_unique['crate_type'] == 'Plastic'].copy()\n",
    "\n",
    "# Remove rows where orderId is NaN\n",
    "plastic_orders_df = plastic_orders_df.dropna(subset=['orderId']).copy()\n",
    "\n",
    "# Separate salesowners into individual rows\n",
    "plastic_orders_df['salesowners'] = plastic_orders_df['salesowners'].str.split(', ')\n",
    "expanded_orders_df = plastic_orders_df.explode('salesowners').copy()\n",
    "\n",
    "# Calculate gross sales per salesowner for each order\n",
    "expanded_orders_df['salesowner_count'] = expanded_orders_df.groupby('order_id')['salesowners'].transform('count')\n",
    "expanded_orders_df['gross_per_salesowner'] = expanded_orders_df['grossValue'] / expanded_orders_df['salesowner_count']\n",
    "\n",
    "# Create a 'year_month' column in YYYY-MM format\n",
    "expanded_orders_df['year_month'] = expanded_orders_df['date'].dt.to_period('M').astype(str)\n",
    "\n",
    "# Aggregate monthly sales performance per salesowner\n",
    "monthly_sales_performance = (\n",
    "    expanded_orders_df.groupby(['salesowners', 'year_month'])['gross_per_salesowner']\n",
    "    .sum()\n",
    "    .reset_index()\n",
    ")\n",
    "\n",
    "# Convert 'year_month' to a datetime index for rolling calculation\n",
    "monthly_sales_performance['year_month'] = pd.to_datetime(monthly_sales_performance['year_month'], format='%Y-%m')\n",
    "monthly_sales_performance = monthly_sales_performance.sort_values(by=['salesowners', 'year_month'])\n",
    "\n",
    "# Calculate 3-month rolling sum for gross sales\n",
    "monthly_sales_performance['gross_rolling_3m'] = (\n",
    "    monthly_sales_performance.groupby('salesowners')['gross_per_salesowner']\n",
    "    .rolling(window=3, min_periods=1)\n",
    "    .sum()\n",
    "    .reset_index(drop=True)\n",
    ")\n",
    "\n",
    "# Convert 'year_month' back to a period format for display\n",
    "monthly_sales_performance['year_month'] = monthly_sales_performance['year_month'].dt.to_period('M').astype(str)\n",
    "\n",
    "# Sort by 'year_month' and 'gross_rolling_3m' in descending order to rank within each month\n",
    "monthly_sales_performance = (\n",
    "    monthly_sales_performance.sort_values(by=['year_month', 'gross_rolling_3m'], ascending=[True, False])\n",
    ")\n",
    "\n",
    "# Rank the salesowners within each month\n",
    "monthly_sales_performance['rank'] = monthly_sales_performance.groupby('year_month')['gross_rolling_3m'].rank(method='first', ascending=False)\n",
    "\n",
    "# Filter to keep only the top 5 for each month\n",
    "top_5_performers_3m = monthly_sales_performance[monthly_sales_performance['rank'] <= 5]\n",
    "\n",
    "# Display the final table with top 5 performers per month\n",
    "print(\"Top 5 performers selling plastic crates for each 3-month rolling window:\")\n",
    "print(top_5_performers_3m[['year_month', 'salesowners', 'gross_rolling_3m', 'rank']])"
   ]
  },
  {
   "cell_type": "code",
   "execution_count": 220,
   "metadata": {},
   "outputs": [
    {
     "name": "stdout",
     "output_type": "stream",
     "text": [
      "Top 5 performers selling plastic crates for each 3-month rolling window:\n",
      "          salesowners year_month  gross_per_salesowner  gross_rolling_3m  rank\n",
      "0        David Goliat    2021-07             122706.00         122706.00   1.0\n",
      "1       Leonard Cohen    2021-07             122706.00         122706.00   2.0\n",
      "2       Leonard Cohen    2022-01             108074.00         230780.00   1.0\n",
      "3      Ammy Winehouse    2022-01             108074.00         108074.00   2.0\n",
      "4      Luke Skywalker    2022-01             108074.00         108074.00   3.0\n",
      "5        David Goliat    2022-09             115103.33         237809.33   1.0\n",
      "6     David Henderson    2022-09             115103.33         115103.33   2.0\n",
      "7        Yuri Gagarin    2022-09             115103.33         115103.33   3.0\n",
      "8     David Henderson    2022-10              36366.75         151470.08   1.0\n",
      "9         Chris Pratt    2022-10              36366.75          36366.75   2.0\n",
      "10        Leon Leonov    2022-10              36366.75          36366.75   3.0\n",
      "11  Marianov Merschik    2022-10              36366.75          36366.75   4.0\n",
      "12     Ammy Winehouse    2022-11             113771.67         221845.67   1.0\n",
      "13        Chris Pratt    2022-11             113771.67         150138.42   2.0\n",
      "14        Marie Curie    2022-11             113771.67         113771.67   3.0\n"
     ]
    }
   ],
   "source": [
    "import pandas as pd\n",
    "import json\n",
    "from datetime import timedelta\n",
    "\n",
    "# Function to load orders data\n",
    "def load_orders_data(filepath):\n",
    "    try:\n",
    "        orders_df = pd.read_csv(filepath, delimiter=';')\n",
    "        orders_df['date'] = pd.to_datetime(orders_df['date'], format='%d.%m.%y', errors='coerce')\n",
    "        if orders_df['date'].isnull().any():\n",
    "            raise ValueError(\"Some dates could not be parsed.\")\n",
    "        return orders_df\n",
    "    except Exception as e:\n",
    "        raise RuntimeError(f\"Error loading orders data: {e}\")\n",
    "\n",
    "# Function to load invoicing data\n",
    "def load_invoices_data(filepath):\n",
    "    try:\n",
    "        with open(filepath, 'r') as f:\n",
    "            invoicing_data = json.load(f).get(\"data\", {}).get(\"invoices\", [])\n",
    "            if not invoicing_data:\n",
    "                raise ValueError(\"No invoices data found.\")\n",
    "        invoices_df = pd.json_normalize(invoicing_data)\n",
    "        invoices_df['grossValue'] = pd.to_numeric(invoices_df['grossValue'], errors='coerce').fillna(0)\n",
    "        invoices_df['vat'] = pd.to_numeric(invoices_df['vat'], errors='coerce').fillna(0)\n",
    "        return invoices_df\n",
    "    except Exception as e:\n",
    "        raise RuntimeError(f\"Error loading invoicing data: {e}\")\n",
    "\n",
    "# Function to merge data and prepare the dataset\n",
    "def prepare_data(orders_df, invoices_df):\n",
    "    try:\n",
    "        merged_df = orders_df.merge(invoices_df[['orderId', 'grossValue', 'vat']], left_on='order_id', right_on='orderId', how='left')\n",
    "        merged_df['grossValue'] = merged_df['grossValue'].fillna(0)\n",
    "        merged_df['vat'] = merged_df['vat'].fillna(0)\n",
    "        merged_df['salesowners'] = merged_df['salesowners'].fillna(\"Unknown\")\n",
    "        merged_df_unique = merged_df.drop_duplicates(subset='order_id', keep='first')\n",
    "        plastic_orders_df = merged_df_unique[merged_df_unique['crate_type'] == 'Plastic'].dropna(subset=['orderId']).copy()\n",
    "        return plastic_orders_df\n",
    "    except KeyError as e:\n",
    "        raise KeyError(f\"Missing expected column: {e}\")\n",
    "    except Exception as e:\n",
    "        raise RuntimeError(f\"Error preparing data: {e}\")\n",
    "\n",
    "# Function to expand and calculate gross per salesowner\n",
    "def expand_salesowners(plastic_orders_df):\n",
    "    try:\n",
    "        plastic_orders_df['salesowners'] = plastic_orders_df['salesowners'].str.split(', ')\n",
    "        expanded_orders_df = plastic_orders_df.explode('salesowners').copy()\n",
    "        expanded_orders_df['salesowner_count'] = expanded_orders_df.groupby('order_id')['salesowners'].transform('count')\n",
    "        expanded_orders_df['gross_per_salesowner'] = (expanded_orders_df['grossValue'] / expanded_orders_df['salesowner_count']).round(2)\n",
    "        expanded_orders_df['year_month'] = expanded_orders_df['date'].dt.to_period('M').astype(str)\n",
    "        return expanded_orders_df\n",
    "    except Exception as e:\n",
    "        raise RuntimeError(f\"Error expanding salesowners data: {e}\")\n",
    "\n",
    "# Function to calculate top performers for a rolling 3-month period\n",
    "def calculate_top_performers(expanded_orders_df):\n",
    "    try:\n",
    "        monthly_sales_performance = (\n",
    "            expanded_orders_df.groupby(['salesowners', 'year_month'])['gross_per_salesowner']\n",
    "            .sum()\n",
    "            .reset_index()\n",
    "        )\n",
    "        monthly_sales_performance['year_month'] = pd.to_datetime(monthly_sales_performance['year_month'], format='%Y-%m')\n",
    "        monthly_sales_performance = monthly_sales_performance.sort_values(by=['salesowners', 'year_month'])\n",
    "        \n",
    "        monthly_sales_performance['gross_rolling_3m'] = (\n",
    "            monthly_sales_performance.groupby('salesowners')['gross_per_salesowner']\n",
    "            .rolling(window=3, min_periods=1)\n",
    "            .sum()\n",
    "            .reset_index(drop=True)\n",
    "        )\n",
    "        \n",
    "        monthly_sales_performance['year_month'] = monthly_sales_performance['year_month'].dt.to_period('M').astype(str)\n",
    "        top_5_performers_3m = (\n",
    "            monthly_sales_performance.sort_values(by=['year_month', 'gross_rolling_3m'], ascending=[True, False])\n",
    "            .groupby('year_month')\n",
    "            .head(5)\n",
    "        )\n",
    "        top_5_performers_3m['rank'] = top_5_performers_3m.groupby('year_month')['gross_rolling_3m'].rank(ascending=False, method='first')\n",
    "        # reset index\n",
    "        top_5_performers_3m = top_5_performers_3m.reset_index(drop=True)\n",
    "        return top_5_performers_3m\n",
    "    except Exception as e:\n",
    "        raise RuntimeError(f\"Error calculating top performers: {e}\")\n",
    "\n",
    "# Main function to orchestrate the workflow\n",
    "def main(orders_filepath, invoices_filepath):\n",
    "    try:\n",
    "        orders_df = load_orders_data(orders_filepath)\n",
    "        invoices_df = load_invoices_data(invoices_filepath)\n",
    "        plastic_orders_df = prepare_data(orders_df, invoices_df)\n",
    "        expanded_orders_df = expand_salesowners(plastic_orders_df)\n",
    "        top_5_performers = calculate_top_performers(expanded_orders_df)\n",
    "    \n",
    "        print(\"Top 5 performers selling plastic crates for each 3-month rolling window:\")\n",
    "        print(top_5_performers)\n",
    "        return top_5_performers\n",
    "    except Exception as e:\n",
    "        print(f\"An error occurred: {e}\")\n",
    "\n",
    "# Run the main function\n",
    "orders_filepath = '../data/orders.csv'  # Update paths as needed\n",
    "invoices_filepath = '../data/invoicing_data.json'\n",
    "top_5_performers = main(orders_filepath, invoices_filepath)"
   ]
  },
  {
   "cell_type": "code",
   "execution_count": 211,
   "metadata": {},
   "outputs": [
    {
     "data": {
      "application/vnd.plotly.v1+json": {
       "config": {
        "plotlyServerURL": "https://plot.ly"
       },
       "data": [
        {
         "cells": {
          "align": "center",
          "fill": {
           "color": "white"
          },
          "font": {
           "size": 11
          },
          "values": [
           [
            "2021-07",
            "2021-07",
            "2022-01",
            "2022-01",
            "2022-01",
            "2022-09",
            "2022-09",
            "2022-09",
            "2022-10",
            "2022-10",
            "2022-10",
            "2022-10",
            "2022-11",
            "2022-11",
            "2022-11"
           ],
           [
            "David Goliat",
            "Leonard Cohen",
            "Leonard Cohen",
            "Ammy Winehouse",
            "Luke Skywalker",
            "David Goliat",
            "David Henderson",
            "Yuri Gagarin",
            "David Henderson",
            "Chris Pratt",
            "Leon Leonov",
            "Marianov Merschik",
            "Ammy Winehouse",
            "Chris Pratt",
            "Marie Curie"
           ],
           [
            "122,706.00",
            "122,706.00",
            "230,780.00",
            "108,074.00",
            "108,074.00",
            "237,809.33",
            "115,103.33",
            "115,103.33",
            "151,470.08",
            "36,366.75",
            "36,366.75",
            "36,366.75",
            "221,845.67",
            "150,138.42",
            "113,771.67"
           ],
           [
            1,
            2,
            1,
            2,
            3,
            1,
            2,
            3,
            1,
            2,
            3,
            4,
            1,
            2,
            3
           ]
          ]
         },
         "header": {
          "align": "center",
          "fill": {
           "color": "lightblue"
          },
          "font": {
           "color": "black",
           "size": 12
          },
          "values": [
           "Year-Month",
           "Salesowner",
           "Gross Rolling 3M (€)",
           "Rank"
          ]
         },
         "type": "table"
        }
       ],
       "layout": {
        "height": 500,
        "margin": {
         "b": 20,
         "l": 20,
         "r": 20,
         "t": 60
        },
        "template": {
         "data": {
          "bar": [
           {
            "error_x": {
             "color": "#2a3f5f"
            },
            "error_y": {
             "color": "#2a3f5f"
            },
            "marker": {
             "line": {
              "color": "#E5ECF6",
              "width": 0.5
             },
             "pattern": {
              "fillmode": "overlay",
              "size": 10,
              "solidity": 0.2
             }
            },
            "type": "bar"
           }
          ],
          "barpolar": [
           {
            "marker": {
             "line": {
              "color": "#E5ECF6",
              "width": 0.5
             },
             "pattern": {
              "fillmode": "overlay",
              "size": 10,
              "solidity": 0.2
             }
            },
            "type": "barpolar"
           }
          ],
          "carpet": [
           {
            "aaxis": {
             "endlinecolor": "#2a3f5f",
             "gridcolor": "white",
             "linecolor": "white",
             "minorgridcolor": "white",
             "startlinecolor": "#2a3f5f"
            },
            "baxis": {
             "endlinecolor": "#2a3f5f",
             "gridcolor": "white",
             "linecolor": "white",
             "minorgridcolor": "white",
             "startlinecolor": "#2a3f5f"
            },
            "type": "carpet"
           }
          ],
          "choropleth": [
           {
            "colorbar": {
             "outlinewidth": 0,
             "ticks": ""
            },
            "type": "choropleth"
           }
          ],
          "contour": [
           {
            "colorbar": {
             "outlinewidth": 0,
             "ticks": ""
            },
            "colorscale": [
             [
              0,
              "#0d0887"
             ],
             [
              0.1111111111111111,
              "#46039f"
             ],
             [
              0.2222222222222222,
              "#7201a8"
             ],
             [
              0.3333333333333333,
              "#9c179e"
             ],
             [
              0.4444444444444444,
              "#bd3786"
             ],
             [
              0.5555555555555556,
              "#d8576b"
             ],
             [
              0.6666666666666666,
              "#ed7953"
             ],
             [
              0.7777777777777778,
              "#fb9f3a"
             ],
             [
              0.8888888888888888,
              "#fdca26"
             ],
             [
              1,
              "#f0f921"
             ]
            ],
            "type": "contour"
           }
          ],
          "contourcarpet": [
           {
            "colorbar": {
             "outlinewidth": 0,
             "ticks": ""
            },
            "type": "contourcarpet"
           }
          ],
          "heatmap": [
           {
            "colorbar": {
             "outlinewidth": 0,
             "ticks": ""
            },
            "colorscale": [
             [
              0,
              "#0d0887"
             ],
             [
              0.1111111111111111,
              "#46039f"
             ],
             [
              0.2222222222222222,
              "#7201a8"
             ],
             [
              0.3333333333333333,
              "#9c179e"
             ],
             [
              0.4444444444444444,
              "#bd3786"
             ],
             [
              0.5555555555555556,
              "#d8576b"
             ],
             [
              0.6666666666666666,
              "#ed7953"
             ],
             [
              0.7777777777777778,
              "#fb9f3a"
             ],
             [
              0.8888888888888888,
              "#fdca26"
             ],
             [
              1,
              "#f0f921"
             ]
            ],
            "type": "heatmap"
           }
          ],
          "heatmapgl": [
           {
            "colorbar": {
             "outlinewidth": 0,
             "ticks": ""
            },
            "colorscale": [
             [
              0,
              "#0d0887"
             ],
             [
              0.1111111111111111,
              "#46039f"
             ],
             [
              0.2222222222222222,
              "#7201a8"
             ],
             [
              0.3333333333333333,
              "#9c179e"
             ],
             [
              0.4444444444444444,
              "#bd3786"
             ],
             [
              0.5555555555555556,
              "#d8576b"
             ],
             [
              0.6666666666666666,
              "#ed7953"
             ],
             [
              0.7777777777777778,
              "#fb9f3a"
             ],
             [
              0.8888888888888888,
              "#fdca26"
             ],
             [
              1,
              "#f0f921"
             ]
            ],
            "type": "heatmapgl"
           }
          ],
          "histogram": [
           {
            "marker": {
             "pattern": {
              "fillmode": "overlay",
              "size": 10,
              "solidity": 0.2
             }
            },
            "type": "histogram"
           }
          ],
          "histogram2d": [
           {
            "colorbar": {
             "outlinewidth": 0,
             "ticks": ""
            },
            "colorscale": [
             [
              0,
              "#0d0887"
             ],
             [
              0.1111111111111111,
              "#46039f"
             ],
             [
              0.2222222222222222,
              "#7201a8"
             ],
             [
              0.3333333333333333,
              "#9c179e"
             ],
             [
              0.4444444444444444,
              "#bd3786"
             ],
             [
              0.5555555555555556,
              "#d8576b"
             ],
             [
              0.6666666666666666,
              "#ed7953"
             ],
             [
              0.7777777777777778,
              "#fb9f3a"
             ],
             [
              0.8888888888888888,
              "#fdca26"
             ],
             [
              1,
              "#f0f921"
             ]
            ],
            "type": "histogram2d"
           }
          ],
          "histogram2dcontour": [
           {
            "colorbar": {
             "outlinewidth": 0,
             "ticks": ""
            },
            "colorscale": [
             [
              0,
              "#0d0887"
             ],
             [
              0.1111111111111111,
              "#46039f"
             ],
             [
              0.2222222222222222,
              "#7201a8"
             ],
             [
              0.3333333333333333,
              "#9c179e"
             ],
             [
              0.4444444444444444,
              "#bd3786"
             ],
             [
              0.5555555555555556,
              "#d8576b"
             ],
             [
              0.6666666666666666,
              "#ed7953"
             ],
             [
              0.7777777777777778,
              "#fb9f3a"
             ],
             [
              0.8888888888888888,
              "#fdca26"
             ],
             [
              1,
              "#f0f921"
             ]
            ],
            "type": "histogram2dcontour"
           }
          ],
          "mesh3d": [
           {
            "colorbar": {
             "outlinewidth": 0,
             "ticks": ""
            },
            "type": "mesh3d"
           }
          ],
          "parcoords": [
           {
            "line": {
             "colorbar": {
              "outlinewidth": 0,
              "ticks": ""
             }
            },
            "type": "parcoords"
           }
          ],
          "pie": [
           {
            "automargin": true,
            "type": "pie"
           }
          ],
          "scatter": [
           {
            "fillpattern": {
             "fillmode": "overlay",
             "size": 10,
             "solidity": 0.2
            },
            "type": "scatter"
           }
          ],
          "scatter3d": [
           {
            "line": {
             "colorbar": {
              "outlinewidth": 0,
              "ticks": ""
             }
            },
            "marker": {
             "colorbar": {
              "outlinewidth": 0,
              "ticks": ""
             }
            },
            "type": "scatter3d"
           }
          ],
          "scattercarpet": [
           {
            "marker": {
             "colorbar": {
              "outlinewidth": 0,
              "ticks": ""
             }
            },
            "type": "scattercarpet"
           }
          ],
          "scattergeo": [
           {
            "marker": {
             "colorbar": {
              "outlinewidth": 0,
              "ticks": ""
             }
            },
            "type": "scattergeo"
           }
          ],
          "scattergl": [
           {
            "marker": {
             "colorbar": {
              "outlinewidth": 0,
              "ticks": ""
             }
            },
            "type": "scattergl"
           }
          ],
          "scattermapbox": [
           {
            "marker": {
             "colorbar": {
              "outlinewidth": 0,
              "ticks": ""
             }
            },
            "type": "scattermapbox"
           }
          ],
          "scatterpolar": [
           {
            "marker": {
             "colorbar": {
              "outlinewidth": 0,
              "ticks": ""
             }
            },
            "type": "scatterpolar"
           }
          ],
          "scatterpolargl": [
           {
            "marker": {
             "colorbar": {
              "outlinewidth": 0,
              "ticks": ""
             }
            },
            "type": "scatterpolargl"
           }
          ],
          "scatterternary": [
           {
            "marker": {
             "colorbar": {
              "outlinewidth": 0,
              "ticks": ""
             }
            },
            "type": "scatterternary"
           }
          ],
          "surface": [
           {
            "colorbar": {
             "outlinewidth": 0,
             "ticks": ""
            },
            "colorscale": [
             [
              0,
              "#0d0887"
             ],
             [
              0.1111111111111111,
              "#46039f"
             ],
             [
              0.2222222222222222,
              "#7201a8"
             ],
             [
              0.3333333333333333,
              "#9c179e"
             ],
             [
              0.4444444444444444,
              "#bd3786"
             ],
             [
              0.5555555555555556,
              "#d8576b"
             ],
             [
              0.6666666666666666,
              "#ed7953"
             ],
             [
              0.7777777777777778,
              "#fb9f3a"
             ],
             [
              0.8888888888888888,
              "#fdca26"
             ],
             [
              1,
              "#f0f921"
             ]
            ],
            "type": "surface"
           }
          ],
          "table": [
           {
            "cells": {
             "fill": {
              "color": "#EBF0F8"
             },
             "line": {
              "color": "white"
             }
            },
            "header": {
             "fill": {
              "color": "#C8D4E3"
             },
             "line": {
              "color": "white"
             }
            },
            "type": "table"
           }
          ]
         },
         "layout": {
          "annotationdefaults": {
           "arrowcolor": "#2a3f5f",
           "arrowhead": 0,
           "arrowwidth": 1
          },
          "autotypenumbers": "strict",
          "coloraxis": {
           "colorbar": {
            "outlinewidth": 0,
            "ticks": ""
           }
          },
          "colorscale": {
           "diverging": [
            [
             0,
             "#8e0152"
            ],
            [
             0.1,
             "#c51b7d"
            ],
            [
             0.2,
             "#de77ae"
            ],
            [
             0.3,
             "#f1b6da"
            ],
            [
             0.4,
             "#fde0ef"
            ],
            [
             0.5,
             "#f7f7f7"
            ],
            [
             0.6,
             "#e6f5d0"
            ],
            [
             0.7,
             "#b8e186"
            ],
            [
             0.8,
             "#7fbc41"
            ],
            [
             0.9,
             "#4d9221"
            ],
            [
             1,
             "#276419"
            ]
           ],
           "sequential": [
            [
             0,
             "#0d0887"
            ],
            [
             0.1111111111111111,
             "#46039f"
            ],
            [
             0.2222222222222222,
             "#7201a8"
            ],
            [
             0.3333333333333333,
             "#9c179e"
            ],
            [
             0.4444444444444444,
             "#bd3786"
            ],
            [
             0.5555555555555556,
             "#d8576b"
            ],
            [
             0.6666666666666666,
             "#ed7953"
            ],
            [
             0.7777777777777778,
             "#fb9f3a"
            ],
            [
             0.8888888888888888,
             "#fdca26"
            ],
            [
             1,
             "#f0f921"
            ]
           ],
           "sequentialminus": [
            [
             0,
             "#0d0887"
            ],
            [
             0.1111111111111111,
             "#46039f"
            ],
            [
             0.2222222222222222,
             "#7201a8"
            ],
            [
             0.3333333333333333,
             "#9c179e"
            ],
            [
             0.4444444444444444,
             "#bd3786"
            ],
            [
             0.5555555555555556,
             "#d8576b"
            ],
            [
             0.6666666666666666,
             "#ed7953"
            ],
            [
             0.7777777777777778,
             "#fb9f3a"
            ],
            [
             0.8888888888888888,
             "#fdca26"
            ],
            [
             1,
             "#f0f921"
            ]
           ]
          },
          "colorway": [
           "#636efa",
           "#EF553B",
           "#00cc96",
           "#ab63fa",
           "#FFA15A",
           "#19d3f3",
           "#FF6692",
           "#B6E880",
           "#FF97FF",
           "#FECB52"
          ],
          "font": {
           "color": "#2a3f5f"
          },
          "geo": {
           "bgcolor": "white",
           "lakecolor": "white",
           "landcolor": "#E5ECF6",
           "showlakes": true,
           "showland": true,
           "subunitcolor": "white"
          },
          "hoverlabel": {
           "align": "left"
          },
          "hovermode": "closest",
          "mapbox": {
           "style": "light"
          },
          "paper_bgcolor": "white",
          "plot_bgcolor": "#E5ECF6",
          "polar": {
           "angularaxis": {
            "gridcolor": "white",
            "linecolor": "white",
            "ticks": ""
           },
           "bgcolor": "#E5ECF6",
           "radialaxis": {
            "gridcolor": "white",
            "linecolor": "white",
            "ticks": ""
           }
          },
          "scene": {
           "xaxis": {
            "backgroundcolor": "#E5ECF6",
            "gridcolor": "white",
            "gridwidth": 2,
            "linecolor": "white",
            "showbackground": true,
            "ticks": "",
            "zerolinecolor": "white"
           },
           "yaxis": {
            "backgroundcolor": "#E5ECF6",
            "gridcolor": "white",
            "gridwidth": 2,
            "linecolor": "white",
            "showbackground": true,
            "ticks": "",
            "zerolinecolor": "white"
           },
           "zaxis": {
            "backgroundcolor": "#E5ECF6",
            "gridcolor": "white",
            "gridwidth": 2,
            "linecolor": "white",
            "showbackground": true,
            "ticks": "",
            "zerolinecolor": "white"
           }
          },
          "shapedefaults": {
           "line": {
            "color": "#2a3f5f"
           }
          },
          "ternary": {
           "aaxis": {
            "gridcolor": "white",
            "linecolor": "white",
            "ticks": ""
           },
           "baxis": {
            "gridcolor": "white",
            "linecolor": "white",
            "ticks": ""
           },
           "bgcolor": "#E5ECF6",
           "caxis": {
            "gridcolor": "white",
            "linecolor": "white",
            "ticks": ""
           }
          },
          "title": {
           "x": 0.05
          },
          "xaxis": {
           "automargin": true,
           "gridcolor": "white",
           "linecolor": "white",
           "ticks": "",
           "title": {
            "standoff": 15
           },
           "zerolinecolor": "white",
           "zerolinewidth": 2
          },
          "yaxis": {
           "automargin": true,
           "gridcolor": "white",
           "linecolor": "white",
           "ticks": "",
           "title": {
            "standoff": 15
           },
           "zerolinecolor": "white",
           "zerolinewidth": 2
          }
         }
        },
        "title": {
         "text": "Top 5 Performers Selling Plastic Crates for Each 3-Month Rolling Window",
         "x": 0.5
        },
        "width": 800
       }
      }
     },
     "metadata": {},
     "output_type": "display_data"
    }
   ],
   "source": [
    "import plotly.graph_objects as go\n",
    "\n",
    "# Format the \"Gross Rolling 3M\" column with a thousands separator\n",
    "top_5_performers[\"gross_rolling_3m_formatted\"] = top_5_performers[\"gross_rolling_3m\"].map(\"{:,.2f}\".format)\n",
    "\n",
    "# Create a Plotly Table to display the top 5 performers with thousands separators\n",
    "def display_top_performers_table(top_5_performers):\n",
    "    fig = go.Figure(\n",
    "        data=[\n",
    "            go.Table(\n",
    "                header=dict(\n",
    "                    values=[\"Year-Month\", \"Salesowner\", \"Gross Rolling 3M (€)\", \"Rank\"],\n",
    "                    fill_color=\"lightblue\",\n",
    "                    align=\"center\",\n",
    "                    font=dict(size=12, color=\"black\"),\n",
    "                ),\n",
    "                cells=dict(\n",
    "                    values=[\n",
    "                        top_5_performers[\"year_month\"],\n",
    "                        top_5_performers[\"salesowners\"],\n",
    "                        top_5_performers[\"gross_rolling_3m_formatted\"],\n",
    "                        top_5_performers[\"rank\"].astype(int),\n",
    "                    ],\n",
    "                    fill_color=\"white\",\n",
    "                    align=\"center\",\n",
    "                    font=dict(size=11),\n",
    "                ),\n",
    "            )\n",
    "        ]\n",
    "    )\n",
    "    fig.update_layout(\n",
    "        title=\"Top 5 Performers Selling Plastic Crates for Each 3-Month Rolling Window\",\n",
    "        title_x=0.5,\n",
    "        margin=dict(l=20, r=20, t=60, b=20),\n",
    "        width=800,\n",
    "        height=500,\n",
    "    )\n",
    "    fig.show()\n",
    "\n",
    "# Display the table\n",
    "display_top_performers_table(top_5_performers)"
   ]
  }
 ],
 "metadata": {
  "kernelspec": {
   "display_name": ".data_eng",
   "language": "python",
   "name": "python3"
  },
  "language_info": {
   "codemirror_mode": {
    "name": "ipython",
    "version": 3
   },
   "file_extension": ".py",
   "mimetype": "text/x-python",
   "name": "python",
   "nbconvert_exporter": "python",
   "pygments_lexer": "ipython3",
   "version": "3.11.5"
  }
 },
 "nbformat": 4,
 "nbformat_minor": 2
}
